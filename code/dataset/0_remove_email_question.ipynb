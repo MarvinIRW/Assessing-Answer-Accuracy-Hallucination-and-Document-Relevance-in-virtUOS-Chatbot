{
 "cells": [
  {
   "cell_type": "code",
   "execution_count": 1,
   "metadata": {},
   "outputs": [],
   "source": [
    "import pandas as pd\n",
    "\n",
    "# load the survey data from csv file\n",
    "survey_data = pd.read_csv('../../data/sensitive/raw_questions_12_12_24.csv')\n",
    "\n",
    "# only keep the column 'email'\n",
    "survey_data_email = survey_data[['email']]\n",
    "\n",
    "# randomize the order of the rows for anonymity\n",
    "survey_data_email = survey_data_email.sample(frac=1).reset_index(drop=True)\n",
    "\n",
    "# remove empty rows\n",
    "survey_data_email = survey_data_email.dropna().reset_index(drop=True)\n",
    "\n",
    "# remove emails that are not ending with '@uos.de' or '@uni-osnabrueck.de'\n",
    "survey_data_email = survey_data_email[survey_data_email['email'].str.endswith(('@uos.de', '@uni-osnabrueck.de'))]\n",
    "\n",
    "# save the anonymized email data to a new csv file\n",
    "survey_data_email.to_csv('../../data/sensitive/questions_12_12_24_emails.csv', index=False)\n",
    "\n",
    "# drop the column 'email'\n",
    "survey_data = survey_data.drop(columns=['email'])\n",
    "\n",
    "# save the data without the email column to a new csv file\n",
    "survey_data.to_csv('../../data/question_survey/questions_12_12_24_noemail.csv', index=False)"
   ]
  }
 ],
 "metadata": {
  "kernelspec": {
   "display_name": "survey_analysis",
   "language": "python",
   "name": "python3"
  },
  "language_info": {
   "codemirror_mode": {
    "name": "ipython",
    "version": 3
   },
   "file_extension": ".py",
   "mimetype": "text/x-python",
   "name": "python",
   "nbconvert_exporter": "python",
   "pygments_lexer": "ipython3",
   "version": "3.10.15"
  }
 },
 "nbformat": 4,
 "nbformat_minor": 2
}
