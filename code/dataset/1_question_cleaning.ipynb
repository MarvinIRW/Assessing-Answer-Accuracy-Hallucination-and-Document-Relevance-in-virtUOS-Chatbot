{
 "cells": [
  {
   "cell_type": "code",
   "execution_count": 1,
   "metadata": {},
   "outputs": [
    {
     "data": {
      "text/html": [
       "<div>\n",
       "<style scoped>\n",
       "    .dataframe tbody tr th:only-of-type {\n",
       "        vertical-align: middle;\n",
       "    }\n",
       "\n",
       "    .dataframe tbody tr th {\n",
       "        vertical-align: top;\n",
       "    }\n",
       "\n",
       "    .dataframe thead th {\n",
       "        text-align: right;\n",
       "    }\n",
       "</style>\n",
       "<table border=\"1\" class=\"dataframe\">\n",
       "  <thead>\n",
       "    <tr style=\"text-align: right;\">\n",
       "      <th></th>\n",
       "      <th>id</th>\n",
       "      <th>submitdate</th>\n",
       "      <th>lastpage</th>\n",
       "      <th>startlanguage</th>\n",
       "      <th>seed</th>\n",
       "      <th>age</th>\n",
       "      <th>gender</th>\n",
       "      <th>gender[other]</th>\n",
       "      <th>educationlevel</th>\n",
       "      <th>educationstatus</th>\n",
       "      <th>...</th>\n",
       "      <th>q9Time</th>\n",
       "      <th>q10Time</th>\n",
       "      <th>q11Time</th>\n",
       "      <th>q12Time</th>\n",
       "      <th>q13Time</th>\n",
       "      <th>q14Time</th>\n",
       "      <th>q15Time</th>\n",
       "      <th>langcodeTime</th>\n",
       "      <th>groupTime95801</th>\n",
       "      <th>emailTime</th>\n",
       "    </tr>\n",
       "  </thead>\n",
       "  <tbody>\n",
       "    <tr>\n",
       "      <th>0</th>\n",
       "      <td>15</td>\n",
       "      <td>NaN</td>\n",
       "      <td>NaN</td>\n",
       "      <td>de</td>\n",
       "      <td>1176674547</td>\n",
       "      <td>NaN</td>\n",
       "      <td>NaN</td>\n",
       "      <td>NaN</td>\n",
       "      <td>NaN</td>\n",
       "      <td>NaN</td>\n",
       "      <td>...</td>\n",
       "      <td>NaN</td>\n",
       "      <td>NaN</td>\n",
       "      <td>NaN</td>\n",
       "      <td>NaN</td>\n",
       "      <td>NaN</td>\n",
       "      <td>NaN</td>\n",
       "      <td>NaN</td>\n",
       "      <td>NaN</td>\n",
       "      <td>NaN</td>\n",
       "      <td>NaN</td>\n",
       "    </tr>\n",
       "    <tr>\n",
       "      <th>1</th>\n",
       "      <td>16</td>\n",
       "      <td>1980-01-01 00:00:00</td>\n",
       "      <td>3.0</td>\n",
       "      <td>de</td>\n",
       "      <td>26659429</td>\n",
       "      <td>A2</td>\n",
       "      <td>A1</td>\n",
       "      <td>NaN</td>\n",
       "      <td>A4</td>\n",
       "      <td>A4</td>\n",
       "      <td>...</td>\n",
       "      <td>NaN</td>\n",
       "      <td>NaN</td>\n",
       "      <td>NaN</td>\n",
       "      <td>NaN</td>\n",
       "      <td>NaN</td>\n",
       "      <td>NaN</td>\n",
       "      <td>NaN</td>\n",
       "      <td>NaN</td>\n",
       "      <td>19.23</td>\n",
       "      <td>NaN</td>\n",
       "    </tr>\n",
       "    <tr>\n",
       "      <th>2</th>\n",
       "      <td>17</td>\n",
       "      <td>1980-01-01 00:00:00</td>\n",
       "      <td>3.0</td>\n",
       "      <td>en</td>\n",
       "      <td>1733042433</td>\n",
       "      <td>A2</td>\n",
       "      <td>A2</td>\n",
       "      <td>NaN</td>\n",
       "      <td>A4</td>\n",
       "      <td>A4</td>\n",
       "      <td>...</td>\n",
       "      <td>NaN</td>\n",
       "      <td>NaN</td>\n",
       "      <td>NaN</td>\n",
       "      <td>NaN</td>\n",
       "      <td>NaN</td>\n",
       "      <td>NaN</td>\n",
       "      <td>NaN</td>\n",
       "      <td>NaN</td>\n",
       "      <td>19.71</td>\n",
       "      <td>NaN</td>\n",
       "    </tr>\n",
       "    <tr>\n",
       "      <th>3</th>\n",
       "      <td>18</td>\n",
       "      <td>1980-01-01 00:00:00</td>\n",
       "      <td>3.0</td>\n",
       "      <td>de</td>\n",
       "      <td>1585812275</td>\n",
       "      <td>A2</td>\n",
       "      <td>A1</td>\n",
       "      <td>NaN</td>\n",
       "      <td>A4</td>\n",
       "      <td>A4</td>\n",
       "      <td>...</td>\n",
       "      <td>NaN</td>\n",
       "      <td>NaN</td>\n",
       "      <td>NaN</td>\n",
       "      <td>NaN</td>\n",
       "      <td>NaN</td>\n",
       "      <td>NaN</td>\n",
       "      <td>NaN</td>\n",
       "      <td>NaN</td>\n",
       "      <td>16.84</td>\n",
       "      <td>NaN</td>\n",
       "    </tr>\n",
       "    <tr>\n",
       "      <th>4</th>\n",
       "      <td>19</td>\n",
       "      <td>1980-01-01 00:00:00</td>\n",
       "      <td>3.0</td>\n",
       "      <td>de</td>\n",
       "      <td>380140469</td>\n",
       "      <td>A3</td>\n",
       "      <td>A2</td>\n",
       "      <td>NaN</td>\n",
       "      <td>A5</td>\n",
       "      <td>A4</td>\n",
       "      <td>...</td>\n",
       "      <td>NaN</td>\n",
       "      <td>NaN</td>\n",
       "      <td>NaN</td>\n",
       "      <td>NaN</td>\n",
       "      <td>NaN</td>\n",
       "      <td>NaN</td>\n",
       "      <td>NaN</td>\n",
       "      <td>NaN</td>\n",
       "      <td>5.35</td>\n",
       "      <td>NaN</td>\n",
       "    </tr>\n",
       "  </tbody>\n",
       "</table>\n",
       "<p>5 rows × 55 columns</p>\n",
       "</div>"
      ],
      "text/plain": [
       "   id           submitdate  lastpage startlanguage        seed  age gender  \\\n",
       "0  15                  NaN       NaN            de  1176674547  NaN    NaN   \n",
       "1  16  1980-01-01 00:00:00       3.0            de    26659429   A2     A1   \n",
       "2  17  1980-01-01 00:00:00       3.0            en  1733042433   A2     A2   \n",
       "3  18  1980-01-01 00:00:00       3.0            de  1585812275   A2     A1   \n",
       "4  19  1980-01-01 00:00:00       3.0            de   380140469   A3     A2   \n",
       "\n",
       "  gender[other] educationlevel educationstatus  ... q9Time q10Time q11Time  \\\n",
       "0           NaN            NaN             NaN  ...    NaN     NaN     NaN   \n",
       "1           NaN             A4              A4  ...    NaN     NaN     NaN   \n",
       "2           NaN             A4              A4  ...    NaN     NaN     NaN   \n",
       "3           NaN             A4              A4  ...    NaN     NaN     NaN   \n",
       "4           NaN             A5              A4  ...    NaN     NaN     NaN   \n",
       "\n",
       "  q12Time q13Time q14Time q15Time langcodeTime groupTime95801 emailTime  \n",
       "0     NaN     NaN     NaN     NaN          NaN            NaN       NaN  \n",
       "1     NaN     NaN     NaN     NaN          NaN          19.23       NaN  \n",
       "2     NaN     NaN     NaN     NaN          NaN          19.71       NaN  \n",
       "3     NaN     NaN     NaN     NaN          NaN          16.84       NaN  \n",
       "4     NaN     NaN     NaN     NaN          NaN           5.35       NaN  \n",
       "\n",
       "[5 rows x 55 columns]"
      ]
     },
     "execution_count": 1,
     "metadata": {},
     "output_type": "execute_result"
    }
   ],
   "source": [
    "import pandas as pd\n",
    "\n",
    "# Load the uploaded CSV file\n",
    "file_path = '../../data/question_survey/questions_12_12_24_noemail.csv'\n",
    "survey_data = pd.read_csv(file_path)\n",
    "\n",
    "# Drop the 'email' column to be sure - ignore if not present\n",
    "if 'email' in survey_data.columns:\n",
    "    survey_data = survey_data.drop(columns='email')\n",
    "\n",
    "# Display the first few rows of the DataFrame\n",
    "survey_data.head()"
   ]
  },
  {
   "cell_type": "code",
   "execution_count": 2,
   "metadata": {},
   "outputs": [
    {
     "name": "stdout",
     "output_type": "stream",
     "text": [
      "Before dropping irrelevant columns\n",
      "Rows: 102\n",
      "Columns: 55\n",
      "\n",
      "After dropping irrelevant columns \n",
      "Rows: 102\n",
      "Columns: 29\n",
      "\n",
      "After dropping incomplete surveys \n",
      "Rows: 51\n",
      "Columns: 28\n",
      "\n",
      "After long format transformation\n",
      "Rows: 370\n",
      "Columns: 16\n",
      "\n",
      "Number of English and German questions per role\n",
      "question_language   de  en\n",
      "role                      \n",
      "enrolled           189  29\n",
      "international        7  28\n",
      "other               65   0\n",
      "prospective         52   0\n",
      "Total English and German questions\n",
      "question_language\n",
      "de    313\n",
      "en     57\n",
      "Name: count, dtype: int64\n"
     ]
    },
    {
     "data": {
      "text/html": [
       "<div>\n",
       "<style scoped>\n",
       "    .dataframe tbody tr th:only-of-type {\n",
       "        vertical-align: middle;\n",
       "    }\n",
       "\n",
       "    .dataframe tbody tr th {\n",
       "        vertical-align: top;\n",
       "    }\n",
       "\n",
       "    .dataframe thead th {\n",
       "        text-align: right;\n",
       "    }\n",
       "</style>\n",
       "<table border=\"1\" class=\"dataframe\">\n",
       "  <thead>\n",
       "    <tr style=\"text-align: right;\">\n",
       "      <th></th>\n",
       "      <th>question_text</th>\n",
       "      <th>role</th>\n",
       "      <th>program</th>\n",
       "      <th>participant_id</th>\n",
       "      <th>question_id</th>\n",
       "      <th>question_language</th>\n",
       "      <th>age</th>\n",
       "      <th>gender</th>\n",
       "      <th>gender[other]</th>\n",
       "      <th>educationlevel</th>\n",
       "      <th>educationstatus</th>\n",
       "      <th>familiar</th>\n",
       "      <th>interviewtime</th>\n",
       "      <th>demographics_time</th>\n",
       "      <th>question_time</th>\n",
       "      <th>email_time</th>\n",
       "    </tr>\n",
       "  </thead>\n",
       "  <tbody>\n",
       "    <tr>\n",
       "      <th>0</th>\n",
       "      <td>Wann kann ich mich für [STUDIENGANG] einschrei...</td>\n",
       "      <td>enrolled</td>\n",
       "      <td>Cognitive Science</td>\n",
       "      <td>16</td>\n",
       "      <td>1</td>\n",
       "      <td>de</td>\n",
       "      <td>A2</td>\n",
       "      <td>A1</td>\n",
       "      <td>NaN</td>\n",
       "      <td>A4</td>\n",
       "      <td>A4</td>\n",
       "      <td>A1</td>\n",
       "      <td>296.44</td>\n",
       "      <td>41.96</td>\n",
       "      <td>235.25</td>\n",
       "      <td>19.23</td>\n",
       "    </tr>\n",
       "    <tr>\n",
       "      <th>1</th>\n",
       "      <td>What do students usually learn in cognitive sc...</td>\n",
       "      <td>enrolled</td>\n",
       "      <td>Cognitive Science</td>\n",
       "      <td>17</td>\n",
       "      <td>2</td>\n",
       "      <td>en</td>\n",
       "      <td>A2</td>\n",
       "      <td>A2</td>\n",
       "      <td>NaN</td>\n",
       "      <td>A4</td>\n",
       "      <td>A4</td>\n",
       "      <td>A2</td>\n",
       "      <td>415.44</td>\n",
       "      <td>38.97</td>\n",
       "      <td>356.76</td>\n",
       "      <td>19.71</td>\n",
       "    </tr>\n",
       "    <tr>\n",
       "      <th>2</th>\n",
       "      <td>Ich möchte hier studieren, wo kann ich mehr In...</td>\n",
       "      <td>enrolled</td>\n",
       "      <td>Bachelor of Science Cognitive Science</td>\n",
       "      <td>18</td>\n",
       "      <td>3</td>\n",
       "      <td>de</td>\n",
       "      <td>A2</td>\n",
       "      <td>A1</td>\n",
       "      <td>NaN</td>\n",
       "      <td>A4</td>\n",
       "      <td>A4</td>\n",
       "      <td>A2</td>\n",
       "      <td>539.12</td>\n",
       "      <td>66.19</td>\n",
       "      <td>456.09</td>\n",
       "      <td>16.84</td>\n",
       "    </tr>\n",
       "    <tr>\n",
       "      <th>3</th>\n",
       "      <td>Wie erreiche ich das Students Office?</td>\n",
       "      <td>enrolled</td>\n",
       "      <td>Cognitive Science</td>\n",
       "      <td>19</td>\n",
       "      <td>4</td>\n",
       "      <td>de</td>\n",
       "      <td>A3</td>\n",
       "      <td>A2</td>\n",
       "      <td>NaN</td>\n",
       "      <td>A5</td>\n",
       "      <td>A4</td>\n",
       "      <td>A1</td>\n",
       "      <td>419.18</td>\n",
       "      <td>34.73</td>\n",
       "      <td>379.10</td>\n",
       "      <td>5.35</td>\n",
       "    </tr>\n",
       "    <tr>\n",
       "      <th>4</th>\n",
       "      <td>Wie könnte mein Stundenplan im Studiengang Cog...</td>\n",
       "      <td>enrolled</td>\n",
       "      <td>Cognitive Science</td>\n",
       "      <td>20</td>\n",
       "      <td>5</td>\n",
       "      <td>de</td>\n",
       "      <td>A2</td>\n",
       "      <td>A2</td>\n",
       "      <td>NaN</td>\n",
       "      <td>A4</td>\n",
       "      <td>A4</td>\n",
       "      <td>A2</td>\n",
       "      <td>443.46</td>\n",
       "      <td>49.35</td>\n",
       "      <td>347.80</td>\n",
       "      <td>46.31</td>\n",
       "    </tr>\n",
       "  </tbody>\n",
       "</table>\n",
       "</div>"
      ],
      "text/plain": [
       "                                       question_text      role  \\\n",
       "0  Wann kann ich mich für [STUDIENGANG] einschrei...  enrolled   \n",
       "1  What do students usually learn in cognitive sc...  enrolled   \n",
       "2  Ich möchte hier studieren, wo kann ich mehr In...  enrolled   \n",
       "3              Wie erreiche ich das Students Office?  enrolled   \n",
       "4  Wie könnte mein Stundenplan im Studiengang Cog...  enrolled   \n",
       "\n",
       "                                 program  participant_id  question_id  \\\n",
       "0                      Cognitive Science              16            1   \n",
       "1                      Cognitive Science              17            2   \n",
       "2  Bachelor of Science Cognitive Science              18            3   \n",
       "3                      Cognitive Science              19            4   \n",
       "4                      Cognitive Science              20            5   \n",
       "\n",
       "  question_language age gender gender[other] educationlevel educationstatus  \\\n",
       "0                de  A2     A1           NaN             A4              A4   \n",
       "1                en  A2     A2           NaN             A4              A4   \n",
       "2                de  A2     A1           NaN             A4              A4   \n",
       "3                de  A3     A2           NaN             A5              A4   \n",
       "4                de  A2     A2           NaN             A4              A4   \n",
       "\n",
       "  familiar  interviewtime  demographics_time  question_time  email_time  \n",
       "0       A1         296.44              41.96         235.25       19.23  \n",
       "1       A2         415.44              38.97         356.76       19.71  \n",
       "2       A2         539.12              66.19         456.09       16.84  \n",
       "3       A1         419.18              34.73         379.10        5.35  \n",
       "4       A2         443.46              49.35         347.80       46.31  "
      ]
     },
     "execution_count": 2,
     "metadata": {},
     "output_type": "execute_result"
    }
   ],
   "source": [
    "# print rows and columns before dropping irrelevant columns\n",
    "print(\"Before dropping irrelevant columns\")\n",
    "print(f'Rows: {survey_data.shape[0]}')\n",
    "print(f'Columns: {survey_data.shape[1]}\\n')\n",
    "\n",
    "# Drop irrelevant columns directly to ensure anonymity and clean structure\n",
    "columns_to_drop = ['email', 'submitdate', 'seed', 'startlanguage','ageTime','genderTime','educationlevelTime','educationstatusTime',\n",
    "                   'programTime','familiarTime','q1Time','q2Time','q3Time','q4Time','q5Time','q6Time','q7Time','q8Time','q9Time','q10Time',\n",
    "                   'q11Time','q12Time','q13Time','q14Time','q15Time','langcodeTime','emailTime']  # Columns we don't need\n",
    "survey_data_clean = survey_data.drop(columns=[col for col in columns_to_drop if col in survey_data.columns], errors='ignore')\n",
    "\n",
    "# print rows and columns after dropping irrelevant columns\n",
    "print(\"After dropping irrelevant columns \")\n",
    "print(f'Rows: {survey_data_clean.shape[0]}')\n",
    "print(f'Columns: {survey_data_clean.shape[1]}\\n')\n",
    "\n",
    "# Drop rows where 'lastpage' is not 3.0 - survey not finished\n",
    "survey_data_clean = survey_data_clean[survey_data['lastpage'] == 3.0]\n",
    "\n",
    "# Drop lastpage column\n",
    "survey_data_clean = survey_data_clean.drop(columns=['lastpage'])\n",
    "\n",
    "# Print rows and column after dropping incomplete surveys\n",
    "print(\"After dropping incomplete surveys \")\n",
    "print(f'Rows: {survey_data_clean.shape[0]}')\n",
    "print(f'Columns: {survey_data_clean.shape[1]}\\n')\n",
    "\n",
    "# Rename specific columns for readability\n",
    "survey_data_clean = survey_data_clean.rename(columns={\n",
    "    'groupTime95800': 'demographics_time',\n",
    "    'groupTime95797': 'question_time',\n",
    "    'groupTime95801': 'email_time',\n",
    "    'langcode': 'question_language',\n",
    "    'id': 'participant_id',\n",
    "})\n",
    "\n",
    "# Map education status to roles\n",
    "role_mapping = {\n",
    "    'A2': 'prospective',\n",
    "    'A3': 'prospective',\n",
    "    'A4': 'enrolled',\n",
    "    'A5': 'international',\n",
    "    'A1': 'other',\n",
    "    'A6': 'other',\n",
    "    'A7': 'other',\n",
    "    'A8': 'other'\n",
    "}\n",
    "survey_data_clean['role'] = survey_data_clean['educationstatus'].map(role_mapping)\n",
    "\n",
    "# Anomaly in participant_id == 37, did the survey in english but provided german questions\n",
    "# Change language to german\n",
    "survey_data_clean.loc[survey_data_clean['participant_id'] == 37, 'question_language'] = 'de'\n",
    "\n",
    "# Transform questions into a long format, keeping all demographic information\n",
    "question_columns = ['q1', 'q2', 'q3', 'q4', 'q5', 'q6', 'q7', 'q8', 'q9', 'q10', 'q11', 'q12', 'q13', 'q14', 'q15']\n",
    "question_dataset = pd.melt(\n",
    "    survey_data_clean,\n",
    "    id_vars=[col for col in survey_data_clean.columns if col not in question_columns],  # Keep demographics\n",
    "    value_vars=question_columns,  # Questions\n",
    "    var_name='question_id',\n",
    "    value_name='question_text'\n",
    ")\n",
    "# Drop question_id column\n",
    "question_dataset = question_dataset.drop(columns=['question_id'])\n",
    "\n",
    "# Drop rows with missing question text\n",
    "question_dataset = question_dataset.dropna(subset=['question_text'])\n",
    "\n",
    "# Add a column for unique question IDs\n",
    "question_dataset['question_id'] = range(1, question_dataset.shape[0] + 1)\n",
    "\n",
    "# Reorder columns for better readability\n",
    "columns_order = (\n",
    "    ['question_text', 'role', 'program', 'participant_id', 'question_id', 'question_language'] +\n",
    "    [col for col in question_dataset.columns if col not in ['question_text', 'role', 'program', 'participant_id', 'question_id', 'question_language']]\n",
    ")\n",
    "question_dataset = question_dataset[columns_order]\n",
    "\n",
    "# Print rows and column after long format transformation\n",
    "print(\"After long format transformation\")\n",
    "print(f'Rows: {question_dataset.shape[0]}')\n",
    "print(f'Columns: {question_dataset.shape[1]}\\n')\n",
    "\n",
    "# Print number of English and German questions per role\n",
    "print(\"Number of English and German questions per role\")\n",
    "questions_per_role_language = question_dataset.groupby(['role', 'question_language']).size().unstack(fill_value=0)\n",
    "print(questions_per_role_language)\n",
    "# Print total englsi and german questions\n",
    "print(\"Total English and German questions\")\n",
    "print(question_dataset['question_language'].value_counts())\n",
    "\n",
    "# Save the cleaned question dataset to a CSV file\n",
    "output_path = '../../data/question_survey/question_dataset_not_reviewed.csv'\n",
    "question_dataset.to_csv(output_path, index=False, quoting=1)\n",
    "\n",
    "question_dataset.head()\n"
   ]
  },
  {
   "cell_type": "code",
   "execution_count": 4,
   "metadata": {},
   "outputs": [
    {
     "name": "stdout",
     "output_type": "stream",
     "text": [
      "After long format transformation\n",
      "Rows: 337\n",
      "Columns: 16\n",
      "\n",
      "Number of English and German questions per role\n",
      "question_language   de  en\n",
      "role                      \n",
      "enrolled           174  29\n",
      "international        7  26\n",
      "other               49   0\n",
      "prospective         52   0\n",
      "Total English and German questions\n",
      "question_language\n",
      "de    282\n",
      "en     55\n",
      "Name: count, dtype: int64\n"
     ]
    }
   ],
   "source": [
    "# filtering after personal review of questions\n",
    "\n",
    "# Load the CSV file\n",
    "file_path = '../../data/question_survey/question_dataset_not_reviewed.csv'\n",
    "question_dataset = pd.read_csv(file_path)\n",
    "\n",
    "# Filter out questions that are using a variable as a placeholder\n",
    "# Questions with 'question_id' 1, 19, 29, 34, 43, 58, 66, 98, 99, 109, 182, 191, 205, 233, 256, 259, 335, 358, 369 (see question_review.xlsx)\n",
    "question_dataset = question_dataset[~question_dataset['question_id'].isin([1, 19, 29, 34, 43, 58, 66, 98, 99, 109, 182, 191, 205, 233, 256, 259, 335, 358, 369])]\n",
    "\n",
    "# Filter out questions that are no questions\n",
    "# Questions with 'question_id' 235, 286, 303, 337, 354\n",
    "question_dataset = question_dataset[~question_dataset['question_id'].isin([235, 286, 303, 337, 354])]\n",
    "\n",
    "# Remove participant not taking survey seriously + logical error in demographic data (participant_id 98)\n",
    "question_dataset = question_dataset[~question_dataset['participant_id'].isin([98])]\n",
    "\n",
    "# Print rows and column after long format transformation\n",
    "print(\"After long format transformation\")\n",
    "print(f'Rows: {question_dataset.shape[0]}')\n",
    "print(f'Columns: {question_dataset.shape[1]}\\n')\n",
    "\n",
    "# Print number of English and German questions per role\n",
    "print(\"Number of English and German questions per role\")\n",
    "questions_per_role_language = question_dataset.groupby(['role', 'question_language']).size().unstack(fill_value=0)\n",
    "print(questions_per_role_language)\n",
    "# Print total englsi and german questions\n",
    "print(\"Total English and German questions\")\n",
    "print(question_dataset['question_language'].value_counts())\n",
    "\n",
    "# Save the cleaned question dataset to a CSV file\n",
    "output_path = '../../data/question_survey/question_dataset_reviewed.csv'\n",
    "question_dataset.to_csv(output_path, index=False, quoting=1)\n"
   ]
  },
  {
   "cell_type": "code",
   "execution_count": 1,
   "metadata": {},
   "outputs": [
    {
     "name": "stderr",
     "output_type": "stream",
     "text": [
      "  0%|          | 1/337 [00:04<26:43,  4.77s/it]"
     ]
    },
    {
     "name": "stdout",
     "output_type": "stream",
     "text": [
      "Original text:\n",
      " What do students usually learn in cognitive science?\n",
      "**************************************************\n",
      "Translated text:\n",
      " Was lernen Studenten normalerweise in der Kognitionswissenschaft?\n",
      "--------------------------------------------------\n"
     ]
    },
    {
     "name": "stderr",
     "output_type": "stream",
     "text": [
      "  1%|          | 2/337 [00:05<14:41,  2.63s/it]"
     ]
    },
    {
     "name": "stdout",
     "output_type": "stream",
     "text": [
      "Original text:\n",
      " Ich möchte hier studieren, wo kann ich mehr Infos über verschiedene Studiengänge finden?\n",
      "**************************************************\n",
      "Translated text:\n",
      " I want to study here, where can I find more information about different courses?\n",
      "--------------------------------------------------\n"
     ]
    },
    {
     "name": "stderr",
     "output_type": "stream",
     "text": [
      "  1%|          | 3/337 [00:06<10:11,  1.83s/it]"
     ]
    },
    {
     "name": "stdout",
     "output_type": "stream",
     "text": [
      "Original text:\n",
      " Wie erreiche ich das Students Office?\n",
      "**************************************************\n",
      "Translated text:\n",
      " How do I reach the Students Office?\n",
      "--------------------------------------------------\n"
     ]
    },
    {
     "name": "stderr",
     "output_type": "stream",
     "text": [
      "  1%|          | 4/337 [00:07<08:36,  1.55s/it]"
     ]
    },
    {
     "name": "stdout",
     "output_type": "stream",
     "text": [
      "Original text:\n",
      " Wie könnte mein Stundenplan im Studiengang Cognitive Science in den ersten drei Semestern aussehen?\n",
      "**************************************************\n",
      "Translated text:\n",
      " What could my schedule look like in the Cognitive Science degree program for the first three semesters?\n",
      "--------------------------------------------------\n"
     ]
    },
    {
     "name": "stderr",
     "output_type": "stream",
     "text": [
      "  1%|▏         | 5/337 [00:08<07:17,  1.32s/it]"
     ]
    },
    {
     "name": "stdout",
     "output_type": "stream",
     "text": [
      "Original text:\n",
      " Welche Studiengänge gibt es, die ausschließlich auf Englisch unterrichtet werden?\n",
      "**************************************************\n",
      "Translated text:\n",
      " What courses are there that are taught exclusively in English?\n",
      "--------------------------------------------------\n"
     ]
    },
    {
     "name": "stderr",
     "output_type": "stream",
     "text": [
      "  2%|▏         | 6/337 [00:10<08:32,  1.55s/it]"
     ]
    },
    {
     "name": "stdout",
     "output_type": "stream",
     "text": [
      "Original text:\n",
      " wo kann ich informationen zu dem Dekanat aus meinem Fachbereich finden. Ich studiere Cognitive Science.\n",
      "**************************************************\n",
      "Translated text:\n",
      " Where can I find information about the dean's office from my department? I am studying Cognitive Science.\n",
      "--------------------------------------------------\n"
     ]
    },
    {
     "name": "stderr",
     "output_type": "stream",
     "text": [
      "  2%|▏         | 7/337 [00:12<08:24,  1.53s/it]"
     ]
    },
    {
     "name": "stdout",
     "output_type": "stream",
     "text": [
      "Original text:\n",
      " Wie melde ich mich in der Uni-Bibliothek an?\n",
      "**************************************************\n",
      "Translated text:\n",
      " How do I register at the university library?\n",
      "--------------------------------------------------\n"
     ]
    },
    {
     "name": "stderr",
     "output_type": "stream",
     "text": [
      "  2%|▏         | 8/337 [00:13<07:36,  1.39s/it]"
     ]
    },
    {
     "name": "stdout",
     "output_type": "stream",
     "text": [
      "Original text:\n",
      " Welche Master Studiengänge kann ich mit einem Cognitive Science Bachelor machen?\n",
      "**************************************************\n",
      "Translated text:\n",
      " Which master's degree programs can I do with a Cognitive Science bachelor's degree?\n",
      "--------------------------------------------------\n"
     ]
    },
    {
     "name": "stderr",
     "output_type": "stream",
     "text": [
      "  3%|▎         | 9/337 [00:14<07:35,  1.39s/it]"
     ]
    },
    {
     "name": "stdout",
     "output_type": "stream",
     "text": [
      "Original text:\n",
      " Ich studiere Cognitive Science. Auf welchen Seiten der Universität kann ich aktuelle und korrekte Informationen zum Thema Pflicht-Auslandssemester erhalten? \n",
      "**************************************************\n",
      "Translated text:\n",
      " I am studying Cognitive Science. On which pages of the university can I get current and correct information about the mandatory semester abroad?\n",
      "--------------------------------------------------\n"
     ]
    },
    {
     "name": "stderr",
     "output_type": "stream",
     "text": [
      "  3%|▎         | 10/337 [00:15<06:53,  1.26s/it]"
     ]
    },
    {
     "name": "stdout",
     "output_type": "stream",
     "text": [
      "Original text:\n",
      " Ich studiere Cognitive Science, wie kann ich von der alten zur neuen Pruefungsordnung wechselen?\n",
      "**************************************************\n",
      "Translated text:\n",
      " I am studying Cognitive Science, how can I switch from the old to the new examination regulations?\n",
      "--------------------------------------------------\n"
     ]
    },
    {
     "name": "stderr",
     "output_type": "stream",
     "text": [
      "  3%|▎         | 11/337 [00:16<06:43,  1.24s/it]"
     ]
    },
    {
     "name": "stdout",
     "output_type": "stream",
     "text": [
      "Original text:\n",
      " Kann ich mich für Master Cognitive science bewerben bevor ich mein Bachelor Abschluss Habe? \n",
      "**************************************************\n",
      "Translated text:\n",
      " Can I apply for a Master's in Cognitive Science before I have my Bachelor's degree?\n",
      "--------------------------------------------------\n"
     ]
    },
    {
     "name": "stderr",
     "output_type": "stream",
     "text": [
      "  4%|▎         | 12/337 [00:19<09:38,  1.78s/it]"
     ]
    },
    {
     "name": "stdout",
     "output_type": "stream",
     "text": [
      "Original text:\n",
      " \n",
      "Hi, I want study cognitive Science in the University of Osnabrück. Where can I find the regulations on what I need to finish the bachelor. As in what classes I need to take and what options I have.\n",
      "**************************************************\n",
      "Translated text:\n",
      " Hallo, ich möchte Kognitionswissenschaften an der Universität Osnabrück studieren. Wo kann ich die Bestimmungen darüber finden, was ich brauche, um den Bachelor abzuschließen? Also welche Kurse ich belegen muss und welche Optionen ich habe.\n",
      "--------------------------------------------------\n"
     ]
    },
    {
     "name": "stderr",
     "output_type": "stream",
     "text": [
      "  4%|▍         | 13/337 [00:21<08:36,  1.59s/it]"
     ]
    },
    {
     "name": "stdout",
     "output_type": "stream",
     "text": [
      "Original text:\n",
      " Wie kann ich mich auf dem Campus zurechtfinden bzw. orientieren?\n",
      "**************************************************\n",
      "Translated text:\n",
      " How can I find my way around or orient myself on campus?\n",
      "--------------------------------------------------\n"
     ]
    },
    {
     "name": "stderr",
     "output_type": "stream",
     "text": [
      "  4%|▍         | 14/337 [00:22<08:05,  1.50s/it]"
     ]
    },
    {
     "name": "stdout",
     "output_type": "stream",
     "text": [
      "Original text:\n",
      " Wo finde ich die Prüfungsordnung vom Bachelor in Cognitive Science?\n",
      "**************************************************\n",
      "Translated text:\n",
      " Where can I find the examination regulations for the Bachelor's in Cognitive Science?\n",
      "--------------------------------------------------\n"
     ]
    },
    {
     "name": "stderr",
     "output_type": "stream",
     "text": [
      "  4%|▍         | 15/337 [00:23<07:23,  1.38s/it]"
     ]
    },
    {
     "name": "stdout",
     "output_type": "stream",
     "text": [
      "Original text:\n",
      " Wo finde ich das Modulhandbuch zum BA Psychologie? \n",
      "**************************************************\n",
      "Translated text:\n",
      " Where can I find the module handbook for the BA in Psychology?\n",
      "--------------------------------------------------\n"
     ]
    },
    {
     "name": "stderr",
     "output_type": "stream",
     "text": [
      "  5%|▍         | 16/337 [00:25<08:18,  1.55s/it]"
     ]
    },
    {
     "name": "stdout",
     "output_type": "stream",
     "text": [
      "Original text:\n",
      " Welche Studiengänge bietet die Universität Osnabrück an, und gibt es eine Übersicht der Bachelor- und Masterprogramme?\n",
      "**************************************************\n",
      "Translated text:\n",
      " What courses does the University of Osnabrück offer, and is there an overview of the bachelor's and master's programs?\n",
      "--------------------------------------------------\n"
     ]
    },
    {
     "name": "stderr",
     "output_type": "stream",
     "text": [
      "  5%|▌         | 17/337 [00:26<07:38,  1.43s/it]"
     ]
    },
    {
     "name": "stdout",
     "output_type": "stream",
     "text": [
      "Original text:\n",
      " Gibt es einen NC für mein Studienfach?\n",
      "Wenn JA, wo kann ich diesen finden?\n",
      "**************************************************\n",
      "Translated text:\n",
      " Is there a numerus clausus for my field of study?\n",
      "If YES, where can I find it?\n",
      "--------------------------------------------------\n"
     ]
    },
    {
     "name": "stderr",
     "output_type": "stream",
     "text": [
      "  5%|▌         | 18/337 [00:27<06:43,  1.27s/it]"
     ]
    },
    {
     "name": "stdout",
     "output_type": "stream",
     "text": [
      "Original text:\n",
      " Wie sind die Öffnungszeiten der Bibliothek Heger-Tor-Wall?\n",
      "**************************************************\n",
      "Translated text:\n",
      " What are the opening hours of the Heger-Tor-Wall library?\n",
      "--------------------------------------------------\n"
     ]
    },
    {
     "name": "stderr",
     "output_type": "stream",
     "text": [
      "  6%|▌         | 19/337 [00:28<06:50,  1.29s/it]"
     ]
    },
    {
     "name": "stdout",
     "output_type": "stream",
     "text": [
      "Original text:\n",
      " Wo finde ich einen Gebäudeplan der Universität Osnabrück?\n",
      "**************************************************\n",
      "Translated text:\n",
      " Where can I find a building plan of the University of Osnabrück?\n",
      "--------------------------------------------------\n"
     ]
    },
    {
     "name": "stderr",
     "output_type": "stream",
     "text": [
      "  6%|▌         | 20/337 [00:52<43:00,  8.14s/it]"
     ]
    },
    {
     "name": "stdout",
     "output_type": "stream",
     "text": [
      "Original text:\n",
      " Was tut die Universität Osnabrück konkret, um marginalisierte Gruppen im Studienleben zu fördern?\n",
      "**************************************************\n",
      "Translated text:\n",
      " What specific actions is the University of Osnabrück taking to support marginalized groups in academic life?\n",
      "--------------------------------------------------\n"
     ]
    },
    {
     "name": "stderr",
     "output_type": "stream",
     "text": [
      "  6%|▌         | 21/337 [00:54<31:40,  6.02s/it]"
     ]
    },
    {
     "name": "stdout",
     "output_type": "stream",
     "text": [
      "Original text:\n",
      " Was sind die Öffnungszeiten des Prüfungsamt Cognitive Science? \n",
      "**************************************************\n",
      "Translated text:\n",
      " What are the opening hours of the Cognitive Science Examination Office?\n",
      "--------------------------------------------------\n"
     ]
    },
    {
     "name": "stderr",
     "output_type": "stream",
     "text": [
      "  7%|▋         | 22/337 [00:55<23:48,  4.53s/it]"
     ]
    },
    {
     "name": "stdout",
     "output_type": "stream",
     "text": [
      "Original text:\n",
      " How do I get a new Campus card?\n",
      "**************************************************\n",
      "Translated text:\n",
      " Wie bekomme ich eine neue Campus-Karte?\n",
      "--------------------------------------------------\n"
     ]
    },
    {
     "name": "stderr",
     "output_type": "stream",
     "text": [
      "  7%|▋         | 23/337 [00:56<18:24,  3.52s/it]"
     ]
    },
    {
     "name": "stdout",
     "output_type": "stream",
     "text": [
      "Original text:\n",
      " Welche Kurse muss ich belegen?\n",
      "**************************************************\n",
      "Translated text:\n",
      " Which courses do I need to take?\n",
      "--------------------------------------------------\n"
     ]
    },
    {
     "name": "stderr",
     "output_type": "stream",
     "text": [
      "  7%|▋         | 24/337 [00:57<14:53,  2.85s/it]"
     ]
    },
    {
     "name": "stdout",
     "output_type": "stream",
     "text": [
      "Original text:\n",
      " How much does it cost to live in Osnabrück as an international student?\n",
      "**************************************************\n",
      "Translated text:\n",
      " Wie viel kostet es, als internationaler Student in Osnabrück zu leben?\n",
      "--------------------------------------------------\n"
     ]
    },
    {
     "name": "stderr",
     "output_type": "stream",
     "text": [
      "  7%|▋         | 25/337 [00:59<13:11,  2.54s/it]"
     ]
    },
    {
     "name": "stdout",
     "output_type": "stream",
     "text": [
      "Original text:\n",
      " What scholarships are available for international Master’s students at Osnabrück University?\n",
      "**************************************************\n",
      "Translated text:\n",
      " Welche Stipendien stehen internationalen Masterstudenten an der Universität Osnabrück zur Verfügung?\n",
      "--------------------------------------------------\n"
     ]
    },
    {
     "name": "stderr",
     "output_type": "stream",
     "text": [
      "  8%|▊         | 26/337 [01:00<10:58,  2.12s/it]"
     ]
    },
    {
     "name": "stdout",
     "output_type": "stream",
     "text": [
      "Original text:\n",
      " Wo kann ich die neuen study regulations für Cognitive Science ab dem Wintersemester 24/25 finden?\n",
      "**************************************************\n",
      "Translated text:\n",
      " Where can I find the new study regulations for Cognitive Science for the winter semester 24/25?\n",
      "--------------------------------------------------\n"
     ]
    },
    {
     "name": "stderr",
     "output_type": "stream",
     "text": [
      "  8%|▊         | 27/337 [01:01<09:02,  1.75s/it]"
     ]
    },
    {
     "name": "stdout",
     "output_type": "stream",
     "text": [
      "Original text:\n",
      " Wo finde ich das Formular zur Anmeldung meiner Bachelorarbeit?\n",
      "**************************************************\n",
      "Translated text:\n",
      " Where can I find the form to register my bachelor's thesis?\n",
      "--------------------------------------------------\n"
     ]
    },
    {
     "name": "stderr",
     "output_type": "stream",
     "text": [
      "  8%|▊         | 28/337 [01:02<07:45,  1.51s/it]"
     ]
    },
    {
     "name": "stdout",
     "output_type": "stream",
     "text": [
      "Original text:\n",
      " Welche Studiengänge gilt es auf der Universität \n",
      "**************************************************\n",
      "Translated text:\n",
      " Which courses of study are there at the university?\n",
      "--------------------------------------------------\n"
     ]
    },
    {
     "name": "stderr",
     "output_type": "stream",
     "text": [
      "  9%|▊         | 29/337 [01:03<06:59,  1.36s/it]"
     ]
    },
    {
     "name": "stdout",
     "output_type": "stream",
     "text": [
      "Original text:\n",
      " Wie viel kostet mich ein Semester an der Uni?\n",
      "**************************************************\n",
      "Translated text:\n",
      " How much does a semester at the university cost me?\n",
      "--------------------------------------------------\n"
     ]
    },
    {
     "name": "stderr",
     "output_type": "stream",
     "text": [
      "  9%|▉         | 30/337 [01:04<06:39,  1.30s/it]"
     ]
    },
    {
     "name": "stdout",
     "output_type": "stream",
     "text": [
      "Original text:\n",
      " Welche Studiengänge sind an der Uni vertreten?\n",
      "**************************************************\n",
      "Translated text:\n",
      " Which courses of study are represented at the university?\n",
      "--------------------------------------------------\n"
     ]
    },
    {
     "name": "stderr",
     "output_type": "stream",
     "text": [
      "  9%|▉         | 31/337 [01:05<05:45,  1.13s/it]"
     ]
    },
    {
     "name": "stdout",
     "output_type": "stream",
     "text": [
      "Original text:\n",
      " Wer sind die Ansprechpartner bezüglich eines Studienstarts? \n",
      "**************************************************\n",
      "Translated text:\n",
      " Who are the contacts regarding the start of a study?\n",
      "--------------------------------------------------\n"
     ]
    },
    {
     "name": "stderr",
     "output_type": "stream",
     "text": [
      "  9%|▉         | 32/337 [01:06<05:15,  1.04s/it]"
     ]
    },
    {
     "name": "stdout",
     "output_type": "stream",
     "text": [
      "Original text:\n",
      " Welche Studiengänge werden Angeboten?\n",
      "**************************************************\n",
      "Translated text:\n",
      " What courses are offered?\n",
      "--------------------------------------------------\n"
     ]
    },
    {
     "name": "stderr",
     "output_type": "stream",
     "text": [
      " 10%|▉         | 33/337 [01:06<04:50,  1.05it/s]"
     ]
    },
    {
     "name": "stdout",
     "output_type": "stream",
     "text": [
      "Original text:\n",
      " Welche Studiengänge kann man an der Uni Osnabrück studieren?\n",
      "**************************************************\n",
      "Translated text:\n",
      " What courses can one study at the University of Osnabrück?\n",
      "--------------------------------------------------\n"
     ]
    },
    {
     "name": "stderr",
     "output_type": "stream",
     "text": [
      " 10%|█         | 34/337 [01:07<04:34,  1.11it/s]"
     ]
    },
    {
     "name": "stdout",
     "output_type": "stream",
     "text": [
      "Original text:\n",
      " Wie viele Studenten sind da?\n",
      "**************************************************\n",
      "Translated text:\n",
      " How many students are there?\n",
      "--------------------------------------------------\n"
     ]
    },
    {
     "name": "stderr",
     "output_type": "stream",
     "text": [
      " 10%|█         | 35/337 [01:08<04:26,  1.13it/s]"
     ]
    },
    {
     "name": "stdout",
     "output_type": "stream",
     "text": [
      "Original text:\n",
      " Welche Studiengänge werden angeboten?\n",
      "**************************************************\n",
      "Translated text:\n",
      " What courses of study are offered?\n",
      "--------------------------------------------------\n"
     ]
    },
    {
     "name": "stderr",
     "output_type": "stream",
     "text": [
      " 11%|█         | 36/337 [01:09<04:42,  1.07it/s]"
     ]
    },
    {
     "name": "stdout",
     "output_type": "stream",
     "text": [
      "Original text:\n",
      " Bieten sie grundschullehramt Studiengänge an?\n",
      "\n",
      "**************************************************\n",
      "Translated text:\n",
      " Do you offer primary school teaching degree programs?\n",
      "--------------------------------------------------\n"
     ]
    },
    {
     "name": "stderr",
     "output_type": "stream",
     "text": [
      " 11%|█         | 37/337 [01:10<04:51,  1.03it/s]"
     ]
    },
    {
     "name": "stdout",
     "output_type": "stream",
     "text": [
      "Original text:\n",
      " Ist das Studium Biologie zulassungsbeschränkt?\n",
      "**************************************************\n",
      "Translated text:\n",
      " Is the Biology study program restricted in admission?\n",
      "--------------------------------------------------\n"
     ]
    },
    {
     "name": "stderr",
     "output_type": "stream",
     "text": [
      " 11%|█▏        | 38/337 [01:11<04:36,  1.08it/s]"
     ]
    },
    {
     "name": "stdout",
     "output_type": "stream",
     "text": [
      "Original text:\n",
      " Welche Studiengänge gibt es?\n",
      "**************************************************\n",
      "Translated text:\n",
      " What courses of study are there?\n",
      "--------------------------------------------------\n"
     ]
    },
    {
     "name": "stderr",
     "output_type": "stream",
     "text": [
      " 12%|█▏        | 39/337 [01:12<04:12,  1.18it/s]"
     ]
    },
    {
     "name": "stdout",
     "output_type": "stream",
     "text": [
      "Original text:\n",
      " Welche Fächer werden an dieser Uni unterrichtet \n",
      "**************************************************\n",
      "Translated text:\n",
      " What subjects are taught at this university?\n",
      "--------------------------------------------------\n"
     ]
    },
    {
     "name": "stderr",
     "output_type": "stream",
     "text": [
      " 12%|█▏        | 40/337 [01:12<04:15,  1.16it/s]"
     ]
    },
    {
     "name": "stdout",
     "output_type": "stream",
     "text": [
      "Original text:\n",
      " Was für Studiengänge gibt es?\n",
      "**************************************************\n",
      "Translated text:\n",
      " What types of degree programs are there?\n",
      "--------------------------------------------------\n"
     ]
    },
    {
     "name": "stderr",
     "output_type": "stream",
     "text": [
      " 12%|█▏        | 41/337 [01:13<04:30,  1.09it/s]"
     ]
    },
    {
     "name": "stdout",
     "output_type": "stream",
     "text": [
      "Original text:\n",
      " Welche Studienfächer gibt es an der Universität?\n",
      "**************************************************\n",
      "Translated text:\n",
      " What subjects are there at the university?\n",
      "--------------------------------------------------\n"
     ]
    },
    {
     "name": "stderr",
     "output_type": "stream",
     "text": [
      " 12%|█▏        | 42/337 [01:14<04:35,  1.07it/s]"
     ]
    },
    {
     "name": "stdout",
     "output_type": "stream",
     "text": [
      "Original text:\n",
      " Was kann ich alles studieren?\n",
      "**************************************************\n",
      "Translated text:\n",
      " What all can I study?\n",
      "--------------------------------------------------\n"
     ]
    },
    {
     "name": "stderr",
     "output_type": "stream",
     "text": [
      " 13%|█▎        | 43/337 [01:15<04:39,  1.05it/s]"
     ]
    },
    {
     "name": "stdout",
     "output_type": "stream",
     "text": [
      "Original text:\n",
      " Welche Kurse gibt es dieses Semester im Bereich Cognitive Science (Bachelor)?\n",
      "**************************************************\n",
      "Translated text:\n",
      " What courses are available this semester in the field of Cognitive Science (Bachelor)?\n",
      "--------------------------------------------------\n"
     ]
    },
    {
     "name": "stderr",
     "output_type": "stream",
     "text": [
      " 13%|█▎        | 44/337 [01:17<04:54,  1.01s/it]"
     ]
    },
    {
     "name": "stdout",
     "output_type": "stream",
     "text": [
      "Original text:\n",
      " Wie lange dauert ein Studium?\n",
      "**************************************************\n",
      "Translated text:\n",
      " How long does a degree take?\n",
      "--------------------------------------------------\n"
     ]
    },
    {
     "name": "stderr",
     "output_type": "stream",
     "text": [
      " 13%|█▎        | 45/337 [01:18<05:38,  1.16s/it]"
     ]
    },
    {
     "name": "stdout",
     "output_type": "stream",
     "text": [
      "Original text:\n",
      " What academic programs are offered at Osnabrück University, especially in the fields of science and technology?\n",
      "**************************************************\n",
      "Translated text:\n",
      " Welche Studiengänge werden an der Universität Osnabrück angeboten, insbesondere in den Bereichen Naturwissenschaft und Technologie?\n",
      "--------------------------------------------------\n"
     ]
    },
    {
     "name": "stderr",
     "output_type": "stream",
     "text": [
      " 14%|█▎        | 46/337 [01:19<05:05,  1.05s/it]"
     ]
    },
    {
     "name": "stdout",
     "output_type": "stream",
     "text": [
      "Original text:\n",
      " Was muss ich alles für meine Immatrikulation erledigen?\n",
      "**************************************************\n",
      "Translated text:\n",
      " What all do I need to do for my enrollment?\n",
      "--------------------------------------------------\n"
     ]
    },
    {
     "name": "stderr",
     "output_type": "stream",
     "text": [
      " 14%|█▍        | 47/337 [01:20<05:22,  1.11s/it]"
     ]
    },
    {
     "name": "stdout",
     "output_type": "stream",
     "text": [
      "Original text:\n",
      " Is University of Osnabrück an international student friendly campus?\n",
      "**************************************************\n",
      "Translated text:\n",
      " Ist die Universität Osnabrück ein internationaler studentenfreundlicher Campus?\n",
      "--------------------------------------------------\n"
     ]
    },
    {
     "name": "stderr",
     "output_type": "stream",
     "text": [
      " 14%|█▍        | 48/337 [01:21<05:39,  1.18s/it]"
     ]
    },
    {
     "name": "stdout",
     "output_type": "stream",
     "text": [
      "Original text:\n",
      " Ich muss eine Präsentation machen, wo finde ich Vorlagen in verschiedenen Dateiformaten?\n",
      "**************************************************\n",
      "Translated text:\n",
      " I need to make a presentation, where can I find templates in different file formats?\n",
      "--------------------------------------------------\n"
     ]
    },
    {
     "name": "stderr",
     "output_type": "stream",
     "text": [
      " 15%|█▍        | 49/337 [01:23<05:29,  1.15s/it]"
     ]
    },
    {
     "name": "stdout",
     "output_type": "stream",
     "text": [
      "Original text:\n",
      " Wann fängt da nächste Semester an?\n",
      "**************************************************\n",
      "Translated text:\n",
      " When does the next semester start?\n",
      "--------------------------------------------------\n"
     ]
    },
    {
     "name": "stderr",
     "output_type": "stream",
     "text": [
      " 15%|█▍        | 50/337 [01:24<05:17,  1.10s/it]"
     ]
    },
    {
     "name": "stdout",
     "output_type": "stream",
     "text": [
      "Original text:\n",
      " An wen muss ich mich wenden, wenn ich im nächsten Jahr ein Auslandssemester plane?\n",
      "**************************************************\n",
      "Translated text:\n",
      " Who should I contact if I plan to study abroad next year?\n",
      "--------------------------------------------------\n"
     ]
    },
    {
     "name": "stderr",
     "output_type": "stream",
     "text": [
      " 15%|█▌        | 51/337 [01:25<05:26,  1.14s/it]"
     ]
    },
    {
     "name": "stdout",
     "output_type": "stream",
     "text": [
      "Original text:\n",
      " In welchen Ländern hat die Universität Osnabrück Partnerschaften für ein Auslandssemester?\n",
      "**************************************************\n",
      "Translated text:\n",
      " In which countries does the University of Osnabrück have partnerships for a semester abroad?\n",
      "--------------------------------------------------\n"
     ]
    },
    {
     "name": "stderr",
     "output_type": "stream",
     "text": [
      " 15%|█▌        | 52/337 [01:26<05:35,  1.18s/it]"
     ]
    },
    {
     "name": "stdout",
     "output_type": "stream",
     "text": [
      "Original text:\n",
      " Was gibt es heute in der Mensa Westerberg zu essen?\n",
      "**************************************************\n",
      "Translated text:\n",
      " What is there to eat today at the Westerberg cafeteria?\n",
      "--------------------------------------------------\n"
     ]
    },
    {
     "name": "stderr",
     "output_type": "stream",
     "text": [
      " 16%|█▌        | 53/337 [01:27<05:41,  1.20s/it]"
     ]
    },
    {
     "name": "stdout",
     "output_type": "stream",
     "text": [
      "Original text:\n",
      " Wo ist das International Office?\n",
      "**************************************************\n",
      "Translated text:\n",
      " Where is the International Office?\n",
      "--------------------------------------------------\n"
     ]
    },
    {
     "name": "stderr",
     "output_type": "stream",
     "text": [
      " 16%|█▌        | 54/337 [01:30<07:19,  1.55s/it]"
     ]
    },
    {
     "name": "stdout",
     "output_type": "stream",
     "text": [
      "Original text:\n",
      " Ich möchte mein Pflicht-Auslandssemester in Form eines Auslandspraktikums durchführen. Darf ich dieses Praktikum theoretisch auch in den Sommerferien abschließen, falls es ein Projekt gibt wo dies zeitlich passen würde, oder darf ich es nur während dem Semester machen?\n",
      "**************************************************\n",
      "Translated text:\n",
      " I would like to complete my mandatory semester abroad in the form of an internship abroad. Am I allowed to theoretically also complete this internship during the summer holidays, if there is a project where this would fit in terms of time, or am I only allowed to do it during the semester?\n",
      "--------------------------------------------------\n"
     ]
    },
    {
     "name": "stderr",
     "output_type": "stream",
     "text": [
      " 16%|█▋        | 55/337 [01:31<06:47,  1.45s/it]"
     ]
    },
    {
     "name": "stdout",
     "output_type": "stream",
     "text": [
      "Original text:\n",
      " Welche Kurse sind fuer Cognitive Science studenten im naechstne semester verfuegbar?\n",
      "**************************************************\n",
      "Translated text:\n",
      " Which courses are available for Cognitive Science students in the next semester?\n",
      "--------------------------------------------------\n"
     ]
    },
    {
     "name": "stderr",
     "output_type": "stream",
     "text": [
      " 17%|█▋        | 56/337 [01:32<06:23,  1.36s/it]"
     ]
    },
    {
     "name": "stdout",
     "output_type": "stream",
     "text": [
      "Original text:\n",
      " Was ist die Bewerbungsfrist für den Masterstudiengang Cognitive science für das Kommende Sommer Semester? \n",
      "**************************************************\n",
      "Translated text:\n",
      " What is the application deadline for the Cognitive Science Master's program for the upcoming summer semester?\n",
      "--------------------------------------------------\n"
     ]
    },
    {
     "name": "stderr",
     "output_type": "stream",
     "text": [
      " 17%|█▋        | 57/337 [01:34<07:37,  1.63s/it]"
     ]
    },
    {
     "name": "stdout",
     "output_type": "stream",
     "text": [
      "Original text:\n",
      " Where can I find information on my semester abroad? What do I need to hand in and where do I apply? \n",
      "**************************************************\n",
      "Translated text:\n",
      " Wo kann ich Informationen zu meinem Auslandssemester finden? Was muss ich einreichen und wo bewerbe ich mich?\n",
      "--------------------------------------------------\n"
     ]
    },
    {
     "name": "stderr",
     "output_type": "stream",
     "text": [
      " 17%|█▋        | 58/337 [01:35<06:59,  1.51s/it]"
     ]
    },
    {
     "name": "stdout",
     "output_type": "stream",
     "text": [
      "Original text:\n",
      " Gibt es eine zentrale Anlaufstelle, bei der ich jede beliebige Frage stellen kann?\n",
      "**************************************************\n",
      "Translated text:\n",
      " Is there a central point of contact where I can ask any question I want?\n",
      "--------------------------------------------------\n"
     ]
    },
    {
     "name": "stderr",
     "output_type": "stream",
     "text": [
      " 18%|█▊        | 59/337 [01:37<06:24,  1.38s/it]"
     ]
    },
    {
     "name": "stdout",
     "output_type": "stream",
     "text": [
      "Original text:\n",
      " Wie lange dauert es in Regelstudienzeit Psychologie zu studieren?\n",
      "**************************************************\n",
      "Translated text:\n",
      " How long does it typically take to study psychology in regular study time?\n",
      "--------------------------------------------------\n"
     ]
    },
    {
     "name": "stderr",
     "output_type": "stream",
     "text": [
      " 18%|█▊        | 60/337 [01:38<05:58,  1.29s/it]"
     ]
    },
    {
     "name": "stdout",
     "output_type": "stream",
     "text": [
      "Original text:\n",
      " Wie läuft der Bewerbungsprozess für internationale Studierende ab, und welche Dokumente werden benötigt?\n",
      "**************************************************\n",
      "Translated text:\n",
      " How does the application process for international students work, and what documents are required?\n",
      "--------------------------------------------------\n"
     ]
    },
    {
     "name": "stderr",
     "output_type": "stream",
     "text": [
      " 18%|█▊        | 61/337 [01:39<05:29,  1.19s/it]"
     ]
    },
    {
     "name": "stdout",
     "output_type": "stream",
     "text": [
      "Original text:\n",
      " Wer ist der/ die Ansprechpartner*in für mein Studienfach? bzw. für mein spezifische Anliegen?\n",
      "**************************************************\n",
      "Translated text:\n",
      " Who is the contact person for my field of study? Or for my specific concern?\n",
      "--------------------------------------------------\n"
     ]
    },
    {
     "name": "stderr",
     "output_type": "stream",
     "text": [
      " 18%|█▊        | 62/337 [01:40<05:10,  1.13s/it]"
     ]
    },
    {
     "name": "stdout",
     "output_type": "stream",
     "text": [
      "Original text:\n",
      " Wo finde ich Informationen zu einem möglichen Auslandsaufenthalt?\n",
      "**************************************************\n",
      "Translated text:\n",
      " Where can I find information about a possible stay abroad?\n",
      "--------------------------------------------------\n"
     ]
    },
    {
     "name": "stderr",
     "output_type": "stream",
     "text": [
      " 19%|█▊        | 63/337 [01:41<06:02,  1.32s/it]"
     ]
    },
    {
     "name": "stdout",
     "output_type": "stream",
     "text": [
      "Original text:\n",
      " Wann hat die Mensa Schlossgarten heute geöffnet?\n",
      "**************************************************\n",
      "Translated text:\n",
      " When is the Schlossgarten cafeteria open today?\n",
      "--------------------------------------------------\n"
     ]
    },
    {
     "name": "stderr",
     "output_type": "stream",
     "text": [
      " 19%|█▉        | 64/337 [01:42<05:15,  1.16s/it]"
     ]
    },
    {
     "name": "stdout",
     "output_type": "stream",
     "text": [
      "Original text:\n",
      " Wie funktioniert das Raumnummerierungssystem?\n",
      "**************************************************\n",
      "Translated text:\n",
      " How does the room numbering system work?\n",
      "--------------------------------------------------\n"
     ]
    },
    {
     "name": "stderr",
     "output_type": "stream",
     "text": [
      " 19%|█▉        | 65/337 [01:43<05:07,  1.13s/it]"
     ]
    },
    {
     "name": "stdout",
     "output_type": "stream",
     "text": [
      "Original text:\n",
      " Sind die oberen Führungsebenen der Universität Osnabrück durchschnittlich Weiß und männlich?\n",
      "**************************************************\n",
      "Translated text:\n",
      " Are the upper management levels of the University of Osnabrück predominantly white and male?\n",
      "--------------------------------------------------\n"
     ]
    },
    {
     "name": "stderr",
     "output_type": "stream",
     "text": [
      " 20%|█▉        | 66/337 [01:44<04:59,  1.11s/it]"
     ]
    },
    {
     "name": "stdout",
     "output_type": "stream",
     "text": [
      "Original text:\n",
      " Wann beginnt das neue Semester?\n",
      "**************************************************\n",
      "Translated text:\n",
      " When does the new semester start?\n",
      "--------------------------------------------------\n"
     ]
    },
    {
     "name": "stderr",
     "output_type": "stream",
     "text": [
      " 20%|█▉        | 67/337 [01:45<04:33,  1.01s/it]"
     ]
    },
    {
     "name": "stdout",
     "output_type": "stream",
     "text": [
      "Original text:\n",
      " Where do I find the map of the campus\n",
      "**************************************************\n",
      "Translated text:\n",
      " Wo finde ich den Plan des Campus?\n",
      "--------------------------------------------------\n"
     ]
    },
    {
     "name": "stderr",
     "output_type": "stream",
     "text": [
      " 20%|██        | 68/337 [01:46<04:47,  1.07s/it]"
     ]
    },
    {
     "name": "stdout",
     "output_type": "stream",
     "text": [
      "Original text:\n",
      " Was gibt es für Veranstaltungen an der Uni, an denen ich neues kennenlernen kann?\n",
      "**************************************************\n",
      "Translated text:\n",
      " What events are there at the university where I can learn something new?\n",
      "--------------------------------------------------\n"
     ]
    },
    {
     "name": "stderr",
     "output_type": "stream",
     "text": [
      " 20%|██        | 69/337 [01:48<05:18,  1.19s/it]"
     ]
    },
    {
     "name": "stdout",
     "output_type": "stream",
     "text": [
      "Original text:\n",
      " What are the part-time job opportunities for students in Osnabrück?\n",
      "**************************************************\n",
      "Translated text:\n",
      " Welche Teilzeitjob-Möglichkeiten gibt es für Studenten in Osnabrück?\n",
      "--------------------------------------------------\n"
     ]
    },
    {
     "name": "stderr",
     "output_type": "stream",
     "text": [
      " 21%|██        | 70/337 [01:49<05:35,  1.25s/it]"
     ]
    },
    {
     "name": "stdout",
     "output_type": "stream",
     "text": [
      "Original text:\n",
      " What health and counseling services are available for international students?\n",
      "**************************************************\n",
      "Translated text:\n",
      " Welche Gesundheits- und Beratungsdienste stehen internationalen Studenten zur Verfügung?\n",
      "--------------------------------------------------\n"
     ]
    },
    {
     "name": "stderr",
     "output_type": "stream",
     "text": [
      " 21%|██        | 71/337 [01:50<05:26,  1.23s/it]"
     ]
    },
    {
     "name": "stdout",
     "output_type": "stream",
     "text": [
      "Original text:\n",
      " Gibt es eine App in der ich das Angebot der Mensa einsehen kann?\n",
      "**************************************************\n",
      "Translated text:\n",
      " Is there an app where I can view the menu of the cafeteria?\n",
      "--------------------------------------------------\n"
     ]
    },
    {
     "name": "stderr",
     "output_type": "stream",
     "text": [
      " 21%|██▏       | 72/337 [01:51<05:17,  1.20s/it]"
     ]
    },
    {
     "name": "stdout",
     "output_type": "stream",
     "text": [
      "Original text:\n",
      " Wann endet der Rückmeldungszeitraum dieses Senester?\n",
      "**************************************************\n",
      "Translated text:\n",
      " When does the feedback period for this semester end?\n",
      "--------------------------------------------------\n"
     ]
    },
    {
     "name": "stderr",
     "output_type": "stream",
     "text": [
      " 22%|██▏       | 73/337 [01:54<07:04,  1.61s/it]"
     ]
    },
    {
     "name": "stdout",
     "output_type": "stream",
     "text": [
      "Original text:\n",
      " Ist ein Auslandssemester für den Bachelor Abschluss in Cognitive Science notwendig?\n",
      "**************************************************\n",
      "Translated text:\n",
      " Is a semester abroad necessary for a Bachelor's degree in Cognitive Science?\n",
      "--------------------------------------------------\n"
     ]
    },
    {
     "name": "stderr",
     "output_type": "stream",
     "text": [
      " 22%|██▏       | 74/337 [01:55<06:26,  1.47s/it]"
     ]
    },
    {
     "name": "stdout",
     "output_type": "stream",
     "text": [
      "Original text:\n",
      " Welchen Abschluss brauche ich \n",
      "**************************************************\n",
      "Translated text:\n",
      " What degree do I need\n",
      "--------------------------------------------------\n"
     ]
    },
    {
     "name": "stderr",
     "output_type": "stream",
     "text": [
      " 22%|██▏       | 75/337 [01:56<05:52,  1.35s/it]"
     ]
    },
    {
     "name": "stdout",
     "output_type": "stream",
     "text": [
      "Original text:\n",
      " Wo finde ich Wohnungsmöglichkeiten in der Nähe der Uni? \n",
      "**************************************************\n",
      "Translated text:\n",
      " Where can I find housing options near the university?\n",
      "--------------------------------------------------\n"
     ]
    },
    {
     "name": "stderr",
     "output_type": "stream",
     "text": [
      " 23%|██▎       | 76/337 [01:57<05:33,  1.28s/it]"
     ]
    },
    {
     "name": "stdout",
     "output_type": "stream",
     "text": [
      "Original text:\n",
      " Wo ist (Bsp: Raum. 01/E01)?\n",
      "**************************************************\n",
      "Translated text:\n",
      " Where is (example: Room. 01/E01)?\n",
      "--------------------------------------------------\n"
     ]
    },
    {
     "name": "stderr",
     "output_type": "stream",
     "text": [
      " 23%|██▎       | 77/337 [01:59<05:36,  1.29s/it]"
     ]
    },
    {
     "name": "stdout",
     "output_type": "stream",
     "text": [
      "Original text:\n",
      " How should I decide which scholarship grant to apply to given my personal situation?\n",
      "**************************************************\n",
      "Translated text:\n",
      " Wie sollte ich entscheiden, für welches Stipendium ich mich angesichts meiner persönlichen Situation bewerben sollte?\n",
      "--------------------------------------------------\n"
     ]
    },
    {
     "name": "stderr",
     "output_type": "stream",
     "text": [
      " 23%|██▎       | 78/337 [02:00<05:12,  1.21s/it]"
     ]
    },
    {
     "name": "stdout",
     "output_type": "stream",
     "text": [
      "Original text:\n",
      " Welche Studiengänge gibt es an der Universität Osnabrück?\n",
      "**************************************************\n",
      "Translated text:\n",
      " What courses of study are available at the University of Osnabrück?\n",
      "--------------------------------------------------\n"
     ]
    },
    {
     "name": "stderr",
     "output_type": "stream",
     "text": [
      " 23%|██▎       | 79/337 [02:01<04:54,  1.14s/it]"
     ]
    },
    {
     "name": "stdout",
     "output_type": "stream",
     "text": [
      "Original text:\n",
      " Besteht die Möglichkeit an Auslandsaufenthalten teilzunehmen?\n",
      "**************************************************\n",
      "Translated text:\n",
      " Is there the possibility to participate in stays abroad?\n",
      "--------------------------------------------------\n"
     ]
    },
    {
     "name": "stderr",
     "output_type": "stream",
     "text": [
      " 24%|██▎       | 80/337 [02:02<05:21,  1.25s/it]"
     ]
    },
    {
     "name": "stdout",
     "output_type": "stream",
     "text": [
      "Original text:\n",
      " Wie bewirbt man sich für ein Studium, und braucht man dafür einen bestimmten Notendurchschnitt\n",
      "**************************************************\n",
      "Translated text:\n",
      " How do you apply for a study program, and do you need a certain grade point average for it?\n",
      "--------------------------------------------------\n"
     ]
    },
    {
     "name": "stderr",
     "output_type": "stream",
     "text": [
      " 24%|██▍       | 81/337 [02:06<08:16,  1.94s/it]"
     ]
    },
    {
     "name": "stdout",
     "output_type": "stream",
     "text": [
      "Original text:\n",
      " Sind die Räume gut beheizt?\n",
      "**************************************************\n",
      "Translated text:\n",
      " Are the rooms well heated?\n",
      "--------------------------------------------------\n"
     ]
    },
    {
     "name": "stderr",
     "output_type": "stream",
     "text": [
      " 24%|██▍       | 82/337 [02:07<07:28,  1.76s/it]"
     ]
    },
    {
     "name": "stdout",
     "output_type": "stream",
     "text": [
      "Original text:\n",
      " Ab welchem Notendurchschnitt wird man an der Uni (vielleicht) angenommen?\n",
      "**************************************************\n",
      "Translated text:\n",
      " From what grade point average are you (possibly) accepted at the university?\n",
      "--------------------------------------------------\n"
     ]
    },
    {
     "name": "stderr",
     "output_type": "stream",
     "text": [
      " 25%|██▍       | 83/337 [02:09<07:07,  1.68s/it]"
     ]
    },
    {
     "name": "stdout",
     "output_type": "stream",
     "text": [
      "Original text:\n",
      " Ist die Uni gut erreichbar?\n",
      "**************************************************\n",
      "Translated text:\n",
      " Is the university easily accessible?\n",
      "--------------------------------------------------\n"
     ]
    },
    {
     "name": "stderr",
     "output_type": "stream",
     "text": [
      " 25%|██▍       | 84/337 [02:10<06:12,  1.47s/it]"
     ]
    },
    {
     "name": "stdout",
     "output_type": "stream",
     "text": [
      "Original text:\n",
      " Bis wann kann ich mich für Bachelor Biologie bewerben?\n",
      "**************************************************\n",
      "Translated text:\n",
      " Until when can I apply for a Bachelor's in Biology?\n",
      "--------------------------------------------------\n"
     ]
    },
    {
     "name": "stderr",
     "output_type": "stream",
     "text": [
      " 25%|██▌       | 85/337 [02:11<05:53,  1.40s/it]"
     ]
    },
    {
     "name": "stdout",
     "output_type": "stream",
     "text": [
      "Original text:\n",
      " What documents do I need to submit?\n",
      "**************************************************\n",
      "Translated text:\n",
      " Welche Dokumente muss ich einreichen?\n",
      "--------------------------------------------------\n"
     ]
    },
    {
     "name": "stderr",
     "output_type": "stream",
     "text": [
      " 26%|██▌       | 86/337 [02:12<05:21,  1.28s/it]"
     ]
    },
    {
     "name": "stdout",
     "output_type": "stream",
     "text": [
      "Original text:\n",
      " Wie ist die Geschichte der Uni?\n",
      "**************************************************\n",
      "Translated text:\n",
      " What is the history of the university?\n",
      "--------------------------------------------------\n"
     ]
    },
    {
     "name": "stderr",
     "output_type": "stream",
     "text": [
      " 26%|██▌       | 87/337 [02:13<05:01,  1.21s/it]"
     ]
    },
    {
     "name": "stdout",
     "output_type": "stream",
     "text": [
      "Original text:\n",
      " Welche Fächer könnten etwas für mich sein \n",
      "**************************************************\n",
      "Translated text:\n",
      " Which subjects could be something for me?\n",
      "--------------------------------------------------\n"
     ]
    },
    {
     "name": "stderr",
     "output_type": "stream",
     "text": [
      " 26%|██▌       | 88/337 [02:14<04:42,  1.13s/it]"
     ]
    },
    {
     "name": "stdout",
     "output_type": "stream",
     "text": [
      "Original text:\n",
      " Welchen nc braucht man für welches Studium?\n",
      "**************************************************\n",
      "Translated text:\n",
      " What NC do you need for which course of study?\n",
      "--------------------------------------------------\n"
     ]
    },
    {
     "name": "stderr",
     "output_type": "stream",
     "text": [
      " 26%|██▋       | 89/337 [02:15<04:39,  1.13s/it]"
     ]
    },
    {
     "name": "stdout",
     "output_type": "stream",
     "text": [
      "Original text:\n",
      " Wie melde ich mich fuer meine Bachelorarbeit an?\n",
      "**************************************************\n",
      "Translated text:\n",
      " How do I register for my bachelor's thesis?\n",
      "--------------------------------------------------\n"
     ]
    },
    {
     "name": "stderr",
     "output_type": "stream",
     "text": [
      " 27%|██▋       | 90/337 [02:16<04:49,  1.17s/it]"
     ]
    },
    {
     "name": "stdout",
     "output_type": "stream",
     "text": [
      "Original text:\n",
      " Was ist besser Studium oder Ausbildung?\n",
      "**************************************************\n",
      "Translated text:\n",
      " What is better, studying or training?\n",
      "--------------------------------------------------\n"
     ]
    },
    {
     "name": "stderr",
     "output_type": "stream",
     "text": [
      " 27%|██▋       | 91/337 [02:18<05:38,  1.38s/it]"
     ]
    },
    {
     "name": "stdout",
     "output_type": "stream",
     "text": [
      "Original text:\n",
      " What are the admission requirements for international students, and are there specific language proficiency tests accepted?\n",
      "**************************************************\n",
      "Translated text:\n",
      " Was sind die Zulassungsvoraussetzungen für internationale Studierende und werden spezifische Sprachkenntnistests akzeptiert?\n",
      "--------------------------------------------------\n"
     ]
    },
    {
     "name": "stderr",
     "output_type": "stream",
     "text": [
      " 27%|██▋       | 92/337 [02:19<05:15,  1.29s/it]"
     ]
    },
    {
     "name": "stdout",
     "output_type": "stream",
     "text": [
      "Original text:\n",
      " Was muss ich alles nach meiner Immatrikulation erledigen?\n",
      "**************************************************\n",
      "Translated text:\n",
      " What all do I need to do after my enrollment?\n",
      "--------------------------------------------------\n"
     ]
    },
    {
     "name": "stderr",
     "output_type": "stream",
     "text": [
      " 28%|██▊       | 93/337 [02:20<05:08,  1.26s/it]"
     ]
    },
    {
     "name": "stdout",
     "output_type": "stream",
     "text": [
      "Original text:\n",
      " How am I able to get a student accomodation during my arrival at Osnabrück?\n",
      "**************************************************\n",
      "Translated text:\n",
      " Wie kann ich bei meiner Ankunft in Osnabrück eine Studentenunterkunft bekommen?\n",
      "--------------------------------------------------\n"
     ]
    },
    {
     "name": "stderr",
     "output_type": "stream",
     "text": [
      " 28%|██▊       | 94/337 [02:21<04:57,  1.22s/it]"
     ]
    },
    {
     "name": "stdout",
     "output_type": "stream",
     "text": [
      "Original text:\n",
      " Welche Tools stellt die Uni mir zur Verfügung?\n",
      "**************************************************\n",
      "Translated text:\n",
      " What tools does the university provide me with?\n",
      "--------------------------------------------------\n"
     ]
    },
    {
     "name": "stderr",
     "output_type": "stream",
     "text": [
      " 28%|██▊       | 95/337 [02:22<04:35,  1.14s/it]"
     ]
    },
    {
     "name": "stdout",
     "output_type": "stream",
     "text": [
      "Original text:\n",
      " Wo finde ich Infos zu Stipendien?\n",
      "**************************************************\n",
      "Translated text:\n",
      " Where can I find information about scholarships?\n",
      "--------------------------------------------------\n"
     ]
    },
    {
     "name": "stderr",
     "output_type": "stream",
     "text": [
      " 28%|██▊       | 96/337 [02:23<04:19,  1.08s/it]"
     ]
    },
    {
     "name": "stdout",
     "output_type": "stream",
     "text": [
      "Original text:\n",
      " Wie kann ich auf Online Inhalte der Bibliothek zugreifen?\n",
      "**************************************************\n",
      "Translated text:\n",
      " How can I access the online content of the library?\n",
      "--------------------------------------------------\n"
     ]
    },
    {
     "name": "stderr",
     "output_type": "stream",
     "text": [
      " 29%|██▉       | 97/337 [02:24<04:11,  1.05s/it]"
     ]
    },
    {
     "name": "stdout",
     "output_type": "stream",
     "text": [
      "Original text:\n",
      " Wann sind wieder Semesterferien?\n",
      "**************************************************\n",
      "Translated text:\n",
      " When is the semester break again?\n",
      "--------------------------------------------------\n"
     ]
    },
    {
     "name": "stderr",
     "output_type": "stream",
     "text": [
      " 29%|██▉       | 98/337 [02:25<04:04,  1.02s/it]"
     ]
    },
    {
     "name": "stdout",
     "output_type": "stream",
     "text": [
      "Original text:\n",
      " Welche Studiengänge bietet die Universität Osnabrück an?\n",
      "**************************************************\n",
      "Translated text:\n",
      " What courses does the University of Osnabrück offer?\n",
      "--------------------------------------------------\n"
     ]
    },
    {
     "name": "stderr",
     "output_type": "stream",
     "text": [
      " 29%|██▉       | 99/337 [02:27<04:21,  1.10s/it]"
     ]
    },
    {
     "name": "stdout",
     "output_type": "stream",
     "text": [
      "Original text:\n",
      " Wie melde ich mich für eine Bachelorarbeit an?\n",
      "**************************************************\n",
      "Translated text:\n",
      " How do I register for a bachelor's thesis?\n",
      "--------------------------------------------------\n"
     ]
    },
    {
     "name": "stderr",
     "output_type": "stream",
     "text": [
      " 30%|██▉       | 100/337 [02:29<05:50,  1.48s/it]"
     ]
    },
    {
     "name": "stdout",
     "output_type": "stream",
     "text": [
      "Original text:\n",
      " Darf ich während meines Auslandssemesters bzw. Auslandspraktikums weiterhin an Kursen der Universität Osnabrück teilnehmen? Oder ist meine Teilnahme an Kursen in dem Zeitraum des Auslandsaufenthalts blockiert? \n",
      "**************************************************\n",
      "Translated text:\n",
      " May I continue to participate in courses at the University of Osnabrück during my semester abroad or internship abroad? Or is my participation in courses blocked during the period of my stay abroad?\n",
      "--------------------------------------------------\n"
     ]
    },
    {
     "name": "stderr",
     "output_type": "stream",
     "text": [
      " 30%|██▉       | 101/337 [02:30<05:31,  1.41s/it]"
     ]
    },
    {
     "name": "stdout",
     "output_type": "stream",
     "text": [
      "Original text:\n",
      " Ich arbeite als Werkstudent, kann ich als Tutor auf minijob basis arbeiten?\n",
      "**************************************************\n",
      "Translated text:\n",
      " I work as a working student, can I work as a tutor on a mini job basis?\n",
      "--------------------------------------------------\n"
     ]
    },
    {
     "name": "stderr",
     "output_type": "stream",
     "text": [
      " 30%|███       | 102/337 [02:31<05:14,  1.34s/it]"
     ]
    },
    {
     "name": "stdout",
     "output_type": "stream",
     "text": [
      "Original text:\n",
      " Wie viele Leistunspunke ist das Master Projekt in Cognitive science? \n",
      "**************************************************\n",
      "Translated text:\n",
      " How many credit points is the Master's project in Cognitive Science?\n",
      "--------------------------------------------------\n"
     ]
    },
    {
     "name": "stderr",
     "output_type": "stream",
     "text": [
      " 31%|███       | 103/337 [02:33<05:29,  1.41s/it]"
     ]
    },
    {
     "name": "stdout",
     "output_type": "stream",
     "text": [
      "Original text:\n",
      " I want to have student financial support. Are there any options provided by the university itself? \n",
      "**************************************************\n",
      "Translated text:\n",
      " Ich möchte eine finanzielle Unterstützung für Studenten erhalten. Gibt es Optionen, die von der Universität selbst angeboten werden?\n",
      "--------------------------------------------------\n"
     ]
    },
    {
     "name": "stderr",
     "output_type": "stream",
     "text": [
      " 31%|███       | 104/337 [02:34<05:07,  1.32s/it]"
     ]
    },
    {
     "name": "stdout",
     "output_type": "stream",
     "text": [
      "Original text:\n",
      " Passt dieser Studiengang wirklich zu mir?\n",
      "**************************************************\n",
      "Translated text:\n",
      " Does this course of study really suit me?\n",
      "--------------------------------------------------\n"
     ]
    },
    {
     "name": "stderr",
     "output_type": "stream",
     "text": [
      " 31%|███       | 105/337 [02:35<05:05,  1.32s/it]"
     ]
    },
    {
     "name": "stdout",
     "output_type": "stream",
     "text": [
      "Original text:\n",
      " Auf welche Master Studiengänge (der UOS) kann ich mich mit meinem Bachelor in Cognitive Science bewerben?\n",
      "**************************************************\n",
      "Translated text:\n",
      " Which master's programs (at UOS) can I apply to with my Bachelor's in Cognitive Science?\n",
      "--------------------------------------------------\n"
     ]
    },
    {
     "name": "stderr",
     "output_type": "stream",
     "text": [
      " 31%|███▏      | 106/337 [02:36<04:56,  1.28s/it]"
     ]
    },
    {
     "name": "stdout",
     "output_type": "stream",
     "text": [
      "Original text:\n",
      " Wo finde ich Praktikumsstellen?\n",
      "**************************************************\n",
      "Translated text:\n",
      " Where can I find internship positions?\n",
      "--------------------------------------------------\n"
     ]
    },
    {
     "name": "stderr",
     "output_type": "stream",
     "text": [
      " 32%|███▏      | 107/337 [02:38<05:11,  1.35s/it]"
     ]
    },
    {
     "name": "stdout",
     "output_type": "stream",
     "text": [
      "Original text:\n",
      " Wo finde ich Informationen zu den Wohnheimen oder anderen Unterkunftsmöglichkeiten für Studierende in Osnabrück?\n",
      "**************************************************\n",
      "Translated text:\n",
      " Where can I find information about dormitories or other accommodation options for students in Osnabrück?\n",
      "--------------------------------------------------\n"
     ]
    },
    {
     "name": "stderr",
     "output_type": "stream",
     "text": [
      " 32%|███▏      | 108/337 [02:39<04:37,  1.21s/it]"
     ]
    },
    {
     "name": "stdout",
     "output_type": "stream",
     "text": [
      "Original text:\n",
      " An wen kann ich mich wenden, um berufspraktische Tätigkeiten nachzuweisen?\n",
      "**************************************************\n",
      "Translated text:\n",
      " Who can I turn to in order to verify professional practical activities?\n",
      "--------------------------------------------------\n"
     ]
    },
    {
     "name": "stderr",
     "output_type": "stream",
     "text": [
      " 32%|███▏      | 109/337 [02:40<04:34,  1.20s/it]"
     ]
    },
    {
     "name": "stdout",
     "output_type": "stream",
     "text": [
      "Original text:\n",
      " Wo finde ich allgemeine Informationen zu den verschiedenen Fachbereichen?\n",
      "**************************************************\n",
      "Translated text:\n",
      " Where can I find general information about the different departments?\n",
      "--------------------------------------------------\n"
     ]
    },
    {
     "name": "stderr",
     "output_type": "stream",
     "text": [
      " 33%|███▎      | 110/337 [02:41<04:12,  1.11s/it]"
     ]
    },
    {
     "name": "stdout",
     "output_type": "stream",
     "text": [
      "Original text:\n",
      " Wo finde ich das Klausurdeckblatt zum downloaden?\n",
      "**************************************************\n",
      "Translated text:\n",
      " Where can I find the exam cover sheet to download?\n",
      "--------------------------------------------------\n"
     ]
    },
    {
     "name": "stderr",
     "output_type": "stream",
     "text": [
      " 33%|███▎      | 111/337 [02:42<04:12,  1.12s/it]"
     ]
    },
    {
     "name": "stdout",
     "output_type": "stream",
     "text": [
      "Original text:\n",
      " Wo kann ich meine bisher erbrachten Leistungen und Noten einsehen?\n",
      "**************************************************\n",
      "Translated text:\n",
      " Where can I view my previously provided services and grades?\n",
      "--------------------------------------------------\n"
     ]
    },
    {
     "name": "stderr",
     "output_type": "stream",
     "text": [
      " 33%|███▎      | 112/337 [02:43<04:01,  1.07s/it]"
     ]
    },
    {
     "name": "stdout",
     "output_type": "stream",
     "text": [
      "Original text:\n",
      " Welche Angebote vom Sportzentrum gibt es?\n",
      "**************************************************\n",
      "Translated text:\n",
      " What offers are there from the sports center?\n",
      "--------------------------------------------------\n"
     ]
    },
    {
     "name": "stderr",
     "output_type": "stream",
     "text": [
      " 34%|███▎      | 113/337 [02:44<04:17,  1.15s/it]"
     ]
    },
    {
     "name": "stdout",
     "output_type": "stream",
     "text": [
      "Original text:\n",
      " Welcher Hausmeister ist für Gebäude 94 zuständig?\n",
      "**************************************************\n",
      "Translated text:\n",
      " Which caretaker is responsible for building 94?\n",
      "--------------------------------------------------\n"
     ]
    },
    {
     "name": "stderr",
     "output_type": "stream",
     "text": [
      " 34%|███▍      | 114/337 [02:46<04:15,  1.15s/it]"
     ]
    },
    {
     "name": "stdout",
     "output_type": "stream",
     "text": [
      "Original text:\n",
      " When is the holiday for this semester?\n",
      "**************************************************\n",
      "Translated text:\n",
      " Wann sind die Ferien für dieses Semester?\n",
      "--------------------------------------------------\n"
     ]
    },
    {
     "name": "stderr",
     "output_type": "stream",
     "text": [
      " 34%|███▍      | 115/337 [02:47<04:10,  1.13s/it]"
     ]
    },
    {
     "name": "stdout",
     "output_type": "stream",
     "text": [
      "Original text:\n",
      " Was mache ich bei Studienzweifeln?\n",
      "**************************************************\n",
      "Translated text:\n",
      " What do I do if I have doubts about my studies?\n",
      "--------------------------------------------------\n"
     ]
    },
    {
     "name": "stderr",
     "output_type": "stream",
     "text": [
      " 34%|███▍      | 116/337 [02:48<03:59,  1.08s/it]"
     ]
    },
    {
     "name": "stdout",
     "output_type": "stream",
     "text": [
      "Original text:\n",
      " What is the credit system to finish my masters?\n",
      "**************************************************\n",
      "Translated text:\n",
      " Was ist das Kreditsystem, um meinen Master abzuschließen?\n",
      "--------------------------------------------------\n"
     ]
    },
    {
     "name": "stderr",
     "output_type": "stream",
     "text": [
      " 35%|███▍      | 117/337 [02:49<04:14,  1.16s/it]"
     ]
    },
    {
     "name": "stdout",
     "output_type": "stream",
     "text": [
      "Original text:\n",
      " Are there any special workshops or networking events for Master’s students in Cognitive Science?\n",
      "**************************************************\n",
      "Translated text:\n",
      " Gibt es spezielle Workshops oder Networking-Veranstaltungen für Masterstudenten in Kognitionswissenschaften?\n",
      "--------------------------------------------------\n"
     ]
    },
    {
     "name": "stderr",
     "output_type": "stream",
     "text": [
      " 35%|███▌      | 118/337 [02:50<04:19,  1.19s/it]"
     ]
    },
    {
     "name": "stdout",
     "output_type": "stream",
     "text": [
      "Original text:\n",
      " Bis wann kann ich mich für einen NC-freien Studiengang an der Uni einschreiben?\n",
      "**************************************************\n",
      "Translated text:\n",
      " Until when can I enroll for a non-NC course at the university?\n",
      "--------------------------------------------------\n"
     ]
    },
    {
     "name": "stderr",
     "output_type": "stream",
     "text": [
      " 35%|███▌      | 119/337 [02:51<04:02,  1.11s/it]"
     ]
    },
    {
     "name": "stdout",
     "output_type": "stream",
     "text": [
      "Original text:\n",
      " Was gibt es heute in der Mensa?\n",
      "**************************************************\n",
      "Translated text:\n",
      " What is on the menu in the cafeteria today?\n",
      "--------------------------------------------------\n"
     ]
    },
    {
     "name": "stderr",
     "output_type": "stream",
     "text": [
      " 36%|███▌      | 120/337 [02:53<04:20,  1.20s/it]"
     ]
    },
    {
     "name": "stdout",
     "output_type": "stream",
     "text": [
      "Original text:\n",
      " Wo finde ich das Formular für Versuchspersonenstunden?\n",
      "**************************************************\n",
      "Translated text:\n",
      " Where can I find the form for experimental subject hours?\n",
      "--------------------------------------------------\n"
     ]
    },
    {
     "name": "stderr",
     "output_type": "stream",
     "text": [
      " 36%|███▌      | 121/337 [02:54<04:11,  1.16s/it]"
     ]
    },
    {
     "name": "stdout",
     "output_type": "stream",
     "text": [
      "Original text:\n",
      " Welche angebote bietet der Universität \n",
      "**************************************************\n",
      "Translated text:\n",
      " What offers does the university provide?\n",
      "--------------------------------------------------\n"
     ]
    },
    {
     "name": "stderr",
     "output_type": "stream",
     "text": [
      " 36%|███▌      | 122/337 [02:55<04:02,  1.13s/it]"
     ]
    },
    {
     "name": "stdout",
     "output_type": "stream",
     "text": [
      "Original text:\n",
      " Wie viele Student studieren momentan an der Uni? \n",
      "**************************************************\n",
      "Translated text:\n",
      " How many students are currently studying at the university?\n",
      "--------------------------------------------------\n"
     ]
    },
    {
     "name": "stderr",
     "output_type": "stream",
     "text": [
      " 36%|███▋      | 123/337 [02:56<03:59,  1.12s/it]"
     ]
    },
    {
     "name": "stdout",
     "output_type": "stream",
     "text": [
      "Original text:\n",
      " Wie lauten die Kontaktdaten der Uni?\n",
      "**************************************************\n",
      "Translated text:\n",
      " What are the contact details of the university?\n",
      "--------------------------------------------------\n"
     ]
    },
    {
     "name": "stderr",
     "output_type": "stream",
     "text": [
      " 37%|███▋      | 124/337 [02:57<03:55,  1.10s/it]"
     ]
    },
    {
     "name": "stdout",
     "output_type": "stream",
     "text": [
      "Original text:\n",
      " How can I apply to language learning services?\n",
      "**************************************************\n",
      "Translated text:\n",
      " Wie kann ich mich für Sprachlernservices bewerben?\n",
      "--------------------------------------------------\n"
     ]
    },
    {
     "name": "stderr",
     "output_type": "stream",
     "text": [
      " 37%|███▋      | 125/337 [02:58<03:35,  1.01s/it]"
     ]
    },
    {
     "name": "stdout",
     "output_type": "stream",
     "text": [
      "Original text:\n",
      " Gibt es Auslandssemester, die von der Universität angeboten werden? \n",
      "**************************************************\n",
      "Translated text:\n",
      " Are there study abroad semesters offered by the university?\n",
      "--------------------------------------------------\n"
     ]
    },
    {
     "name": "stderr",
     "output_type": "stream",
     "text": [
      " 37%|███▋      | 126/337 [02:59<03:32,  1.01s/it]"
     ]
    },
    {
     "name": "stdout",
     "output_type": "stream",
     "text": [
      "Original text:\n",
      " Wie kann ich jemanden erreichen, der mir weiterhilft?\n",
      "**************************************************\n",
      "Translated text:\n",
      " How can I reach someone who can help me?\n",
      "--------------------------------------------------\n"
     ]
    },
    {
     "name": "stderr",
     "output_type": "stream",
     "text": [
      " 38%|███▊      | 127/337 [03:00<03:35,  1.03s/it]"
     ]
    },
    {
     "name": "stdout",
     "output_type": "stream",
     "text": [
      "Original text:\n",
      " Gibt es an der Uni ein Angebot für Schüler, wie z. B. Schnuppertage oder Vorlesungen?\n",
      "**************************************************\n",
      "Translated text:\n",
      " Does the university offer anything for school students, such as taster days or lectures?\n",
      "--------------------------------------------------\n"
     ]
    },
    {
     "name": "stderr",
     "output_type": "stream",
     "text": [
      " 38%|███▊      | 128/337 [03:01<03:31,  1.01s/it]"
     ]
    },
    {
     "name": "stdout",
     "output_type": "stream",
     "text": [
      "Original text:\n",
      " Wen sollte ich bei Hilfe fragen?\n",
      "**************************************************\n",
      "Translated text:\n",
      " Who should I ask for help?\n",
      "--------------------------------------------------\n"
     ]
    },
    {
     "name": "stderr",
     "output_type": "stream",
     "text": [
      " 38%|███▊      | 129/337 [03:02<03:35,  1.04s/it]"
     ]
    },
    {
     "name": "stdout",
     "output_type": "stream",
     "text": [
      "Original text:\n",
      " Was ist besonders an der Uni? / Was bietet diese, was andere Universitäten nicht bieten?\n",
      "**************************************************\n",
      "Translated text:\n",
      " What is special about the university? / What does it offer that other universities do not offer?\n",
      "--------------------------------------------------\n"
     ]
    },
    {
     "name": "stderr",
     "output_type": "stream",
     "text": [
      " 39%|███▊      | 130/337 [03:03<03:37,  1.05s/it]"
     ]
    },
    {
     "name": "stdout",
     "output_type": "stream",
     "text": [
      "Original text:\n",
      " Wie sind die Mietpreise für Wohnungen in der Nähe des Campus\n",
      "**************************************************\n",
      "Translated text:\n",
      " What are the rental prices for apartments near the campus?\n",
      "--------------------------------------------------\n"
     ]
    },
    {
     "name": "stderr",
     "output_type": "stream",
     "text": [
      " 39%|███▉      | 131/337 [03:04<03:37,  1.06s/it]"
     ]
    },
    {
     "name": "stdout",
     "output_type": "stream",
     "text": [
      "Original text:\n",
      " Erfolgt die Bewerbung für Studium über Uniassist oder direkt?\n",
      "**************************************************\n",
      "Translated text:\n",
      " Is the application for studies made through Uniassist or directly?\n",
      "--------------------------------------------------\n"
     ]
    },
    {
     "name": "stderr",
     "output_type": "stream",
     "text": [
      " 39%|███▉      | 132/337 [03:05<03:35,  1.05s/it]"
     ]
    },
    {
     "name": "stdout",
     "output_type": "stream",
     "text": [
      "Original text:\n",
      " What are the requirements?\n",
      "**************************************************\n",
      "Translated text:\n",
      " Was sind die Anforderungen?\n",
      "--------------------------------------------------\n"
     ]
    },
    {
     "name": "stderr",
     "output_type": "stream",
     "text": [
      " 39%|███▉      | 133/337 [03:06<03:32,  1.04s/it]"
     ]
    },
    {
     "name": "stdout",
     "output_type": "stream",
     "text": [
      "Original text:\n",
      " Wie unterscheidet sich die Univon anderen?\n",
      "**************************************************\n",
      "Translated text:\n",
      " How does the university differ from others?\n",
      "--------------------------------------------------\n"
     ]
    },
    {
     "name": "stderr",
     "output_type": "stream",
     "text": [
      " 40%|███▉      | 134/337 [03:07<03:40,  1.08s/it]"
     ]
    },
    {
     "name": "stdout",
     "output_type": "stream",
     "text": [
      "Original text:\n",
      " Wie ist  Wohnsituation wenn man hier studieren möchte \n",
      "**************************************************\n",
      "Translated text:\n",
      " What is the living situation like if one wants to study here?\n",
      "--------------------------------------------------\n"
     ]
    },
    {
     "name": "stderr",
     "output_type": "stream",
     "text": [
      " 40%|████      | 135/337 [03:08<03:22,  1.00s/it]"
     ]
    },
    {
     "name": "stdout",
     "output_type": "stream",
     "text": [
      "Original text:\n",
      " Wie lange geht das Lehramtstudium\n",
      "**************************************************\n",
      "Translated text:\n",
      " How long does the teacher training study last?\n",
      "--------------------------------------------------\n"
     ]
    },
    {
     "name": "stderr",
     "output_type": "stream",
     "text": [
      " 40%|████      | 136/337 [03:09<03:25,  1.02s/it]"
     ]
    },
    {
     "name": "stdout",
     "output_type": "stream",
     "text": [
      "Original text:\n",
      " Wann ist Bewerbungsschluss?\n",
      "**************************************************\n",
      "Translated text:\n",
      " When is the application deadline?\n",
      "--------------------------------------------------\n"
     ]
    },
    {
     "name": "stderr",
     "output_type": "stream",
     "text": [
      " 41%|████      | 137/337 [03:10<03:11,  1.05it/s]"
     ]
    },
    {
     "name": "stdout",
     "output_type": "stream",
     "text": [
      "Original text:\n",
      " wie teuer ist studieren?\n",
      "**************************************************\n",
      "Translated text:\n",
      " how expensive is studying?\n",
      "--------------------------------------------------\n"
     ]
    },
    {
     "name": "stderr",
     "output_type": "stream",
     "text": [
      " 41%|████      | 138/337 [03:11<03:27,  1.04s/it]"
     ]
    },
    {
     "name": "stdout",
     "output_type": "stream",
     "text": [
      "Original text:\n",
      " Welche anderen Studiengaenge gibt es mit einem Informatik Schwerpunkt?\n",
      "**************************************************\n",
      "Translated text:\n",
      " What other courses of study are there with a focus on computer science?\n",
      "--------------------------------------------------\n"
     ]
    },
    {
     "name": "stderr",
     "output_type": "stream",
     "text": [
      " 41%|████      | 139/337 [03:12<03:08,  1.05it/s]"
     ]
    },
    {
     "name": "stdout",
     "output_type": "stream",
     "text": [
      "Original text:\n",
      " Welche Fächer kann man studieren?\n",
      "**************************************************\n",
      "Translated text:\n",
      " What subjects can one study?\n",
      "--------------------------------------------------\n"
     ]
    },
    {
     "name": "stderr",
     "output_type": "stream",
     "text": [
      " 42%|████▏     | 140/337 [03:13<03:25,  1.04s/it]"
     ]
    },
    {
     "name": "stdout",
     "output_type": "stream",
     "text": [
      "Original text:\n",
      " Can you provide details about scholarships or financial aid options available for international students?\n",
      "**************************************************\n",
      "Translated text:\n",
      " Können Sie Details zu Stipendien oder Finanzhilfemöglichkeiten für internationale Studierende bereitstellen?\n",
      "--------------------------------------------------\n"
     ]
    },
    {
     "name": "stderr",
     "output_type": "stream",
     "text": [
      " 42%|████▏     | 141/337 [03:14<03:33,  1.09s/it]"
     ]
    },
    {
     "name": "stdout",
     "output_type": "stream",
     "text": [
      "Original text:\n",
      " Wie lasse ich mich exmatrikulieren?\n",
      "**************************************************\n",
      "Translated text:\n",
      " How do I deregister myself?\n",
      "--------------------------------------------------\n"
     ]
    },
    {
     "name": "stderr",
     "output_type": "stream",
     "text": [
      " 42%|████▏     | 142/337 [03:15<03:38,  1.12s/it]"
     ]
    },
    {
     "name": "stdout",
     "output_type": "stream",
     "text": [
      "Original text:\n",
      " How similar is cognitive science to psychology and biology?\n",
      "**************************************************\n",
      "Translated text:\n",
      " Wie ähnlich ist die Kognitionswissenschaft zur Psychologie und Biologie?\n",
      "--------------------------------------------------\n"
     ]
    },
    {
     "name": "stderr",
     "output_type": "stream",
     "text": [
      " 42%|████▏     | 143/337 [03:17<03:59,  1.23s/it]"
     ]
    },
    {
     "name": "stdout",
     "output_type": "stream",
     "text": [
      "Original text:\n",
      " Wo gibt es Werkstätten welche ich nutzen kann? Z.b. Holz oder Drucker\n",
      "**************************************************\n",
      "Translated text:\n",
      " Where are there workshops that I can use? For example, wood or printer.\n",
      "--------------------------------------------------\n"
     ]
    },
    {
     "name": "stderr",
     "output_type": "stream",
     "text": [
      " 43%|████▎     | 144/337 [03:18<03:58,  1.24s/it]"
     ]
    },
    {
     "name": "stdout",
     "output_type": "stream",
     "text": [
      "Original text:\n",
      " Wie bewerbe ich mich für den Master Cognitive Science?\n",
      "**************************************************\n",
      "Translated text:\n",
      " How do I apply for the Master's in Cognitive Science?\n",
      "--------------------------------------------------\n"
     ]
    },
    {
     "name": "stderr",
     "output_type": "stream",
     "text": [
      " 43%|████▎     | 145/337 [03:20<04:02,  1.26s/it]"
     ]
    },
    {
     "name": "stdout",
     "output_type": "stream",
     "text": [
      "Original text:\n",
      " Wann sind zwischen 2025 und 2027 vorlesungsfreie Zeiten?\n",
      "**************************************************\n",
      "Translated text:\n",
      " When are the lecture-free times between 2025 and 2027?\n",
      "--------------------------------------------------\n"
     ]
    },
    {
     "name": "stderr",
     "output_type": "stream",
     "text": [
      " 43%|████▎     | 146/337 [03:21<03:46,  1.19s/it]"
     ]
    },
    {
     "name": "stdout",
     "output_type": "stream",
     "text": [
      "Original text:\n",
      " Wie lautet die Adresse für das Gebäude 15?\n",
      "**************************************************\n",
      "Translated text:\n",
      " What is the address for building 15?\n",
      "--------------------------------------------------\n"
     ]
    },
    {
     "name": "stderr",
     "output_type": "stream",
     "text": [
      " 44%|████▎     | 147/337 [03:22<03:52,  1.22s/it]"
     ]
    },
    {
     "name": "stdout",
     "output_type": "stream",
     "text": [
      "Original text:\n",
      " Ich habe an das Impressum eine Mail geschickt, kriege aber keine Antwort. Gibt es noch weitere Kontaktmöglichkeiten.\n",
      "**************************************************\n",
      "Translated text:\n",
      " I sent an email to the imprint, but I'm not getting a response. Are there any other ways to contact?\n",
      "--------------------------------------------------\n"
     ]
    },
    {
     "name": "stderr",
     "output_type": "stream",
     "text": [
      " 44%|████▍     | 148/337 [03:23<03:55,  1.25s/it]"
     ]
    },
    {
     "name": "stdout",
     "output_type": "stream",
     "text": [
      "Original text:\n",
      " Bekomme ich als Semesterticket ein Deutschlandticket gestellt?\n",
      "**************************************************\n",
      "Translated text:\n",
      " Do I get a Germany ticket as a semester ticket?\n",
      "--------------------------------------------------\n"
     ]
    },
    {
     "name": "stderr",
     "output_type": "stream",
     "text": [
      " 44%|████▍     | 149/337 [03:24<03:31,  1.13s/it]"
     ]
    },
    {
     "name": "stdout",
     "output_type": "stream",
     "text": [
      "Original text:\n",
      " Welche Institute sind am Standort Westerberg?\n",
      "**************************************************\n",
      "Translated text:\n",
      " Which institutes are located at Westerberg?\n",
      "--------------------------------------------------\n"
     ]
    },
    {
     "name": "stderr",
     "output_type": "stream",
     "text": [
      " 45%|████▍     | 150/337 [03:26<04:40,  1.50s/it]"
     ]
    },
    {
     "name": "stdout",
     "output_type": "stream",
     "text": [
      "Original text:\n",
      " Wenn mein Pflicht-Auslandsaufenthalt z.B. im Dezember aufhört (weil ich in einem Land mit anderen Semesterzeiten bin oder weil mein Praktikum nur bis Dezember geht), dürfte ich dann theoretisch noch im restlichen Wintersemester der Uni Osnabrück (welches bis März geht) an Kursen teilnehmen und sogar eine Klausur in diesen Kursen schreiben?\n",
      "**************************************************\n",
      "Translated text:\n",
      " If my mandatory stay abroad, for example, ends in December (because I am in a country with different semester times or because my internship only goes until December), would I then theoretically still be able to participate in courses for the remainder of the winter semester at the University of Osnabrück (which goes until March) and even write an exam in these courses?\n",
      "--------------------------------------------------\n"
     ]
    },
    {
     "name": "stderr",
     "output_type": "stream",
     "text": [
      " 45%|████▍     | 151/337 [03:27<04:10,  1.35s/it]"
     ]
    },
    {
     "name": "stdout",
     "output_type": "stream",
     "text": [
      "Original text:\n",
      " Wann bekomme ich eine Antwort ob ich das Niedersachenstipendium bekomme?\n",
      "**************************************************\n",
      "Translated text:\n",
      " When will I get a response about whether I will receive the Lower Saxony scholarship?\n",
      "--------------------------------------------------\n"
     ]
    },
    {
     "name": "stderr",
     "output_type": "stream",
     "text": [
      " 45%|████▌     | 152/337 [03:29<04:07,  1.34s/it]"
     ]
    },
    {
     "name": "stdout",
     "output_type": "stream",
     "text": [
      "Original text:\n",
      " Was ist der Hauptunterschied zwischen PO 2019 und 2024 für den Cognitive Science Bachelor Studiengang? \n",
      "**************************************************\n",
      "Translated text:\n",
      " What is the main difference between PO 2019 and 2024 for the Cognitive Science Bachelor's degree program?\n",
      "--------------------------------------------------\n"
     ]
    },
    {
     "name": "stderr",
     "output_type": "stream",
     "text": [
      " 45%|████▌     | 153/337 [03:31<04:51,  1.58s/it]"
     ]
    },
    {
     "name": "stdout",
     "output_type": "stream",
     "text": [
      "Original text:\n",
      " If I want to start a project with a professor, what do I do? Do I adress the professor directly or is there anyone else better to contact? \n",
      "**************************************************\n",
      "Translated text:\n",
      " Wenn ich ein Projekt mit einem Professor starten möchte, was mache ich dann? Spreche ich den Professor direkt an oder gibt es jemanden anderen, den ich besser kontaktieren sollte?\n",
      "--------------------------------------------------\n"
     ]
    },
    {
     "name": "stderr",
     "output_type": "stream",
     "text": [
      " 46%|████▌     | 154/337 [03:32<04:33,  1.50s/it]"
     ]
    },
    {
     "name": "stdout",
     "output_type": "stream",
     "text": [
      "Original text:\n",
      " Sollte ich mich um Bafög oder ein Stipendium kümmern und wenn ja, wie genau gehe ich vor?\n",
      "\n",
      "**************************************************\n",
      "Translated text:\n",
      " Should I worry about Bafög or a scholarship and if so, how exactly do I proceed?\n",
      "--------------------------------------------------\n"
     ]
    },
    {
     "name": "stderr",
     "output_type": "stream",
     "text": [
      " 46%|████▌     | 155/337 [03:33<03:51,  1.27s/it]"
     ]
    },
    {
     "name": "stdout",
     "output_type": "stream",
     "text": [
      "Original text:\n",
      " Welche Studiengänge sind am meisten vertreten?\n",
      "**************************************************\n",
      "Translated text:\n",
      " Which courses of study are most represented?\n",
      "--------------------------------------------------\n"
     ]
    },
    {
     "name": "stderr",
     "output_type": "stream",
     "text": [
      " 46%|████▋     | 156/337 [03:34<03:54,  1.30s/it]"
     ]
    },
    {
     "name": "stdout",
     "output_type": "stream",
     "text": [
      "Original text:\n",
      " Wo finde ich die Mensa am Westerberg?\n",
      "**************************************************\n",
      "Translated text:\n",
      " Where can I find the cafeteria at Westerberg?\n",
      "--------------------------------------------------\n"
     ]
    },
    {
     "name": "stderr",
     "output_type": "stream",
     "text": [
      " 47%|████▋     | 157/337 [03:35<03:51,  1.28s/it]"
     ]
    },
    {
     "name": "stdout",
     "output_type": "stream",
     "text": [
      "Original text:\n",
      " Gibt es finanzielle Unterstützung oder Stipendienprogramme für Studierende, und wie kann ich mich dafür bewerben?\n",
      "**************************************************\n",
      "Translated text:\n",
      " Are there financial aid or scholarship programs for students, and how can I apply for them?\n",
      "--------------------------------------------------\n"
     ]
    },
    {
     "name": "stderr",
     "output_type": "stream",
     "text": [
      " 47%|████▋     | 158/337 [03:37<03:36,  1.21s/it]"
     ]
    },
    {
     "name": "stdout",
     "output_type": "stream",
     "text": [
      "Original text:\n",
      " Wo finde ich die Prüfungsordnungen und Modulbeschreibungen für mein Studienfach?\n",
      "**************************************************\n",
      "Translated text:\n",
      " Where can I find the examination regulations and module descriptions for my field of study?\n",
      "--------------------------------------------------\n"
     ]
    },
    {
     "name": "stderr",
     "output_type": "stream",
     "text": [
      " 47%|████▋     | 159/337 [03:38<03:34,  1.20s/it]"
     ]
    },
    {
     "name": "stdout",
     "output_type": "stream",
     "text": [
      "Original text:\n",
      " Wie hoch ist der Semesterbeitrag und wann ist dieser fällig?\n",
      "**************************************************\n",
      "Translated text:\n",
      " How much is the semester fee and when is it due?\n",
      "--------------------------------------------------\n"
     ]
    },
    {
     "name": "stderr",
     "output_type": "stream",
     "text": [
      " 47%|████▋     | 160/337 [03:39<03:30,  1.19s/it]"
     ]
    },
    {
     "name": "stdout",
     "output_type": "stream",
     "text": [
      "Original text:\n",
      " Wo finde ich die Klausur- und Prüfungstermine für FB 10? \n",
      "**************************************************\n",
      "Translated text:\n",
      " Where can I find the exam and test dates for FB 10?\n",
      "--------------------------------------------------\n"
     ]
    },
    {
     "name": "stderr",
     "output_type": "stream",
     "text": [
      " 48%|████▊     | 161/337 [03:40<03:23,  1.16s/it]"
     ]
    },
    {
     "name": "stdout",
     "output_type": "stream",
     "text": [
      "Original text:\n",
      " Wie lasse ich mir die Teilnahme an Veranstaltungen anrechnen, die nicht Teil meines Studiengangs sind?\n",
      "**************************************************\n",
      "Translated text:\n",
      " How do I get credit for participating in events that are not part of my course of study?\n",
      "--------------------------------------------------\n"
     ]
    },
    {
     "name": "stderr",
     "output_type": "stream",
     "text": [
      " 48%|████▊     | 162/337 [03:41<03:05,  1.06s/it]"
     ]
    },
    {
     "name": "stdout",
     "output_type": "stream",
     "text": [
      "Original text:\n",
      " Welche Angebote vom Sprachenzentrum gibt es?\n",
      "**************************************************\n",
      "Translated text:\n",
      " What offers are there from the language center?\n",
      "--------------------------------------------------\n"
     ]
    },
    {
     "name": "stderr",
     "output_type": "stream",
     "text": [
      " 48%|████▊     | 163/337 [03:42<03:04,  1.06s/it]"
     ]
    },
    {
     "name": "stdout",
     "output_type": "stream",
     "text": [
      "Original text:\n",
      " Gibt es an der Universität eine Professor:in, die zu 'predictive policing' forscht?\n",
      "**************************************************\n",
      "Translated text:\n",
      " Is there a professor at the university who is researching 'predictive policing'?\n",
      "--------------------------------------------------\n"
     ]
    },
    {
     "name": "stderr",
     "output_type": "stream",
     "text": [
      " 49%|████▊     | 164/337 [03:43<03:23,  1.18s/it]"
     ]
    },
    {
     "name": "stdout",
     "output_type": "stream",
     "text": [
      "Original text:\n",
      " How do I put money in my campus card\n",
      "**************************************************\n",
      "Translated text:\n",
      " Wie lege ich Geld auf meine Campus-Karte?\n",
      "--------------------------------------------------\n"
     ]
    },
    {
     "name": "stderr",
     "output_type": "stream",
     "text": [
      " 49%|████▉     | 165/337 [03:45<03:36,  1.26s/it]"
     ]
    },
    {
     "name": "stdout",
     "output_type": "stream",
     "text": [
      "Original text:\n",
      " Warum gibt es das Niedersachsenmenü nicht mehr?\n",
      "**************************************************\n",
      "Translated text:\n",
      " Why is the Lower Saxony menu no longer available?\n",
      "--------------------------------------------------\n"
     ]
    },
    {
     "name": "stderr",
     "output_type": "stream",
     "text": [
      " 49%|████▉     | 166/337 [03:46<03:22,  1.18s/it]"
     ]
    },
    {
     "name": "stdout",
     "output_type": "stream",
     "text": [
      "Original text:\n",
      " Are there internship opportunities supported by the University?\n",
      "**************************************************\n",
      "Translated text:\n",
      " Gibt es Praktikumsmöglichkeiten, die von der Universität unterstützt werden?\n",
      "--------------------------------------------------\n"
     ]
    },
    {
     "name": "stderr",
     "output_type": "stream",
     "text": [
      " 50%|████▉     | 167/337 [03:47<03:22,  1.19s/it]"
     ]
    },
    {
     "name": "stdout",
     "output_type": "stream",
     "text": [
      "Original text:\n",
      " What student organizations or clubs are open to international students?\n",
      "**************************************************\n",
      "Translated text:\n",
      " Welche Studentenorganisationen oder Clubs stehen internationalen Studenten offen?\n",
      "--------------------------------------------------\n"
     ]
    },
    {
     "name": "stderr",
     "output_type": "stream",
     "text": [
      " 50%|████▉     | 168/337 [03:48<03:18,  1.17s/it]"
     ]
    },
    {
     "name": "stdout",
     "output_type": "stream",
     "text": [
      "Original text:\n",
      " Wie teurer ist es in einem Studentenwohnheim zu wohnen?\n",
      "**************************************************\n",
      "Translated text:\n",
      " How expensive is it to live in a student dormitory?\n",
      "--------------------------------------------------\n"
     ]
    },
    {
     "name": "stderr",
     "output_type": "stream",
     "text": [
      " 50%|█████     | 169/337 [03:49<03:13,  1.15s/it]"
     ]
    },
    {
     "name": "stdout",
     "output_type": "stream",
     "text": [
      "Original text:\n",
      " Wo kann ich die Prüfungsordnung für Cognitive Science finden?\n",
      "**************************************************\n",
      "Translated text:\n",
      " Where can I find the examination regulations for Cognitive Science?\n",
      "--------------------------------------------------\n"
     ]
    },
    {
     "name": "stderr",
     "output_type": "stream",
     "text": [
      " 50%|█████     | 170/337 [03:50<02:49,  1.01s/it]"
     ]
    },
    {
     "name": "stdout",
     "output_type": "stream",
     "text": [
      "Original text:\n",
      " Unterstützt sie finanziell \n",
      "**************************************************\n",
      "Translated text:\n",
      " Supports her financially\n",
      "--------------------------------------------------\n"
     ]
    },
    {
     "name": "stderr",
     "output_type": "stream",
     "text": [
      " 51%|█████     | 171/337 [03:51<02:35,  1.07it/s]"
     ]
    },
    {
     "name": "stdout",
     "output_type": "stream",
     "text": [
      "Original text:\n",
      " Wie ist die Anbindung zu den Öffentlichenverkehrsmitteln? \n",
      "**************************************************\n",
      "Translated text:\n",
      " What is the connection to public transportation like?\n",
      "--------------------------------------------------\n"
     ]
    },
    {
     "name": "stderr",
     "output_type": "stream",
     "text": [
      " 51%|█████     | 172/337 [03:52<02:33,  1.07it/s]"
     ]
    },
    {
     "name": "stdout",
     "output_type": "stream",
     "text": [
      "Original text:\n",
      " Welche Events gibt es in der nächsten Zeit?\n",
      "**************************************************\n",
      "Translated text:\n",
      " What events are coming up soon?\n",
      "--------------------------------------------------\n"
     ]
    },
    {
     "name": "stderr",
     "output_type": "stream",
     "text": [
      " 51%|█████▏    | 173/337 [03:53<02:44,  1.00s/it]"
     ]
    },
    {
     "name": "stdout",
     "output_type": "stream",
     "text": [
      "Original text:\n",
      " Where can I find additional resources for my courses?\n",
      "**************************************************\n",
      "Translated text:\n",
      " Wo kann ich zusätzliche Ressourcen für meine Kurse finden?\n",
      "--------------------------------------------------\n"
     ]
    },
    {
     "name": "stderr",
     "output_type": "stream",
     "text": [
      " 52%|█████▏    | 174/337 [03:54<02:58,  1.09s/it]"
     ]
    },
    {
     "name": "stdout",
     "output_type": "stream",
     "text": [
      "Original text:\n",
      " Kann man Vorlesungen der Universität Osnabrück einfach besuchen? \n",
      "**************************************************\n",
      "Translated text:\n",
      " Can one simply attend lectures at the University of Osnabrück?\n",
      "--------------------------------------------------\n"
     ]
    },
    {
     "name": "stderr",
     "output_type": "stream",
     "text": [
      " 52%|█████▏    | 175/337 [03:55<02:49,  1.05s/it]"
     ]
    },
    {
     "name": "stdout",
     "output_type": "stream",
     "text": [
      "Original text:\n",
      " Wie kann man sich für einen Studiengang bewerben\n",
      "**************************************************\n",
      "Translated text:\n",
      " How can one apply for a degree program?\n",
      "--------------------------------------------------\n"
     ]
    },
    {
     "name": "stderr",
     "output_type": "stream",
     "text": [
      " 52%|█████▏    | 176/337 [03:56<02:59,  1.12s/it]"
     ]
    },
    {
     "name": "stdout",
     "output_type": "stream",
     "text": [
      "Original text:\n",
      " Wie teuer ist das Studium an der Uni Osnabrück, und gibt es irgendwelche Gebühren?\n",
      "**************************************************\n",
      "Translated text:\n",
      " How expensive is studying at the University of Osnabrück, and are there any fees?\n",
      "--------------------------------------------------\n"
     ]
    },
    {
     "name": "stderr",
     "output_type": "stream",
     "text": [
      " 53%|█████▎    | 177/337 [03:57<02:44,  1.03s/it]"
     ]
    },
    {
     "name": "stdout",
     "output_type": "stream",
     "text": [
      "Original text:\n",
      " Ist die Universität auf etwas spezialisiert?\n",
      "\n",
      "\n",
      "\n",
      "\n",
      "**************************************************\n",
      "Translated text:\n",
      " Is the university specialized in something?\n",
      "--------------------------------------------------\n"
     ]
    },
    {
     "name": "stderr",
     "output_type": "stream",
     "text": [
      " 53%|█████▎    | 178/337 [03:58<02:44,  1.03s/it]"
     ]
    },
    {
     "name": "stdout",
     "output_type": "stream",
     "text": [
      "Original text:\n",
      " Braucht man einen NC für den Studiengang Germanistik auf Lehramt \n",
      "**************************************************\n",
      "Translated text:\n",
      " Do you need a NC for the German Studies teaching degree program?\n",
      "--------------------------------------------------\n"
     ]
    },
    {
     "name": "stderr",
     "output_type": "stream",
     "text": [
      " 53%|█████▎    | 179/337 [03:59<02:51,  1.09s/it]"
     ]
    },
    {
     "name": "stdout",
     "output_type": "stream",
     "text": [
      "Original text:\n",
      " Wie hoch ist der Semesterbeitrag in diesem Semester?\n",
      "**************************************************\n",
      "Translated text:\n",
      " What is the semester fee for this semester?\n",
      "--------------------------------------------------\n"
     ]
    },
    {
     "name": "stderr",
     "output_type": "stream",
     "text": [
      " 53%|█████▎    | 180/337 [04:00<02:40,  1.02s/it]"
     ]
    },
    {
     "name": "stdout",
     "output_type": "stream",
     "text": [
      "Original text:\n",
      " What are the semester dates?\n",
      "**************************************************\n",
      "Translated text:\n",
      " Was sind die Semesterdaten?\n",
      "--------------------------------------------------\n"
     ]
    },
    {
     "name": "stderr",
     "output_type": "stream",
     "text": [
      " 54%|█████▎    | 181/337 [04:01<02:40,  1.03s/it]"
     ]
    },
    {
     "name": "stdout",
     "output_type": "stream",
     "text": [
      "Original text:\n",
      " Wo kann mna sihc bei der Uni anmelden?\n",
      "**************************************************\n",
      "Translated text:\n",
      " Where can one register at the university?\n",
      "--------------------------------------------------\n"
     ]
    },
    {
     "name": "stderr",
     "output_type": "stream",
     "text": [
      " 54%|█████▍    | 182/337 [04:02<02:29,  1.03it/s]"
     ]
    },
    {
     "name": "stdout",
     "output_type": "stream",
     "text": [
      "Original text:\n",
      " Was für einen Abschluss brauche ich für einen bestimmten Studiengang\n",
      "**************************************************\n",
      "Translated text:\n",
      " What kind of degree do I need for a specific course of study?\n",
      "--------------------------------------------------\n"
     ]
    },
    {
     "name": "stderr",
     "output_type": "stream",
     "text": [
      " 54%|█████▍    | 183/337 [04:03<02:39,  1.04s/it]"
     ]
    },
    {
     "name": "stdout",
     "output_type": "stream",
     "text": [
      "Original text:\n",
      " Wie viele Vorlesungen finden pro Woche statt\n",
      "**************************************************\n",
      "Translated text:\n",
      " How many lectures take place per week?\n",
      "--------------------------------------------------\n"
     ]
    },
    {
     "name": "stderr",
     "output_type": "stream",
     "text": [
      " 55%|█████▍    | 184/337 [04:04<02:42,  1.06s/it]"
     ]
    },
    {
     "name": "stdout",
     "output_type": "stream",
     "text": [
      "Original text:\n",
      " Was kann man beruflich mit diesem Abschluss machen?\n",
      "**************************************************\n",
      "Translated text:\n",
      " What can one do professionally with this degree?\n",
      "--------------------------------------------------\n"
     ]
    },
    {
     "name": "stderr",
     "output_type": "stream",
     "text": [
      " 55%|█████▍    | 185/337 [04:05<02:41,  1.06s/it]"
     ]
    },
    {
     "name": "stdout",
     "output_type": "stream",
     "text": [
      "Original text:\n",
      " an welchen tagen ist der Unterricht?\n",
      "**************************************************\n",
      "Translated text:\n",
      " On which days is the class?\n",
      "--------------------------------------------------\n"
     ]
    },
    {
     "name": "stderr",
     "output_type": "stream",
     "text": [
      " 55%|█████▌    | 186/337 [04:07<02:46,  1.10s/it]"
     ]
    },
    {
     "name": "stdout",
     "output_type": "stream",
     "text": [
      "Original text:\n",
      " Welche Bedingungen muss ich erfuellen um mich fuer einen bestimmten Studiengang zu bewerben?\n",
      "**************************************************\n",
      "Translated text:\n",
      " What conditions do I need to meet to apply for a specific course of study?\n",
      "--------------------------------------------------\n"
     ]
    },
    {
     "name": "stderr",
     "output_type": "stream",
     "text": [
      " 55%|█████▌    | 187/337 [04:08<02:45,  1.10s/it]"
     ]
    },
    {
     "name": "stdout",
     "output_type": "stream",
     "text": [
      "Original text:\n",
      " Wie teuer ist ein Studium?\n",
      "**************************************************\n",
      "Translated text:\n",
      " How expensive is a degree?\n",
      "--------------------------------------------------\n"
     ]
    },
    {
     "name": "stderr",
     "output_type": "stream",
     "text": [
      " 56%|█████▌    | 188/337 [04:09<03:10,  1.28s/it]"
     ]
    },
    {
     "name": "stdout",
     "output_type": "stream",
     "text": [
      "Original text:\n",
      " What housing options are provided for students, and how can I apply for oncampus accommodation?\n",
      "**************************************************\n",
      "Translated text:\n",
      " Welche Wohnmöglichkeiten werden für Studenten bereitgestellt und wie kann ich mich für eine Unterkunft auf dem Campus bewerben?\n",
      "--------------------------------------------------\n"
     ]
    },
    {
     "name": "stderr",
     "output_type": "stream",
     "text": [
      " 56%|█████▌    | 189/337 [04:11<03:07,  1.27s/it]"
     ]
    },
    {
     "name": "stdout",
     "output_type": "stream",
     "text": [
      "Original text:\n",
      " Where do cognitive science alumnis from Osnabrück University end up working?\n",
      "**************************************************\n",
      "Translated text:\n",
      " Wo arbeiten Absolventen der Kognitionswissenschaften von der Universität Osnabrück?\n",
      "--------------------------------------------------\n"
     ]
    },
    {
     "name": "stderr",
     "output_type": "stream",
     "text": [
      " 56%|█████▋    | 190/337 [04:12<02:48,  1.14s/it]"
     ]
    },
    {
     "name": "stdout",
     "output_type": "stream",
     "text": [
      "Original text:\n",
      " Aud welchem System läuft dieser Chatbot?\n",
      "**************************************************\n",
      "Translated text:\n",
      " Which system does this chatbot run on?\n",
      "--------------------------------------------------\n"
     ]
    },
    {
     "name": "stderr",
     "output_type": "stream",
     "text": [
      " 57%|█████▋    | 191/337 [04:13<02:40,  1.10s/it]"
     ]
    },
    {
     "name": "stdout",
     "output_type": "stream",
     "text": [
      "Original text:\n",
      " Was gibt es Neues?\n",
      "**************************************************\n",
      "Translated text:\n",
      " What's new?\n",
      "--------------------------------------------------\n"
     ]
    },
    {
     "name": "stderr",
     "output_type": "stream",
     "text": [
      " 57%|█████▋    | 192/337 [04:14<03:01,  1.26s/it]"
     ]
    },
    {
     "name": "stdout",
     "output_type": "stream",
     "text": [
      "Original text:\n",
      " Welche Masterstudiengänge in Osnabrück kann ich mit einem Bachelor in Cognitive Science studieren?\n",
      "**************************************************\n",
      "Translated text:\n",
      " Which master's programs in Osnabrück can I study with a bachelor's degree in Cognitive Science?\n",
      "--------------------------------------------------\n"
     ]
    },
    {
     "name": "stderr",
     "output_type": "stream",
     "text": [
      " 57%|█████▋    | 193/337 [04:15<02:58,  1.24s/it]"
     ]
    },
    {
     "name": "stdout",
     "output_type": "stream",
     "text": [
      "Original text:\n",
      " Wann sind die Bewerbungsfristen für das Sommersemester 2025?\n",
      "**************************************************\n",
      "Translated text:\n",
      " When are the application deadlines for the summer semester 2025?\n",
      "--------------------------------------------------\n"
     ]
    },
    {
     "name": "stderr",
     "output_type": "stream",
     "text": [
      " 58%|█████▊    | 194/337 [04:17<02:53,  1.22s/it]"
     ]
    },
    {
     "name": "stdout",
     "output_type": "stream",
     "text": [
      "Original text:\n",
      " Gibt es gerade Stellenausschreiben an der Uni?\n",
      "**************************************************\n",
      "Translated text:\n",
      " Are there currently job postings at the university?\n",
      "--------------------------------------------------\n"
     ]
    },
    {
     "name": "stderr",
     "output_type": "stream",
     "text": [
      " 58%|█████▊    | 195/337 [04:17<02:37,  1.11s/it]"
     ]
    },
    {
     "name": "stdout",
     "output_type": "stream",
     "text": [
      "Original text:\n",
      " Wo ist das Gebäude 69?\n",
      "**************************************************\n",
      "Translated text:\n",
      " Where is building 69?\n",
      "--------------------------------------------------\n"
     ]
    },
    {
     "name": "stderr",
     "output_type": "stream",
     "text": [
      " 58%|█████▊    | 196/337 [04:18<02:34,  1.09s/it]"
     ]
    },
    {
     "name": "stdout",
     "output_type": "stream",
     "text": [
      "Original text:\n",
      " Bietet die Uni Osnabrück Musik und Sportclubs an?\n",
      "**************************************************\n",
      "Translated text:\n",
      " Does the University of Osnabrück offer music and sports clubs?\n",
      "--------------------------------------------------\n"
     ]
    },
    {
     "name": "stderr",
     "output_type": "stream",
     "text": [
      " 58%|█████▊    | 197/337 [04:20<02:38,  1.13s/it]"
     ]
    },
    {
     "name": "stdout",
     "output_type": "stream",
     "text": [
      "Original text:\n",
      " Welche Beruf-Optionen kann man mit einem abgeschlossenen Bachelor in Cognitive Science erwarten? \n",
      "**************************************************\n",
      "Translated text:\n",
      " What career options can one expect with a completed Bachelor's degree in Cognitive Science?\n",
      "--------------------------------------------------\n"
     ]
    },
    {
     "name": "stderr",
     "output_type": "stream",
     "text": [
      " 59%|█████▉    | 198/337 [04:21<02:35,  1.12s/it]"
     ]
    },
    {
     "name": "stdout",
     "output_type": "stream",
     "text": [
      "Original text:\n",
      " Gibt es gerade offene Arbeitsplaetze an der Uni die mit programmieren und oder AI zu tun haben, fuer die ich mich bewerben koennte?\n",
      "**************************************************\n",
      "Translated text:\n",
      " Are there currently open job positions at the university related to programming and/or AI that I could apply for?\n",
      "--------------------------------------------------\n"
     ]
    },
    {
     "name": "stderr",
     "output_type": "stream",
     "text": [
      " 59%|█████▉    | 199/337 [04:22<02:37,  1.14s/it]"
     ]
    },
    {
     "name": "stdout",
     "output_type": "stream",
     "text": [
      "Original text:\n",
      " Wie kann ich mich für eine Hilfskraftstelle an der Uni Bewerben? \n",
      "**************************************************\n",
      "Translated text:\n",
      " How can I apply for a student assistant position at the university?\n",
      "--------------------------------------------------\n"
     ]
    },
    {
     "name": "stderr",
     "output_type": "stream",
     "text": [
      " 59%|█████▉    | 200/337 [04:26<04:18,  1.89s/it]"
     ]
    },
    {
     "name": "stdout",
     "output_type": "stream",
     "text": [
      "Original text:\n",
      " I faced an issue that I cannot attend a midterm exam as I am not in Osnabrück. Who can I contact for that matter? I am hoping there will be a retake, but I’m not sure where to check.\n",
      "**************************************************\n",
      "Translated text:\n",
      " Ich hatte ein Problem, dass ich eine Zwischenprüfung nicht besuchen kann, da ich nicht in Osnabrück bin. An wen kann ich mich in dieser Angelegenheit wenden? Ich hoffe, es gibt eine Wiederholungsprüfung, aber ich bin mir nicht sicher, wo ich nachsehen soll.\n",
      "--------------------------------------------------\n"
     ]
    },
    {
     "name": "stderr",
     "output_type": "stream",
     "text": [
      " 60%|█████▉    | 201/337 [04:27<04:06,  1.82s/it]"
     ]
    },
    {
     "name": "stdout",
     "output_type": "stream",
     "text": [
      "Original text:\n",
      " Wie komme ich am besten mit dem ÖPNV zur Uni hin?\n",
      "**************************************************\n",
      "Translated text:\n",
      " What's the best way to get to the university using public transportation?\n",
      "--------------------------------------------------\n"
     ]
    },
    {
     "name": "stderr",
     "output_type": "stream",
     "text": [
      " 60%|█████▉    | 202/337 [04:28<03:26,  1.53s/it]"
     ]
    },
    {
     "name": "stdout",
     "output_type": "stream",
     "text": [
      "Original text:\n",
      " Wann sind die Vorlesungszeiten bzw. wann sind Semesterferien?\n",
      "**************************************************\n",
      "Translated text:\n",
      " When are the lecture times or when are the semester breaks?\n",
      "--------------------------------------------------\n"
     ]
    },
    {
     "name": "stderr",
     "output_type": "stream",
     "text": [
      " 60%|██████    | 203/337 [04:30<03:38,  1.63s/it]"
     ]
    },
    {
     "name": "stdout",
     "output_type": "stream",
     "text": [
      "Original text:\n",
      " Was brauche ich für einen NC um Psychologie studieren zu können?\n",
      "**************************************************\n",
      "Translated text:\n",
      " What do I need for a NC to be able to study psychology?\n",
      "--------------------------------------------------\n"
     ]
    },
    {
     "name": "stderr",
     "output_type": "stream",
     "text": [
      " 61%|██████    | 204/337 [04:31<03:12,  1.45s/it]"
     ]
    },
    {
     "name": "stdout",
     "output_type": "stream",
     "text": [
      "Original text:\n",
      " Welche Bibliotheksdienste stehen Studierenden zur Verfügung, und wie kann ich ein Buch ausleihen oder einen Arbeitsplatz reservieren?\n",
      "**************************************************\n",
      "Translated text:\n",
      " What library services are available to students, and how can I borrow a book or reserve a workspace?\n",
      "--------------------------------------------------\n"
     ]
    },
    {
     "name": "stderr",
     "output_type": "stream",
     "text": [
      " 61%|██████    | 205/337 [04:32<02:52,  1.31s/it]"
     ]
    },
    {
     "name": "stdout",
     "output_type": "stream",
     "text": [
      "Original text:\n",
      " Wo kann ich die Semesterzeitpläne einsehen? Vorlesungsbeginn etc.\n",
      "**************************************************\n",
      "Translated text:\n",
      " Where can I view the semester schedules? Start of lectures etc.\n",
      "--------------------------------------------------\n"
     ]
    },
    {
     "name": "stderr",
     "output_type": "stream",
     "text": [
      " 61%|██████    | 206/337 [04:33<02:32,  1.17s/it]"
     ]
    },
    {
     "name": "stdout",
     "output_type": "stream",
     "text": [
      "Original text:\n",
      " Gibt es demnächst Veranstaltungen von der Uni?\n",
      "**************************************************\n",
      "Translated text:\n",
      " Are there any upcoming events from the university?\n",
      "--------------------------------------------------\n"
     ]
    },
    {
     "name": "stderr",
     "output_type": "stream",
     "text": [
      " 61%|██████▏   | 207/337 [04:34<02:48,  1.30s/it]"
     ]
    },
    {
     "name": "stdout",
     "output_type": "stream",
     "text": [
      "Original text:\n",
      " Welche Bachelor-Studiengänge bietet die Uni Osnabrück an?\n",
      "**************************************************\n",
      "Translated text:\n",
      " What bachelor's degree programs does the University of Osnabrück offer?\n",
      "--------------------------------------------------\n"
     ]
    },
    {
     "name": "stderr",
     "output_type": "stream",
     "text": [
      " 62%|██████▏   | 208/337 [04:35<02:37,  1.22s/it]"
     ]
    },
    {
     "name": "stdout",
     "output_type": "stream",
     "text": [
      "Original text:\n",
      " Wer kann mir bei Problemen außerhalb der Hochschule helfen (Rechtshilfe/Psychologischer Dienst)?\n",
      "**************************************************\n",
      "Translated text:\n",
      " Who can help me with problems outside of university (legal aid/psychological service)?\n",
      "--------------------------------------------------\n"
     ]
    },
    {
     "name": "stderr",
     "output_type": "stream",
     "text": [
      " 62%|██████▏   | 209/337 [04:37<02:36,  1.22s/it]"
     ]
    },
    {
     "name": "stdout",
     "output_type": "stream",
     "text": [
      "Original text:\n",
      " Wie unterstützt die Universität Studierende, die von außerhalb Osnabrücks reinpendeln müssen?\n",
      "**************************************************\n",
      "Translated text:\n",
      " How does the university support students who have to commute from outside Osnabrück?\n",
      "--------------------------------------------------\n"
     ]
    },
    {
     "name": "stderr",
     "output_type": "stream",
     "text": [
      " 62%|██████▏   | 210/337 [04:38<02:30,  1.19s/it]"
     ]
    },
    {
     "name": "stdout",
     "output_type": "stream",
     "text": [
      "Original text:\n",
      " Wann kann ich mich für das Frühstarter-Sportprogramm anmelden? \n",
      "**************************************************\n",
      "Translated text:\n",
      " When can I register for the Early Starter sports program?\n",
      "--------------------------------------------------\n"
     ]
    },
    {
     "name": "stderr",
     "output_type": "stream",
     "text": [
      " 63%|██████▎   | 211/337 [04:39<02:21,  1.12s/it]"
     ]
    },
    {
     "name": "stdout",
     "output_type": "stream",
     "text": [
      "Original text:\n",
      " Is there any event happening this week?\n",
      "**************************************************\n",
      "Translated text:\n",
      " Findet diese Woche irgendeine Veranstaltung statt?\n",
      "--------------------------------------------------\n"
     ]
    },
    {
     "name": "stderr",
     "output_type": "stream",
     "text": [
      " 63%|██████▎   | 212/337 [04:40<02:16,  1.09s/it]"
     ]
    },
    {
     "name": "stdout",
     "output_type": "stream",
     "text": [
      "Original text:\n",
      " Warum sollte ich an der Universität Osnabrück studieren?\n",
      "**************************************************\n",
      "Translated text:\n",
      " Why should I study at the University of Osnabrück?\n",
      "--------------------------------------------------\n"
     ]
    },
    {
     "name": "stderr",
     "output_type": "stream",
     "text": [
      " 63%|██████▎   | 213/337 [04:41<02:21,  1.14s/it]"
     ]
    },
    {
     "name": "stdout",
     "output_type": "stream",
     "text": [
      "Original text:\n",
      " What are the job opportunities after finishing my program?\n",
      "**************************************************\n",
      "Translated text:\n",
      " Welche Berufsmöglichkeiten habe ich nach Abschluss meines Programms?\n",
      "--------------------------------------------------\n"
     ]
    },
    {
     "name": "stderr",
     "output_type": "stream",
     "text": [
      " 64%|██████▎   | 214/337 [04:42<02:32,  1.24s/it]"
     ]
    },
    {
     "name": "stdout",
     "output_type": "stream",
     "text": [
      "Original text:\n",
      " Are there part-time job opportunities on campus for international students?\n",
      "**************************************************\n",
      "Translated text:\n",
      " Gibt es auf dem Campus Teilzeitjob-Möglichkeiten für internationale Studierende?\n",
      "--------------------------------------------------\n"
     ]
    },
    {
     "name": "stderr",
     "output_type": "stream",
     "text": [
      " 64%|██████▍   | 215/337 [04:44<02:24,  1.19s/it]"
     ]
    },
    {
     "name": "stdout",
     "output_type": "stream",
     "text": [
      "Original text:\n",
      " Welche Bachelor Abschlüsse qualifizieren mich für einen Master in Cognitive Science?\n",
      "**************************************************\n",
      "Translated text:\n",
      " Which Bachelor's degrees qualify me for a Master's in Cognitive Science?\n",
      "--------------------------------------------------\n"
     ]
    },
    {
     "name": "stderr",
     "output_type": "stream",
     "text": [
      " 64%|██████▍   | 216/337 [04:45<02:23,  1.18s/it]"
     ]
    },
    {
     "name": "stdout",
     "output_type": "stream",
     "text": [
      "Original text:\n",
      " Wo kann ich die Modulordnung für den Cognitive Science Bachelor finden?\n",
      "**************************************************\n",
      "Translated text:\n",
      " Where can I find the module regulations for the Cognitive Science Bachelor's degree?\n",
      "--------------------------------------------------\n"
     ]
    },
    {
     "name": "stderr",
     "output_type": "stream",
     "text": [
      " 64%|██████▍   | 217/337 [04:46<02:19,  1.16s/it]"
     ]
    },
    {
     "name": "stdout",
     "output_type": "stream",
     "text": [
      "Original text:\n",
      " Wie viele unterschiedliche Studiengänge werden hier unterrichtet? \n",
      "**************************************************\n",
      "Translated text:\n",
      " How many different courses of study are taught here?\n",
      "--------------------------------------------------\n"
     ]
    },
    {
     "name": "stderr",
     "output_type": "stream",
     "text": [
      " 65%|██████▍   | 218/337 [04:47<02:20,  1.18s/it]"
     ]
    },
    {
     "name": "stdout",
     "output_type": "stream",
     "text": [
      "Original text:\n",
      " Wann sind Semesterferien?\n",
      "**************************************************\n",
      "Translated text:\n",
      " When is the semester break?\n",
      "--------------------------------------------------\n"
     ]
    },
    {
     "name": "stderr",
     "output_type": "stream",
     "text": [
      " 65%|██████▍   | 219/337 [04:48<02:13,  1.13s/it]"
     ]
    },
    {
     "name": "stdout",
     "output_type": "stream",
     "text": [
      "Original text:\n",
      " How can I sign up for sports?\n",
      "**************************************************\n",
      "Translated text:\n",
      " Wie kann ich mich für Sport anmelden?\n",
      "--------------------------------------------------\n"
     ]
    },
    {
     "name": "stderr",
     "output_type": "stream",
     "text": [
      " 65%|██████▌   | 220/337 [04:49<02:02,  1.04s/it]"
     ]
    },
    {
     "name": "stdout",
     "output_type": "stream",
     "text": [
      "Original text:\n",
      " Kann man während des Studiums in einem Forschungsinstitut arbeiten? \n",
      "**************************************************\n",
      "Translated text:\n",
      " Can one work at a research institute while studying?\n",
      "--------------------------------------------------\n"
     ]
    },
    {
     "name": "stderr",
     "output_type": "stream",
     "text": [
      " 66%|██████▌   | 221/337 [04:50<02:07,  1.10s/it]"
     ]
    },
    {
     "name": "stdout",
     "output_type": "stream",
     "text": [
      "Original text:\n",
      " Was sind die Inhalte dieses Studiengangs\n",
      "**************************************************\n",
      "Translated text:\n",
      " What are the contents of this course of study?\n",
      "--------------------------------------------------\n"
     ]
    },
    {
     "name": "stderr",
     "output_type": "stream",
     "text": [
      " 66%|██████▌   | 222/337 [04:51<02:01,  1.06s/it]"
     ]
    },
    {
     "name": "stdout",
     "output_type": "stream",
     "text": [
      "Original text:\n",
      " Kann man dort auch ein Auslandssemester machen, und wie funktioniert das?\n",
      "**************************************************\n",
      "Translated text:\n",
      " Can you also do a semester abroad there, and how does that work?\n",
      "--------------------------------------------------\n"
     ]
    },
    {
     "name": "stderr",
     "output_type": "stream",
     "text": [
      " 66%|██████▌   | 223/337 [04:52<02:08,  1.13s/it]"
     ]
    },
    {
     "name": "stdout",
     "output_type": "stream",
     "text": [
      "Original text:\n",
      " Wo ist die nächste Toilette?\n",
      "**************************************************\n",
      "Translated text:\n",
      " Where is the nearest toilet?\n",
      "--------------------------------------------------\n"
     ]
    },
    {
     "name": "stderr",
     "output_type": "stream",
     "text": [
      " 66%|██████▋   | 224/337 [04:54<02:10,  1.16s/it]"
     ]
    },
    {
     "name": "stdout",
     "output_type": "stream",
     "text": [
      "Original text:\n",
      " Wofür ist die Universität bekannt?\n",
      "**************************************************\n",
      "Translated text:\n",
      " What is the university known for?\n",
      "--------------------------------------------------\n"
     ]
    },
    {
     "name": "stderr",
     "output_type": "stream",
     "text": [
      " 67%|██████▋   | 225/337 [04:55<02:07,  1.14s/it]"
     ]
    },
    {
     "name": "stdout",
     "output_type": "stream",
     "text": [
      "Original text:\n",
      " Wie weit ist die Uni von der Innenstadt entfernt?\n",
      "**************************************************\n",
      "Translated text:\n",
      " How far is the university from downtown?\n",
      "--------------------------------------------------\n"
     ]
    },
    {
     "name": "stderr",
     "output_type": "stream",
     "text": [
      " 67%|██████▋   | 226/337 [04:56<01:56,  1.05s/it]"
     ]
    },
    {
     "name": "stdout",
     "output_type": "stream",
     "text": [
      "Original text:\n",
      " Für wie viele Studiengänge kann ich gleichzeitig Bewerbungsunterlagen einreichen?\n",
      "**************************************************\n",
      "Translated text:\n",
      " How many courses can I submit application documents for at the same time?\n",
      "--------------------------------------------------\n"
     ]
    },
    {
     "name": "stderr",
     "output_type": "stream",
     "text": [
      " 67%|██████▋   | 227/337 [04:57<01:56,  1.06s/it]"
     ]
    },
    {
     "name": "stdout",
     "output_type": "stream",
     "text": [
      "Original text:\n",
      " How much are the University fees?\n",
      "**************************************************\n",
      "Translated text:\n",
      " Wie hoch sind die Universitätsgebühren?\n",
      "--------------------------------------------------\n"
     ]
    },
    {
     "name": "stderr",
     "output_type": "stream",
     "text": [
      " 68%|██████▊   | 228/337 [04:58<01:52,  1.03s/it]"
     ]
    },
    {
     "name": "stdout",
     "output_type": "stream",
     "text": [
      "Original text:\n",
      " wie viele Leute besuchen die Uni?\n",
      "**************************************************\n",
      "Translated text:\n",
      " How many people visit the university?\n",
      "--------------------------------------------------\n"
     ]
    },
    {
     "name": "stderr",
     "output_type": "stream",
     "text": [
      " 68%|██████▊   | 229/337 [04:59<01:52,  1.04s/it]"
     ]
    },
    {
     "name": "stdout",
     "output_type": "stream",
     "text": [
      "Original text:\n",
      " Wie viel verdiene ich später voraussichtlich \n",
      "**************************************************\n",
      "Translated text:\n",
      " How much will I likely earn later?\n",
      "--------------------------------------------------\n"
     ]
    },
    {
     "name": "stderr",
     "output_type": "stream",
     "text": [
      " 68%|██████▊   | 230/337 [05:00<01:49,  1.02s/it]"
     ]
    },
    {
     "name": "stdout",
     "output_type": "stream",
     "text": [
      "Original text:\n",
      " Gibt es einen Raumplan?\n",
      "**************************************************\n",
      "Translated text:\n",
      " Is there a room plan?\n",
      "--------------------------------------------------\n"
     ]
    },
    {
     "name": "stderr",
     "output_type": "stream",
     "text": [
      " 69%|██████▊   | 231/337 [05:01<01:52,  1.06s/it]"
     ]
    },
    {
     "name": "stdout",
     "output_type": "stream",
     "text": [
      "Original text:\n",
      " Gibt es an dieser Uni Möglichkeiten, ein weiterführendes Studium anzuschließen?\n",
      "**************************************************\n",
      "Translated text:\n",
      " Are there opportunities at this university to pursue further studies?\n",
      "--------------------------------------------------\n"
     ]
    },
    {
     "name": "stderr",
     "output_type": "stream",
     "text": [
      " 69%|██████▉   | 232/337 [05:02<01:54,  1.09s/it]"
     ]
    },
    {
     "name": "stdout",
     "output_type": "stream",
     "text": [
      "Original text:\n",
      " welche Abschlüsse kann man im Studium anstreben? Bachelor Master usw,\n",
      "**************************************************\n",
      "Translated text:\n",
      " What degrees can one pursue in studies? Bachelor, Master, etc.\n",
      "--------------------------------------------------\n"
     ]
    },
    {
     "name": "stderr",
     "output_type": "stream",
     "text": [
      " 69%|██████▉   | 233/337 [05:03<01:48,  1.04s/it]"
     ]
    },
    {
     "name": "stdout",
     "output_type": "stream",
     "text": [
      "Original text:\n",
      " Wie viele Studierende gibt es an der Uni?\n",
      "**************************************************\n",
      "Translated text:\n",
      " How many students are there at the university?\n",
      "--------------------------------------------------\n"
     ]
    },
    {
     "name": "stderr",
     "output_type": "stream",
     "text": [
      " 69%|██████▉   | 234/337 [05:06<02:47,  1.63s/it]"
     ]
    },
    {
     "name": "stdout",
     "output_type": "stream",
     "text": [
      "Original text:\n",
      " Welche Vorkenntnisse brauch ich für ein Studium?\n",
      "**************************************************\n",
      "Translated text:\n",
      " What prior knowledge do I need for a study?\n",
      "--------------------------------------------------\n"
     ]
    },
    {
     "name": "stderr",
     "output_type": "stream",
     "text": [
      " 70%|██████▉   | 235/337 [05:07<02:42,  1.59s/it]"
     ]
    },
    {
     "name": "stdout",
     "output_type": "stream",
     "text": [
      "Original text:\n",
      " Are there any student organizations activities I can join to enhance my university experience?\n",
      "\n",
      "\n",
      "**************************************************\n",
      "Translated text:\n",
      " Gibt es irgendwelche Aktivitäten von Studentenorganisationen, denen ich beitreten kann, um meine Universitätserfahrung zu verbessern?\n",
      "--------------------------------------------------\n"
     ]
    },
    {
     "name": "stderr",
     "output_type": "stream",
     "text": [
      " 70%|███████   | 236/337 [05:09<02:47,  1.66s/it]"
     ]
    },
    {
     "name": "stdout",
     "output_type": "stream",
     "text": [
      "Original text:\n",
      " What are some research labs that I can join as a cognitive science student in Osnabrück University?\n",
      "**************************************************\n",
      "Translated text:\n",
      " Welche Forschungslabore kann ich als Student der Kognitionswissenschaft an der Universität Osnabrück beitreten?\n",
      "--------------------------------------------------\n"
     ]
    },
    {
     "name": "stderr",
     "output_type": "stream",
     "text": [
      " 70%|███████   | 237/337 [05:10<02:31,  1.51s/it]"
     ]
    },
    {
     "name": "stdout",
     "output_type": "stream",
     "text": [
      "Original text:\n",
      " Wo finde ich Services für Studis? z.b. Wohnungssuche\n",
      "**************************************************\n",
      "Translated text:\n",
      " Where can I find services for students? e.g. apartment search\n",
      "--------------------------------------------------\n"
     ]
    },
    {
     "name": "stderr",
     "output_type": "stream",
     "text": [
      " 71%|███████   | 238/337 [05:11<02:14,  1.36s/it]"
     ]
    },
    {
     "name": "stdout",
     "output_type": "stream",
     "text": [
      "Original text:\n",
      " Wo kann ich das Gebäude 66 finden?\n",
      "**************************************************\n",
      "Translated text:\n",
      " Where can I find building 66?\n",
      "--------------------------------------------------\n"
     ]
    },
    {
     "name": "stderr",
     "output_type": "stream",
     "text": [
      " 71%|███████   | 239/337 [05:12<01:59,  1.22s/it]"
     ]
    },
    {
     "name": "stdout",
     "output_type": "stream",
     "text": [
      "Original text:\n",
      " Welche Sprachnachweise werden bei meiner Bewerbung anerkannt?\n",
      "**************************************************\n",
      "Translated text:\n",
      " Which language certificates are recognized in my application?\n",
      "--------------------------------------------------\n"
     ]
    },
    {
     "name": "stderr",
     "output_type": "stream",
     "text": [
      " 71%|███████   | 240/337 [05:13<01:45,  1.09s/it]"
     ]
    },
    {
     "name": "stdout",
     "output_type": "stream",
     "text": [
      "Original text:\n",
      " Was ist das Lernzentrum\n",
      "**************************************************\n",
      "Translated text:\n",
      " What is the learning center\n",
      "--------------------------------------------------\n"
     ]
    },
    {
     "name": "stderr",
     "output_type": "stream",
     "text": [
      " 72%|███████▏  | 241/337 [05:14<01:35,  1.01it/s]"
     ]
    },
    {
     "name": "stdout",
     "output_type": "stream",
     "text": [
      "Original text:\n",
      " Welche Vorraussetzungen muss ich für ein Studium in Sportwissenschaften erfüllen?\n",
      "**************************************************\n",
      "Translated text:\n",
      " What prerequisites must I meet for a degree in sports science?\n",
      "--------------------------------------------------\n"
     ]
    },
    {
     "name": "stderr",
     "output_type": "stream",
     "text": [
      " 72%|███████▏  | 242/337 [05:15<01:36,  1.02s/it]"
     ]
    },
    {
     "name": "stdout",
     "output_type": "stream",
     "text": [
      "Original text:\n",
      " Welche Kurse oder Veranstaltungen finden in dem Schlussgebäude am Innenstadt Campus statt?\n",
      "**************************************************\n",
      "Translated text:\n",
      " Which courses or events are taking place in the final building on the downtown campus?\n",
      "--------------------------------------------------\n"
     ]
    },
    {
     "name": "stderr",
     "output_type": "stream",
     "text": [
      " 72%|███████▏  | 243/337 [05:17<02:04,  1.32s/it]"
     ]
    },
    {
     "name": "stdout",
     "output_type": "stream",
     "text": [
      "Original text:\n",
      " Kann man mit einem abgeschlossenen Bachelor in Cognitive Science bereits anfangen sinnvoll zu arbeiten (d.h. in einem Sektor bzw. Unternehmen welches sich solch einen Abschluss wünscht und wo man das Wissen aus diesem tatsächlich anwenden kann), oder muss man erst einen Master machen in dem man sich auf irgendeinen Bereich spezialisiert? \n",
      "**************************************************\n",
      "Translated text:\n",
      " Can one start meaningful work with a completed Bachelor's degree in Cognitive Science (i.e., in a sector or company that desires such a degree and where one can actually apply the knowledge from it), or does one first need to earn a Master's degree in which one specializes in a certain area?\n",
      "--------------------------------------------------\n"
     ]
    },
    {
     "name": "stderr",
     "output_type": "stream",
     "text": [
      " 72%|███████▏  | 244/337 [05:18<01:59,  1.28s/it]"
     ]
    },
    {
     "name": "stdout",
     "output_type": "stream",
     "text": [
      "Original text:\n",
      " Woher bekomme ich ein Englisch Sprachzertifikat fuer mein Auslandssemster?\n",
      "**************************************************\n",
      "Translated text:\n",
      " Where can I get an English language certificate for my semester abroad?\n",
      "--------------------------------------------------\n"
     ]
    },
    {
     "name": "stderr",
     "output_type": "stream",
     "text": [
      " 73%|███████▎  | 245/337 [05:19<01:52,  1.22s/it]"
     ]
    },
    {
     "name": "stdout",
     "output_type": "stream",
     "text": [
      "Original text:\n",
      " Ist ein Auslandssemester erforderlich für internationale Studenten im Bachelor Studiengang Cognitive science? \n",
      "**************************************************\n",
      "Translated text:\n",
      " Is a semester abroad required for international students in the Bachelor's program in Cognitive Science?\n",
      "--------------------------------------------------\n"
     ]
    },
    {
     "name": "stderr",
     "output_type": "stream",
     "text": [
      " 73%|███████▎  | 246/337 [05:21<02:10,  1.43s/it]"
     ]
    },
    {
     "name": "stdout",
     "output_type": "stream",
     "text": [
      "Original text:\n",
      " How do I best ask for a letter of recommendation? Is there a template from the university as to what is expected to be written in it? \n",
      "**************************************************\n",
      "Translated text:\n",
      " Wie frage ich am besten nach einem Empfehlungsschreiben? Gibt es eine Vorlage von der Universität, was darin geschrieben werden soll?\n",
      "--------------------------------------------------\n"
     ]
    },
    {
     "name": "stderr",
     "output_type": "stream",
     "text": [
      " 73%|███████▎  | 247/337 [05:23<02:11,  1.46s/it]"
     ]
    },
    {
     "name": "stdout",
     "output_type": "stream",
     "text": [
      "Original text:\n",
      " Wie viele Stunden in der Woche werde ich ungefähr mit diesem Studiengang beschäftigt sein?\n",
      "**************************************************\n",
      "Translated text:\n",
      " How many hours per week will I approximately be occupied with this course of study?\n",
      "--------------------------------------------------\n"
     ]
    },
    {
     "name": "stderr",
     "output_type": "stream",
     "text": [
      " 74%|███████▎  | 248/337 [05:23<01:53,  1.27s/it]"
     ]
    },
    {
     "name": "stdout",
     "output_type": "stream",
     "text": [
      "Original text:\n",
      " Was gibt es für Initiativen/Aktivitäten für Studierende?\n",
      "**************************************************\n",
      "Translated text:\n",
      " What initiatives/activities are there for students?\n",
      "--------------------------------------------------\n"
     ]
    },
    {
     "name": "stderr",
     "output_type": "stream",
     "text": [
      " 74%|███████▍  | 249/337 [05:25<01:47,  1.22s/it]"
     ]
    },
    {
     "name": "stdout",
     "output_type": "stream",
     "text": [
      "Original text:\n",
      " Wie viele Studierende gibt es in OS?\n",
      "**************************************************\n",
      "Translated text:\n",
      " How many students are there in OS?\n",
      "--------------------------------------------------\n"
     ]
    },
    {
     "name": "stderr",
     "output_type": "stream",
     "text": [
      " 74%|███████▍  | 250/337 [05:26<01:44,  1.20s/it]"
     ]
    },
    {
     "name": "stdout",
     "output_type": "stream",
     "text": [
      "Original text:\n",
      " Wann finden die Orientierungswochen für Erstsemester statt, und wie melde ich mich dafür an?\n",
      "**************************************************\n",
      "Translated text:\n",
      " When do the orientation weeks for first semester students take place, and how do I register for them?\n",
      "--------------------------------------------------\n"
     ]
    },
    {
     "name": "stderr",
     "output_type": "stream",
     "text": [
      " 74%|███████▍  | 251/337 [05:27<01:38,  1.15s/it]"
     ]
    },
    {
     "name": "stdout",
     "output_type": "stream",
     "text": [
      "Original text:\n",
      " Wie lauten die Bewerbungsfristen für meine Studienfach?\n",
      "**************************************************\n",
      "Translated text:\n",
      " What are the application deadlines for my field of study?\n",
      "--------------------------------------------------\n"
     ]
    },
    {
     "name": "stderr",
     "output_type": "stream",
     "text": [
      " 75%|███████▍  | 252/337 [05:28<01:39,  1.17s/it]"
     ]
    },
    {
     "name": "stdout",
     "output_type": "stream",
     "text": [
      "Original text:\n",
      " Wo finde ich Informationen zur Einführungswoche?\n",
      "**************************************************\n",
      "Translated text:\n",
      " Where can I find information about the orientation week?\n",
      "--------------------------------------------------\n"
     ]
    },
    {
     "name": "stderr",
     "output_type": "stream",
     "text": [
      " 75%|███████▌  | 253/337 [05:29<01:36,  1.15s/it]"
     ]
    },
    {
     "name": "stdout",
     "output_type": "stream",
     "text": [
      "Original text:\n",
      " Welche Master-Studiengänge bietet die Uni Osnabrück an?\n",
      "**************************************************\n",
      "Translated text:\n",
      " What master's programs does the University of Osnabrück offer?\n",
      "--------------------------------------------------\n"
     ]
    },
    {
     "name": "stderr",
     "output_type": "stream",
     "text": [
      " 75%|███████▌  | 254/337 [05:30<01:34,  1.13s/it]"
     ]
    },
    {
     "name": "stdout",
     "output_type": "stream",
     "text": [
      "Original text:\n",
      " Wie kann ich mich engagieren und tatsächlich etwas bewirken?\n",
      "**************************************************\n",
      "Translated text:\n",
      " How can I get involved and actually make a difference?\n",
      "--------------------------------------------------\n"
     ]
    },
    {
     "name": "stderr",
     "output_type": "stream",
     "text": [
      " 76%|███████▌  | 255/337 [05:32<01:43,  1.27s/it]"
     ]
    },
    {
     "name": "stdout",
     "output_type": "stream",
     "text": [
      "Original text:\n",
      " Warum sind die Anbindungen an den Campus Westerberg so schlecht?\n",
      "**************************************************\n",
      "Translated text:\n",
      " Why are the connections to the Westerberg campus so bad?\n",
      "--------------------------------------------------\n"
     ]
    },
    {
     "name": "stderr",
     "output_type": "stream",
     "text": [
      " 76%|███████▌  | 256/337 [05:33<01:36,  1.19s/it]"
     ]
    },
    {
     "name": "stdout",
     "output_type": "stream",
     "text": [
      "Original text:\n",
      " Welche Veranstaltungen für Promovierende gibt es?\n",
      "**************************************************\n",
      "Translated text:\n",
      " What events are there for doctoral students?\n",
      "--------------------------------------------------\n"
     ]
    },
    {
     "name": "stderr",
     "output_type": "stream",
     "text": [
      " 76%|███████▋  | 257/337 [05:34<01:27,  1.09s/it]"
     ]
    },
    {
     "name": "stdout",
     "output_type": "stream",
     "text": [
      "Original text:\n",
      " Who is the president of the uni?\n",
      "**************************************************\n",
      "Translated text:\n",
      " Wer ist der Präsident der Uni?\n",
      "--------------------------------------------------\n"
     ]
    },
    {
     "name": "stderr",
     "output_type": "stream",
     "text": [
      " 77%|███████▋  | 258/337 [05:35<01:32,  1.17s/it]"
     ]
    },
    {
     "name": "stdout",
     "output_type": "stream",
     "text": [
      "Original text:\n",
      " An wen wende ich mich mit einer coolen Idee aus meinem Kunststudium, das für alle Erstsemester interessant sein könnte?\n",
      "**************************************************\n",
      "Translated text:\n",
      " Who do I turn to with a cool idea from my art studies that could be interesting for all first-year students?\n",
      "--------------------------------------------------\n"
     ]
    },
    {
     "name": "stderr",
     "output_type": "stream",
     "text": [
      " 77%|███████▋  | 259/337 [05:36<01:31,  1.17s/it]"
     ]
    },
    {
     "name": "stdout",
     "output_type": "stream",
     "text": [
      "Original text:\n",
      " How can I renew my VISA?\n",
      "**************************************************\n",
      "Translated text:\n",
      " Wie kann ich mein VISA erneuern?\n",
      "--------------------------------------------------\n"
     ]
    },
    {
     "name": "stderr",
     "output_type": "stream",
     "text": [
      " 77%|███████▋  | 260/337 [05:38<01:38,  1.29s/it]"
     ]
    },
    {
     "name": "stdout",
     "output_type": "stream",
     "text": [
      "Original text:\n",
      " How can I connect with alumni from my program or other international students at the university?\n",
      "**************************************************\n",
      "Translated text:\n",
      " Wie kann ich mit Absolventen meines Programms oder anderen internationalen Studenten an der Universität in Verbindung treten?\n",
      "--------------------------------------------------\n"
     ]
    },
    {
     "name": "stderr",
     "output_type": "stream",
     "text": [
      " 77%|███████▋  | 261/337 [05:39<01:30,  1.19s/it]"
     ]
    },
    {
     "name": "stdout",
     "output_type": "stream",
     "text": [
      "Original text:\n",
      " Wann sind die Semester Ferien?\n",
      "**************************************************\n",
      "Translated text:\n",
      " When are the semester holidays?\n",
      "--------------------------------------------------\n"
     ]
    },
    {
     "name": "stderr",
     "output_type": "stream",
     "text": [
      " 78%|███████▊  | 262/337 [05:39<01:19,  1.06s/it]"
     ]
    },
    {
     "name": "stdout",
     "output_type": "stream",
     "text": [
      "Original text:\n",
      " Wann ist das Examination Office geöffnet?\n",
      "**************************************************\n",
      "Translated text:\n",
      " When is the Examination Office open?\n",
      "--------------------------------------------------\n"
     ]
    },
    {
     "name": "stderr",
     "output_type": "stream",
     "text": [
      " 78%|███████▊  | 263/337 [05:41<01:26,  1.16s/it]"
     ]
    },
    {
     "name": "stdout",
     "output_type": "stream",
     "text": [
      "Original text:\n",
      " Wo finde ich Informationen zur mündlichen Prüfung im Bachelor Cognitive Science?\n",
      "**************************************************\n",
      "Translated text:\n",
      " Where can I find information about the oral exam in Bachelor Cognitive Science?\n",
      "--------------------------------------------------\n"
     ]
    },
    {
     "name": "stderr",
     "output_type": "stream",
     "text": [
      " 78%|███████▊  | 264/337 [05:42<01:29,  1.23s/it]"
     ]
    },
    {
     "name": "stdout",
     "output_type": "stream",
     "text": [
      "Original text:\n",
      " Wie wurde die Uni von ehemaligen Studenten bewertet? \n",
      "**************************************************\n",
      "Translated text:\n",
      " How was the university rated by former students?\n",
      "--------------------------------------------------\n"
     ]
    },
    {
     "name": "stderr",
     "output_type": "stream",
     "text": [
      " 79%|███████▊  | 265/337 [05:43<01:27,  1.21s/it]"
     ]
    },
    {
     "name": "stdout",
     "output_type": "stream",
     "text": [
      "Original text:\n",
      " Was kannst du mir zu dem Studiengang (bsp: Jura) erzählen?\n",
      "**************************************************\n",
      "Translated text:\n",
      " What can you tell me about the course of study (for example: law)?\n",
      "--------------------------------------------------\n"
     ]
    },
    {
     "name": "stderr",
     "output_type": "stream",
     "text": [
      " 79%|███████▉  | 266/337 [05:44<01:23,  1.18s/it]"
     ]
    },
    {
     "name": "stdout",
     "output_type": "stream",
     "text": [
      "Original text:\n",
      " How can I meet other international students?\n",
      "**************************************************\n",
      "Translated text:\n",
      " Wie kann ich andere internationale Studenten treffen?\n",
      "--------------------------------------------------\n"
     ]
    },
    {
     "name": "stderr",
     "output_type": "stream",
     "text": [
      " 79%|███████▉  | 267/337 [05:46<01:28,  1.27s/it]"
     ]
    },
    {
     "name": "stdout",
     "output_type": "stream",
     "text": [
      "Original text:\n",
      " Welche Events, abgesehen vom Campus Festival, gibt es von der Universität aus? \n",
      "**************************************************\n",
      "Translated text:\n",
      " What events, apart from the Campus Festival, are there from the university?\n",
      "--------------------------------------------------\n"
     ]
    },
    {
     "name": "stderr",
     "output_type": "stream",
     "text": [
      " 80%|███████▉  | 268/337 [05:47<01:24,  1.23s/it]"
     ]
    },
    {
     "name": "stdout",
     "output_type": "stream",
     "text": [
      "Original text:\n",
      " Wie hoch ist die Studiengebühr für diesen Studiengang/ diese Univerität\n",
      "**************************************************\n",
      "Translated text:\n",
      " What is the tuition fee for this course/ this university?\n",
      "--------------------------------------------------\n"
     ]
    },
    {
     "name": "stderr",
     "output_type": "stream",
     "text": [
      " 80%|███████▉  | 269/337 [05:48<01:23,  1.23s/it]"
     ]
    },
    {
     "name": "stdout",
     "output_type": "stream",
     "text": [
      "Original text:\n",
      " Wo wohnen die meisten Studenten, und wie findet man ein Zimmer in Osnabrück?\n",
      "**************************************************\n",
      "Translated text:\n",
      " Where do most students live, and how does one find a room in Osnabrück?\n",
      "--------------------------------------------------\n"
     ]
    },
    {
     "name": "stderr",
     "output_type": "stream",
     "text": [
      " 80%|████████  | 270/337 [05:50<01:23,  1.24s/it]"
     ]
    },
    {
     "name": "stdout",
     "output_type": "stream",
     "text": [
      "Original text:\n",
      " Worauf muss ich besonders bei Hausarbeiten achten?\n",
      "**************************************************\n",
      "Translated text:\n",
      " What should I pay special attention to when doing housework?\n",
      "--------------------------------------------------\n"
     ]
    },
    {
     "name": "stderr",
     "output_type": "stream",
     "text": [
      " 80%|████████  | 271/337 [05:51<01:24,  1.28s/it]"
     ]
    },
    {
     "name": "stdout",
     "output_type": "stream",
     "text": [
      "Original text:\n",
      " Wie ist die Geschichte der Uni?\n",
      "**************************************************\n",
      "Translated text:\n",
      " What is the history of the university?\n",
      "--------------------------------------------------\n"
     ]
    },
    {
     "name": "stderr",
     "output_type": "stream",
     "text": [
      " 81%|████████  | 272/337 [05:52<01:13,  1.14s/it]"
     ]
    },
    {
     "name": "stdout",
     "output_type": "stream",
     "text": [
      "Original text:\n",
      " Gibt es Studentenwohnheime?\n",
      "**************************************************\n",
      "Translated text:\n",
      " Are there student dormitories?\n",
      "--------------------------------------------------\n"
     ]
    },
    {
     "name": "stderr",
     "output_type": "stream",
     "text": [
      " 81%|████████  | 273/337 [05:53<01:06,  1.05s/it]"
     ]
    },
    {
     "name": "stdout",
     "output_type": "stream",
     "text": [
      "Original text:\n",
      " Kann ich länger als Regelstudienzeit studieren?\n",
      "**************************************************\n",
      "Translated text:\n",
      " Can I study longer than the standard period of study?\n",
      "--------------------------------------------------\n"
     ]
    },
    {
     "name": "stderr",
     "output_type": "stream",
     "text": [
      " 81%|████████▏ | 274/337 [05:54<01:03,  1.01s/it]"
     ]
    },
    {
     "name": "stdout",
     "output_type": "stream",
     "text": [
      "Original text:\n",
      " Are there student accomodations available?\n",
      "**************************************************\n",
      "Translated text:\n",
      " Gibt es verfügbare Studentenunterkünfte?\n",
      "--------------------------------------------------\n"
     ]
    },
    {
     "name": "stderr",
     "output_type": "stream",
     "text": [
      " 82%|████████▏ | 275/337 [05:54<01:01,  1.01it/s]"
     ]
    },
    {
     "name": "stdout",
     "output_type": "stream",
     "text": [
      "Original text:\n",
      " Wie viele Lerher gibt es an der Uni?\n",
      "**************************************************\n",
      "Translated text:\n",
      " How many teachers are there at the university?\n",
      "--------------------------------------------------\n"
     ]
    },
    {
     "name": "stderr",
     "output_type": "stream",
     "text": [
      " 82%|████████▏ | 276/337 [05:56<01:03,  1.04s/it]"
     ]
    },
    {
     "name": "stdout",
     "output_type": "stream",
     "text": [
      "Original text:\n",
      " Welche Berufe kann man mi dem Abschluss machen\n",
      "**************************************************\n",
      "Translated text:\n",
      " What jobs can you do with the degree?\n",
      "--------------------------------------------------\n"
     ]
    },
    {
     "name": "stderr",
     "output_type": "stream",
     "text": [
      " 82%|████████▏ | 277/337 [05:57<01:00,  1.01s/it]"
     ]
    },
    {
     "name": "stdout",
     "output_type": "stream",
     "text": [
      "Original text:\n",
      " Wie kann ich mich bewerben?\n",
      "**************************************************\n",
      "Translated text:\n",
      " How can I apply?\n",
      "--------------------------------------------------\n"
     ]
    },
    {
     "name": "stderr",
     "output_type": "stream",
     "text": [
      " 82%|████████▏ | 278/337 [05:58<00:59,  1.01s/it]"
     ]
    },
    {
     "name": "stdout",
     "output_type": "stream",
     "text": [
      "Original text:\n",
      " Welche Wahlpflichtkurse gibt es?\n",
      "**************************************************\n",
      "Translated text:\n",
      " What elective courses are there?\n",
      "--------------------------------------------------\n"
     ]
    },
    {
     "name": "stderr",
     "output_type": "stream",
     "text": [
      " 83%|████████▎ | 279/337 [05:59<00:59,  1.03s/it]"
     ]
    },
    {
     "name": "stdout",
     "output_type": "stream",
     "text": [
      "Original text:\n",
      " Welche Moeglichkeiten einer Studienfinanzierung gibt es\n",
      "**************************************************\n",
      "Translated text:\n",
      " What are the possibilities for financing a study?\n",
      "--------------------------------------------------\n"
     ]
    },
    {
     "name": "stderr",
     "output_type": "stream",
     "text": [
      " 83%|████████▎ | 280/337 [06:00<01:00,  1.06s/it]"
     ]
    },
    {
     "name": "stdout",
     "output_type": "stream",
     "text": [
      "Original text:\n",
      " Was sind die schwierigsten Studienfächer?\n",
      "**************************************************\n",
      "Translated text:\n",
      " What are the most difficult subjects to study?\n",
      "--------------------------------------------------\n"
     ]
    },
    {
     "name": "stderr",
     "output_type": "stream",
     "text": [
      " 83%|████████▎ | 281/337 [06:01<01:07,  1.21s/it]"
     ]
    },
    {
     "name": "stdout",
     "output_type": "stream",
     "text": [
      "Original text:\n",
      " What are the career services available for students, such as internships, job fairs, or counseling?\n",
      "**************************************************\n",
      "Translated text:\n",
      " Welche Karrieredienste stehen für Studenten zur Verfügung, wie Praktika, Jobmessen oder Beratung?\n",
      "--------------------------------------------------\n"
     ]
    },
    {
     "name": "stderr",
     "output_type": "stream",
     "text": [
      " 84%|████████▎ | 282/337 [06:03<01:09,  1.25s/it]"
     ]
    },
    {
     "name": "stdout",
     "output_type": "stream",
     "text": [
      "Original text:\n",
      " Worauf muss ich achten, wenn ich ein Auslandssemester antrete?\n",
      "**************************************************\n",
      "Translated text:\n",
      " What should I pay attention to when I start a semester abroad?\n",
      "--------------------------------------------------\n"
     ]
    },
    {
     "name": "stderr",
     "output_type": "stream",
     "text": [
      " 84%|████████▍ | 283/337 [06:05<01:17,  1.43s/it]"
     ]
    },
    {
     "name": "stdout",
     "output_type": "stream",
     "text": [
      "Original text:\n",
      " Do I have to complete an internship before or during my studies as a cognitive science student at Osnabrück University?\n",
      "**************************************************\n",
      "Translated text:\n",
      " Muss ich vor oder während meines Studiums als Student der Kognitionswissenschaften an der Universität Osnabrück ein Praktikum absolvieren?\n",
      "--------------------------------------------------\n"
     ]
    },
    {
     "name": "stderr",
     "output_type": "stream",
     "text": [
      " 84%|████████▍ | 284/337 [06:06<01:14,  1.40s/it]"
     ]
    },
    {
     "name": "stdout",
     "output_type": "stream",
     "text": [
      "Original text:\n",
      " Ich will meine BA schreiben, was sind formale Voraussetzungen?\n",
      "**************************************************\n",
      "Translated text:\n",
      " I want to write my BA, what are the formal requirements?\n",
      "--------------------------------------------------\n"
     ]
    },
    {
     "name": "stderr",
     "output_type": "stream",
     "text": [
      " 85%|████████▍ | 285/337 [06:07<01:07,  1.30s/it]"
     ]
    },
    {
     "name": "stdout",
     "output_type": "stream",
     "text": [
      "Original text:\n",
      " Was für Veranstaltungen stehen an?\n",
      "**************************************************\n",
      "Translated text:\n",
      " What events are coming up?\n",
      "--------------------------------------------------\n"
     ]
    },
    {
     "name": "stderr",
     "output_type": "stream",
     "text": [
      " 85%|████████▍ | 286/337 [06:08<01:01,  1.21s/it]"
     ]
    },
    {
     "name": "stdout",
     "output_type": "stream",
     "text": [
      "Original text:\n",
      " Welche Module aus Psychologie und Cognitive Science überschneiden sich und was ist Psychologie spezifisch?\n",
      "**************************************************\n",
      "Translated text:\n",
      " Which modules from Psychology and Cognitive Science overlap and what is specific to Psychology?\n",
      "--------------------------------------------------\n"
     ]
    },
    {
     "name": "stderr",
     "output_type": "stream",
     "text": [
      " 85%|████████▌ | 287/337 [06:09<00:57,  1.15s/it]"
     ]
    },
    {
     "name": "stdout",
     "output_type": "stream",
     "text": [
      "Original text:\n",
      " Wie lautet die aktuelle Prüfungsordnung für Cognitive Science Studierende im Bachelor?\n",
      "**************************************************\n",
      "Translated text:\n",
      " What is the current examination regulations for Cognitive Science undergraduate students?\n",
      "--------------------------------------------------\n"
     ]
    },
    {
     "name": "stderr",
     "output_type": "stream",
     "text": [
      " 85%|████████▌ | 288/337 [06:10<00:51,  1.05s/it]"
     ]
    },
    {
     "name": "stdout",
     "output_type": "stream",
     "text": [
      "Original text:\n",
      " wo finde ich meine Imatrikulationsunterlagen\n",
      "**************************************************\n",
      "Translated text:\n",
      " Where can I find my enrollment documents?\n",
      "--------------------------------------------------\n"
     ]
    },
    {
     "name": "stderr",
     "output_type": "stream",
     "text": [
      " 86%|████████▌ | 289/337 [06:11<00:49,  1.02s/it]"
     ]
    },
    {
     "name": "stdout",
     "output_type": "stream",
     "text": [
      "Original text:\n",
      " An wen wende ich mich bei Fragen zu meiner Studienlaufbahn?\n",
      "**************************************************\n",
      "Translated text:\n",
      " Who do I contact with questions about my academic career?\n",
      "--------------------------------------------------\n"
     ]
    },
    {
     "name": "stderr",
     "output_type": "stream",
     "text": [
      " 86%|████████▌ | 290/337 [06:12<00:51,  1.11s/it]"
     ]
    },
    {
     "name": "stdout",
     "output_type": "stream",
     "text": [
      "Original text:\n",
      " Wie kann ich meine lernen Optimierten. \n",
      "**************************************************\n",
      "Translated text:\n",
      " How can I optimize my learning.\n",
      "--------------------------------------------------\n"
     ]
    },
    {
     "name": "stderr",
     "output_type": "stream",
     "text": [
      " 86%|████████▋ | 291/337 [06:14<00:57,  1.26s/it]"
     ]
    },
    {
     "name": "stdout",
     "output_type": "stream",
     "text": [
      "Original text:\n",
      " Wie wertvoll ist der Bachelor in Cognitive Science für Unternehmen, vor allem im Vergleich zu jemandem der in einem ähnlichen, weiter verbreiteten Studiengang wie z.B. Informatik seinen Bachelor abgeschlossen hat? \n",
      "**************************************************\n",
      "Translated text:\n",
      " How valuable is a Bachelor's degree in Cognitive Science to companies, especially compared to someone who has completed their Bachelor's degree in a similar, more widespread course of study such as Computer Science?\n",
      "--------------------------------------------------\n"
     ]
    },
    {
     "name": "stderr",
     "output_type": "stream",
     "text": [
      " 87%|████████▋ | 292/337 [06:15<00:56,  1.25s/it]"
     ]
    },
    {
     "name": "stdout",
     "output_type": "stream",
     "text": [
      "Original text:\n",
      " Was sind die durschnitts Abschluss noten fuer verschiedene Studienganege und im allgmeinen?\n",
      "**************************************************\n",
      "Translated text:\n",
      " What are the average graduation grades for different courses of study and in general?\n",
      "--------------------------------------------------\n"
     ]
    },
    {
     "name": "stderr",
     "output_type": "stream",
     "text": [
      " 87%|████████▋ | 293/337 [06:16<00:55,  1.26s/it]"
     ]
    },
    {
     "name": "stdout",
     "output_type": "stream",
     "text": [
      "Original text:\n",
      " Was sind die Voraussetzungen um eine Bachelor-Arbeit beim Prüfungsamt anzumelden? \n",
      "**************************************************\n",
      "Translated text:\n",
      " What are the prerequisites to register a bachelor's thesis with the examination office?\n",
      "--------------------------------------------------\n"
     ]
    },
    {
     "name": "stderr",
     "output_type": "stream",
     "text": [
      " 87%|████████▋ | 294/337 [06:18<01:05,  1.53s/it]"
     ]
    },
    {
     "name": "stdout",
     "output_type": "stream",
     "text": [
      "Original text:\n",
      " Where can I find student jobs on the website? Is there a chance to work in the IT field to gain some insightful experience? Is it smart to address lecturers directly for opportunities? \n",
      "**************************************************\n",
      "Translated text:\n",
      " Wo kann ich auf der Website Studentenjobs finden? Gibt es eine Chance, im IT-Bereich zu arbeiten, um einige aufschlussreiche Erfahrungen zu sammeln? Ist es klug, Dozenten direkt auf Möglichkeiten anzusprechen?\n",
      "--------------------------------------------------\n"
     ]
    },
    {
     "name": "stderr",
     "output_type": "stream",
     "text": [
      " 88%|████████▊ | 295/337 [06:20<01:02,  1.49s/it]"
     ]
    },
    {
     "name": "stdout",
     "output_type": "stream",
     "text": [
      "Original text:\n",
      " Was brauche ich alles, um mich für diesen Studiengang zu bewerben, bzw. wie läuft der gesamte Prozess genau ab?\n",
      "**************************************************\n",
      "Translated text:\n",
      " What all do I need to apply for this course of study, or how exactly does the entire process work?\n",
      "--------------------------------------------------\n"
     ]
    },
    {
     "name": "stderr",
     "output_type": "stream",
     "text": [
      " 88%|████████▊ | 296/337 [06:21<00:55,  1.36s/it]"
     ]
    },
    {
     "name": "stdout",
     "output_type": "stream",
     "text": [
      "Original text:\n",
      " Ist der Frosch heute geöffnet?\n",
      "**************************************************\n",
      "Translated text:\n",
      " Is the frog open today?\n",
      "--------------------------------------------------\n"
     ]
    },
    {
     "name": "stderr",
     "output_type": "stream",
     "text": [
      " 88%|████████▊ | 297/337 [06:22<00:49,  1.23s/it]"
     ]
    },
    {
     "name": "stdout",
     "output_type": "stream",
     "text": [
      "Original text:\n",
      " Was sind die Anforderungen für einen Klinischen Master in OS?\n",
      "**************************************************\n",
      "Translated text:\n",
      " What are the requirements for a Clinical Master's in OS?\n",
      "--------------------------------------------------\n"
     ]
    },
    {
     "name": "stderr",
     "output_type": "stream",
     "text": [
      " 88%|████████▊ | 298/337 [06:23<00:47,  1.21s/it]"
     ]
    },
    {
     "name": "stdout",
     "output_type": "stream",
     "text": [
      "Original text:\n",
      " Wie kann ich mich für Sprachkurse am Sprachenzentrum anmelden, und welche Sprachen werden angeboten?\n",
      "**************************************************\n",
      "Translated text:\n",
      " How can I register for language courses at the language center, and what languages are offered?\n",
      "--------------------------------------------------\n"
     ]
    },
    {
     "name": "stderr",
     "output_type": "stream",
     "text": [
      " 89%|████████▊ | 299/337 [06:24<00:45,  1.21s/it]"
     ]
    },
    {
     "name": "stdout",
     "output_type": "stream",
     "text": [
      "Original text:\n",
      " Wie laufen die Bewerbungen ab? Wo finde ich diese Informationen?\n",
      "**************************************************\n",
      "Translated text:\n",
      " How do the applications proceed? Where can I find this information?\n",
      "--------------------------------------------------\n"
     ]
    },
    {
     "name": "stderr",
     "output_type": "stream",
     "text": [
      " 89%|████████▉ | 300/337 [06:25<00:43,  1.17s/it]"
     ]
    },
    {
     "name": "stdout",
     "output_type": "stream",
     "text": [
      "Original text:\n",
      " Wann sind Semesterferien?\n",
      "**************************************************\n",
      "Translated text:\n",
      " When is the semester break?\n",
      "--------------------------------------------------\n"
     ]
    },
    {
     "name": "stderr",
     "output_type": "stream",
     "text": [
      " 89%|████████▉ | 301/337 [06:26<00:38,  1.06s/it]"
     ]
    },
    {
     "name": "stdout",
     "output_type": "stream",
     "text": [
      "Original text:\n",
      " Wo kann ich mich für die Sprachkurse anmelden?\n",
      "**************************************************\n",
      "Translated text:\n",
      " Where can I register for the language courses?\n",
      "--------------------------------------------------\n"
     ]
    },
    {
     "name": "stderr",
     "output_type": "stream",
     "text": [
      " 90%|████████▉ | 302/337 [06:27<00:35,  1.02s/it]"
     ]
    },
    {
     "name": "stdout",
     "output_type": "stream",
     "text": [
      "Original text:\n",
      " Wie finde ich den passenden Studiengang für mich?\n",
      "**************************************************\n",
      "Translated text:\n",
      " How do I find the right course of study for me?\n",
      "--------------------------------------------------\n"
     ]
    },
    {
     "name": "stderr",
     "output_type": "stream",
     "text": [
      " 90%|████████▉ | 303/337 [06:29<00:42,  1.26s/it]"
     ]
    },
    {
     "name": "stdout",
     "output_type": "stream",
     "text": [
      "Original text:\n",
      " Wie wurden die Antwortdaten für diesen Chatbot generiert? (Kontext: Andere \"KI-Bots\" holen ihre Datensätze auf Basis von Ausbeutung anderer Menschen)\n",
      "**************************************************\n",
      "Translated text:\n",
      " How were the response data for this chatbot generated? (Context: Other \"AI bots\" obtain their datasets based on the exploitation of other people)\n",
      "--------------------------------------------------\n"
     ]
    },
    {
     "name": "stderr",
     "output_type": "stream",
     "text": [
      " 90%|█████████ | 304/337 [06:30<00:39,  1.18s/it]"
     ]
    },
    {
     "name": "stdout",
     "output_type": "stream",
     "text": [
      "Original text:\n",
      " Wen kann ich kontaktieren, um einen tropfenden Wasserhahn zu melden? \n",
      "**************************************************\n",
      "Translated text:\n",
      " Who can I contact to report a dripping faucet?\n",
      "--------------------------------------------------\n"
     ]
    },
    {
     "name": "stderr",
     "output_type": "stream",
     "text": [
      " 91%|█████████ | 305/337 [06:31<00:38,  1.19s/it]"
     ]
    },
    {
     "name": "stdout",
     "output_type": "stream",
     "text": [
      "Original text:\n",
      " When is building 50 closed?\n",
      "**************************************************\n",
      "Translated text:\n",
      " Wann ist Gebäude 50 geschlossen?\n",
      "--------------------------------------------------\n"
     ]
    },
    {
     "name": "stderr",
     "output_type": "stream",
     "text": [
      " 91%|█████████ | 306/337 [06:32<00:35,  1.16s/it]"
     ]
    },
    {
     "name": "stdout",
     "output_type": "stream",
     "text": [
      "Original text:\n",
      " Was mache ich, wenn zum Ende meines Studiums Exkursionen fehlen, weil es keine freien Plätze gab?\n",
      "**************************************************\n",
      "Translated text:\n",
      " What do I do if I am missing field trips at the end of my studies because there were no available spots?\n",
      "--------------------------------------------------\n"
     ]
    },
    {
     "name": "stderr",
     "output_type": "stream",
     "text": [
      " 91%|█████████ | 307/337 [06:33<00:35,  1.17s/it]"
     ]
    },
    {
     "name": "stdout",
     "output_type": "stream",
     "text": [
      "Original text:\n",
      " How can I apply for a Phd?\n",
      "**************************************************\n",
      "Translated text:\n",
      " Wie kann ich mich für ein Doktorstudium bewerben?\n",
      "--------------------------------------------------\n"
     ]
    },
    {
     "name": "stderr",
     "output_type": "stream",
     "text": [
      " 91%|█████████▏| 308/337 [06:35<00:35,  1.24s/it]"
     ]
    },
    {
     "name": "stdout",
     "output_type": "stream",
     "text": [
      "Original text:\n",
      " What resources are available to help students with disabilities at Osnabrück University?\n",
      "**************************************************\n",
      "Translated text:\n",
      " Welche Ressourcen stehen Studierenden mit Behinderungen an der Universität Osnabrück zur Verfügung?\n",
      "--------------------------------------------------\n"
     ]
    },
    {
     "name": "stderr",
     "output_type": "stream",
     "text": [
      " 92%|█████████▏| 309/337 [06:36<00:33,  1.18s/it]"
     ]
    },
    {
     "name": "stdout",
     "output_type": "stream",
     "text": [
      "Original text:\n",
      " Wo kann ich mich für Klausuren anmelden?\n",
      "**************************************************\n",
      "Translated text:\n",
      " Where can I register for exams?\n",
      "--------------------------------------------------\n"
     ]
    },
    {
     "name": "stderr",
     "output_type": "stream",
     "text": [
      " 92%|█████████▏| 310/337 [06:37<00:31,  1.16s/it]"
     ]
    },
    {
     "name": "stdout",
     "output_type": "stream",
     "text": [
      "Original text:\n",
      " Wo erfahre ich etwas über Nachteilsausgleiche?\n",
      "**************************************************\n",
      "Translated text:\n",
      " Where can I find information about compensations for disadvantages?\n",
      "--------------------------------------------------\n"
     ]
    },
    {
     "name": "stderr",
     "output_type": "stream",
     "text": [
      " 92%|█████████▏| 311/337 [06:38<00:27,  1.07s/it]"
     ]
    },
    {
     "name": "stdout",
     "output_type": "stream",
     "text": [
      "Original text:\n",
      " Gibt es eine Bibliothek?\n",
      "**************************************************\n",
      "Translated text:\n",
      " Is there a library?\n",
      "--------------------------------------------------\n"
     ]
    },
    {
     "name": "stderr",
     "output_type": "stream",
     "text": [
      " 93%|█████████▎| 312/337 [06:38<00:24,  1.04it/s]"
     ]
    },
    {
     "name": "stdout",
     "output_type": "stream",
     "text": [
      "Original text:\n",
      " Wie sind die Öffnungszeiten der Bibliotheken?\n",
      "**************************************************\n",
      "Translated text:\n",
      " What are the opening hours of the libraries?\n",
      "--------------------------------------------------\n"
     ]
    },
    {
     "name": "stderr",
     "output_type": "stream",
     "text": [
      " 93%|█████████▎| 313/337 [06:40<00:25,  1.08s/it]"
     ]
    },
    {
     "name": "stdout",
     "output_type": "stream",
     "text": [
      "Original text:\n",
      " How can I start looking into exchange programs?\n",
      "**************************************************\n",
      "Translated text:\n",
      " Wie kann ich anfangen, mich über Austauschprogramme zu informieren?\n",
      "--------------------------------------------------\n"
     ]
    },
    {
     "name": "stderr",
     "output_type": "stream",
     "text": [
      " 93%|█████████▎| 314/337 [06:41<00:25,  1.09s/it]"
     ]
    },
    {
     "name": "stdout",
     "output_type": "stream",
     "text": [
      "Original text:\n",
      " Wann und wie läuft das Anmeldeverfahren ab? \n",
      "**************************************************\n",
      "Translated text:\n",
      " When and how does the registration process take place?\n",
      "--------------------------------------------------\n"
     ]
    },
    {
     "name": "stderr",
     "output_type": "stream",
     "text": [
      " 93%|█████████▎| 315/337 [06:42<00:23,  1.08s/it]"
     ]
    },
    {
     "name": "stdout",
     "output_type": "stream",
     "text": [
      "Original text:\n",
      " Was sind Vor- und Nachteile dieser Uni\n",
      "**************************************************\n",
      "Translated text:\n",
      " What are the advantages and disadvantages of this university?\n",
      "--------------------------------------------------\n"
     ]
    },
    {
     "name": "stderr",
     "output_type": "stream",
     "text": [
      " 94%|█████████▍| 316/337 [06:43<00:23,  1.13s/it]"
     ]
    },
    {
     "name": "stdout",
     "output_type": "stream",
     "text": [
      "Original text:\n",
      " Was macht das Studentenleben in Osnabrück besonders?\n",
      "**************************************************\n",
      "Translated text:\n",
      " What makes student life in Osnabrück special?\n",
      "--------------------------------------------------\n"
     ]
    },
    {
     "name": "stderr",
     "output_type": "stream",
     "text": [
      " 94%|█████████▍| 317/337 [06:44<00:20,  1.03s/it]"
     ]
    },
    {
     "name": "stdout",
     "output_type": "stream",
     "text": [
      "Original text:\n",
      " Wann sind die nächsten Semester Ferien?\n",
      "**************************************************\n",
      "Translated text:\n",
      " When are the next semester holidays?\n",
      "--------------------------------------------------\n"
     ]
    },
    {
     "name": "stderr",
     "output_type": "stream",
     "text": [
      " 94%|█████████▍| 318/337 [06:45<00:17,  1.06it/s]"
     ]
    },
    {
     "name": "stdout",
     "output_type": "stream",
     "text": [
      "Original text:\n",
      " Wie sieht die Universität aus?\n",
      "**************************************************\n",
      "Translated text:\n",
      " What does the university look like?\n",
      "--------------------------------------------------\n"
     ]
    },
    {
     "name": "stderr",
     "output_type": "stream",
     "text": [
      " 95%|█████████▍| 319/337 [06:46<00:17,  1.02it/s]"
     ]
    },
    {
     "name": "stdout",
     "output_type": "stream",
     "text": [
      "Original text:\n",
      " Wie sind die Vorlesungen aufgebaut?\n",
      "**************************************************\n",
      "Translated text:\n",
      " How are the lectures structured?\n",
      "--------------------------------------------------\n"
     ]
    },
    {
     "name": "stderr",
     "output_type": "stream",
     "text": [
      " 95%|█████████▍| 320/337 [06:47<00:16,  1.00it/s]"
     ]
    },
    {
     "name": "stdout",
     "output_type": "stream",
     "text": [
      "Original text:\n",
      " Kann ich nach dem Studiumanfang den Studiengang wechseln?\n",
      "**************************************************\n",
      "Translated text:\n",
      " Can I change my course of study after the start of my studies?\n",
      "--------------------------------------------------\n"
     ]
    },
    {
     "name": "stderr",
     "output_type": "stream",
     "text": [
      " 95%|█████████▌| 321/337 [06:48<00:15,  1.06it/s]"
     ]
    },
    {
     "name": "stdout",
     "output_type": "stream",
     "text": [
      "Original text:\n",
      " Are there any scholarships?\n",
      "**************************************************\n",
      "Translated text:\n",
      " Gibt es Stipendien?\n",
      "--------------------------------------------------\n"
     ]
    },
    {
     "name": "stderr",
     "output_type": "stream",
     "text": [
      " 96%|█████████▌| 322/337 [06:49<00:14,  1.01it/s]"
     ]
    },
    {
     "name": "stdout",
     "output_type": "stream",
     "text": [
      "Original text:\n",
      " Bietet die Uni spezielle Aktivitäten an?\n",
      "**************************************************\n",
      "Translated text:\n",
      " Does the university offer special activities?\n",
      "--------------------------------------------------\n"
     ]
    },
    {
     "name": "stderr",
     "output_type": "stream",
     "text": [
      " 96%|█████████▌| 323/337 [06:50<00:14,  1.01s/it]"
     ]
    },
    {
     "name": "stdout",
     "output_type": "stream",
     "text": [
      "Original text:\n",
      " Wann macht ein Master Sinn \n",
      "**************************************************\n",
      "Translated text:\n",
      " When does a Master's make sense\n",
      "--------------------------------------------------\n"
     ]
    },
    {
     "name": "stderr",
     "output_type": "stream",
     "text": [
      " 96%|█████████▌| 324/337 [06:51<00:13,  1.02s/it]"
     ]
    },
    {
     "name": "stdout",
     "output_type": "stream",
     "text": [
      "Original text:\n",
      " An wen kann ich mich wenden?\n",
      "**************************************************\n",
      "Translated text:\n",
      " Who can I turn to?\n",
      "--------------------------------------------------\n"
     ]
    },
    {
     "name": "stderr",
     "output_type": "stream",
     "text": [
      " 96%|█████████▋| 325/337 [06:52<00:11,  1.01it/s]"
     ]
    },
    {
     "name": "stdout",
     "output_type": "stream",
     "text": [
      "Original text:\n",
      " Gibt es ähnliche Studiengänge an anderen Universitäten?\n",
      "**************************************************\n",
      "Translated text:\n",
      " Are there similar courses of study at other universities?\n",
      "--------------------------------------------------\n"
     ]
    },
    {
     "name": "stderr",
     "output_type": "stream",
     "text": [
      " 97%|█████████▋| 326/337 [06:53<00:10,  1.01it/s]"
     ]
    },
    {
     "name": "stdout",
     "output_type": "stream",
     "text": [
      "Original text:\n",
      " Kann ich ein Auslandssemester machen?\n",
      "**************************************************\n",
      "Translated text:\n",
      " Can I do a semester abroad?\n",
      "--------------------------------------------------\n"
     ]
    },
    {
     "name": "stderr",
     "output_type": "stream",
     "text": [
      " 97%|█████████▋| 327/337 [06:54<00:10,  1.05s/it]"
     ]
    },
    {
     "name": "stdout",
     "output_type": "stream",
     "text": [
      "Original text:\n",
      " Welche Jobs kann man mit welchen Studienfächern aufnehmen?\n",
      "**************************************************\n",
      "Translated text:\n",
      " What jobs can you take up with which fields of study?\n",
      "--------------------------------------------------\n"
     ]
    },
    {
     "name": "stderr",
     "output_type": "stream",
     "text": [
      " 97%|█████████▋| 328/337 [06:55<00:09,  1.03s/it]"
     ]
    },
    {
     "name": "stdout",
     "output_type": "stream",
     "text": [
      "Original text:\n",
      " what can you do to help me? what's your capability?\n",
      "**************************************************\n",
      "Translated text:\n",
      " Was können Sie tun, um mir zu helfen? Was sind Ihre Fähigkeiten?\n",
      "--------------------------------------------------\n"
     ]
    },
    {
     "name": "stderr",
     "output_type": "stream",
     "text": [
      " 98%|█████████▊| 329/337 [06:56<00:09,  1.20s/it]"
     ]
    },
    {
     "name": "stdout",
     "output_type": "stream",
     "text": [
      "Original text:\n",
      " Wenn alles was Unternehmen über mich wissen ist, dass ich einen Bachelor in Cognitive Science habe, welche Unternehmen wären daran interessiert mich einzustellen?\n",
      "**************************************************\n",
      "Translated text:\n",
      " If all a company knows about me is that I have a Bachelor's degree in Cognitive Science, which companies would be interested in hiring me?\n",
      "--------------------------------------------------\n"
     ]
    },
    {
     "name": "stderr",
     "output_type": "stream",
     "text": [
      " 98%|█████████▊| 330/337 [06:58<00:09,  1.29s/it]"
     ]
    },
    {
     "name": "stdout",
     "output_type": "stream",
     "text": [
      "Original text:\n",
      " I have an idea how to improve the lecture recordings. Who can I talk to to discuss my ideas? \n",
      "**************************************************\n",
      "Translated text:\n",
      " Ich habe eine Idee, wie man die Vorlesungsaufzeichnungen verbessern kann. Mit wem kann ich sprechen, um meine Ideen zu diskutieren?\n",
      "--------------------------------------------------\n"
     ]
    },
    {
     "name": "stderr",
     "output_type": "stream",
     "text": [
      " 98%|█████████▊| 331/337 [06:59<00:07,  1.24s/it]"
     ]
    },
    {
     "name": "stdout",
     "output_type": "stream",
     "text": [
      "Original text:\n",
      " Wie genau funktioniert das mit den Langzeitstudiengebühren?\n",
      "**************************************************\n",
      "Translated text:\n",
      " How exactly do the long-term study fees work?\n",
      "--------------------------------------------------\n"
     ]
    },
    {
     "name": "stderr",
     "output_type": "stream",
     "text": [
      " 99%|█████████▊| 332/337 [07:00<00:06,  1.24s/it]"
     ]
    },
    {
     "name": "stdout",
     "output_type": "stream",
     "text": [
      "Original text:\n",
      " Wann wird der NC für Psychologie veröffentlicht? Gibt es einen bestimmten Wert mit dem man rechnen kann? \n",
      "**************************************************\n",
      "Translated text:\n",
      " When will the NC for Psychology be published? Is there a specific value one can expect?\n",
      "--------------------------------------------------\n"
     ]
    },
    {
     "name": "stderr",
     "output_type": "stream",
     "text": [
      " 99%|█████████▉| 333/337 [07:01<00:04,  1.17s/it]"
     ]
    },
    {
     "name": "stdout",
     "output_type": "stream",
     "text": [
      "Original text:\n",
      " Ich habe meine Campuskarte verloren. wie kriege ich eine neue?\n",
      "**************************************************\n",
      "Translated text:\n",
      " I have lost my campus card. How do I get a new one?\n",
      "--------------------------------------------------\n"
     ]
    },
    {
     "name": "stderr",
     "output_type": "stream",
     "text": [
      " 99%|█████████▉| 334/337 [07:02<00:03,  1.10s/it]"
     ]
    },
    {
     "name": "stdout",
     "output_type": "stream",
     "text": [
      "Original text:\n",
      " Welches Wissen aus dem Bereich Cognitive Science ist für verschiedene Unternehmen am relevantesten? \n",
      "**************************************************\n",
      "Translated text:\n",
      " Which knowledge from the field of Cognitive Science is most relevant for various companies?\n",
      "--------------------------------------------------\n"
     ]
    },
    {
     "name": "stderr",
     "output_type": "stream",
     "text": [
      " 99%|█████████▉| 335/337 [07:04<00:02,  1.22s/it]"
     ]
    },
    {
     "name": "stdout",
     "output_type": "stream",
     "text": [
      "Original text:\n",
      " Wen kann ich bei konkreten Fragen zum Studienalltag kontaktieren, wenn ich gern mit einem Menschen sprechen möchte?\n",
      "**************************************************\n",
      "Translated text:\n",
      " Who can I contact with specific questions about everyday student life if I would like to speak with a person?\n",
      "--------------------------------------------------\n"
     ]
    },
    {
     "name": "stderr",
     "output_type": "stream",
     "text": [
      "100%|█████████▉| 336/337 [07:05<00:01,  1.34s/it]"
     ]
    },
    {
     "name": "stdout",
     "output_type": "stream",
     "text": [
      "Original text:\n",
      " Gibt es Besonderheiten für Psychologie in Osnabrück und in welche Richtungen kann ich mich später spezialisieren? \n",
      "**************************************************\n",
      "Translated text:\n",
      " Are there any special features for psychology in Osnabrück and in which directions can I specialize later?\n",
      "--------------------------------------------------\n"
     ]
    },
    {
     "name": "stderr",
     "output_type": "stream",
     "text": [
      "100%|██████████| 337/337 [07:09<00:00,  1.27s/it]"
     ]
    },
    {
     "name": "stdout",
     "output_type": "stream",
     "text": [
      "Original text:\n",
      " Wo kann ich sehen ab wann ich mich für Psychologie einschreiben kann? \n",
      "**************************************************\n",
      "Translated text:\n",
      " Where can I see from when I can enroll for psychology?\n",
      "--------------------------------------------------\n"
     ]
    },
    {
     "name": "stderr",
     "output_type": "stream",
     "text": [
      "\n"
     ]
    },
    {
     "data": {
      "text/html": [
       "<div>\n",
       "<style scoped>\n",
       "    .dataframe tbody tr th:only-of-type {\n",
       "        vertical-align: middle;\n",
       "    }\n",
       "\n",
       "    .dataframe tbody tr th {\n",
       "        vertical-align: top;\n",
       "    }\n",
       "\n",
       "    .dataframe thead th {\n",
       "        text-align: right;\n",
       "    }\n",
       "</style>\n",
       "<table border=\"1\" class=\"dataframe\">\n",
       "  <thead>\n",
       "    <tr style=\"text-align: right;\">\n",
       "      <th></th>\n",
       "      <th>german_question_text_q</th>\n",
       "      <th>english_question_text_q</th>\n",
       "      <th>question_text_q</th>\n",
       "      <th>role_q</th>\n",
       "      <th>program_q</th>\n",
       "      <th>participant_id_q</th>\n",
       "      <th>question_id_q</th>\n",
       "      <th>question_language_q</th>\n",
       "      <th>age_q</th>\n",
       "      <th>gender_q</th>\n",
       "      <th>gender[other]_q</th>\n",
       "      <th>educationlevel_q</th>\n",
       "      <th>educationstatus_q</th>\n",
       "      <th>familiar_q</th>\n",
       "      <th>interviewtime_q</th>\n",
       "      <th>demographics_time_q</th>\n",
       "      <th>question_time_q</th>\n",
       "      <th>email_time_q</th>\n",
       "      <th>translation_done_q</th>\n",
       "    </tr>\n",
       "  </thead>\n",
       "  <tbody>\n",
       "    <tr>\n",
       "      <th>0</th>\n",
       "      <td>Was lernen Studenten normalerweise in der Kogn...</td>\n",
       "      <td>What do students usually learn in cognitive sc...</td>\n",
       "      <td>What do students usually learn in cognitive sc...</td>\n",
       "      <td>enrolled</td>\n",
       "      <td>Cognitive Science</td>\n",
       "      <td>17</td>\n",
       "      <td>2</td>\n",
       "      <td>en</td>\n",
       "      <td>A2</td>\n",
       "      <td>A2</td>\n",
       "      <td>NaN</td>\n",
       "      <td>A4</td>\n",
       "      <td>A4</td>\n",
       "      <td>A2</td>\n",
       "      <td>415.44</td>\n",
       "      <td>38.97</td>\n",
       "      <td>356.76</td>\n",
       "      <td>19.71</td>\n",
       "      <td>True</td>\n",
       "    </tr>\n",
       "    <tr>\n",
       "      <th>1</th>\n",
       "      <td>Ich möchte hier studieren, wo kann ich mehr In...</td>\n",
       "      <td>I want to study here, where can I find more in...</td>\n",
       "      <td>Ich möchte hier studieren, wo kann ich mehr In...</td>\n",
       "      <td>enrolled</td>\n",
       "      <td>Bachelor of Science Cognitive Science</td>\n",
       "      <td>18</td>\n",
       "      <td>3</td>\n",
       "      <td>de</td>\n",
       "      <td>A2</td>\n",
       "      <td>A1</td>\n",
       "      <td>NaN</td>\n",
       "      <td>A4</td>\n",
       "      <td>A4</td>\n",
       "      <td>A2</td>\n",
       "      <td>539.12</td>\n",
       "      <td>66.19</td>\n",
       "      <td>456.09</td>\n",
       "      <td>16.84</td>\n",
       "      <td>True</td>\n",
       "    </tr>\n",
       "    <tr>\n",
       "      <th>2</th>\n",
       "      <td>Wie erreiche ich das Students Office?</td>\n",
       "      <td>How do I reach the Students Office?</td>\n",
       "      <td>Wie erreiche ich das Students Office?</td>\n",
       "      <td>enrolled</td>\n",
       "      <td>Cognitive Science</td>\n",
       "      <td>19</td>\n",
       "      <td>4</td>\n",
       "      <td>de</td>\n",
       "      <td>A3</td>\n",
       "      <td>A2</td>\n",
       "      <td>NaN</td>\n",
       "      <td>A5</td>\n",
       "      <td>A4</td>\n",
       "      <td>A1</td>\n",
       "      <td>419.18</td>\n",
       "      <td>34.73</td>\n",
       "      <td>379.10</td>\n",
       "      <td>5.35</td>\n",
       "      <td>True</td>\n",
       "    </tr>\n",
       "    <tr>\n",
       "      <th>3</th>\n",
       "      <td>Wie könnte mein Stundenplan im Studiengang Cog...</td>\n",
       "      <td>What could my schedule look like in the Cognit...</td>\n",
       "      <td>Wie könnte mein Stundenplan im Studiengang Cog...</td>\n",
       "      <td>enrolled</td>\n",
       "      <td>Cognitive Science</td>\n",
       "      <td>20</td>\n",
       "      <td>5</td>\n",
       "      <td>de</td>\n",
       "      <td>A2</td>\n",
       "      <td>A2</td>\n",
       "      <td>NaN</td>\n",
       "      <td>A4</td>\n",
       "      <td>A4</td>\n",
       "      <td>A2</td>\n",
       "      <td>443.46</td>\n",
       "      <td>49.35</td>\n",
       "      <td>347.80</td>\n",
       "      <td>46.31</td>\n",
       "      <td>True</td>\n",
       "    </tr>\n",
       "    <tr>\n",
       "      <th>4</th>\n",
       "      <td>Welche Studiengänge gibt es, die ausschließlic...</td>\n",
       "      <td>What courses are there that are taught exclusi...</td>\n",
       "      <td>Welche Studiengänge gibt es, die ausschließlic...</td>\n",
       "      <td>enrolled</td>\n",
       "      <td>Cognitive Science</td>\n",
       "      <td>21</td>\n",
       "      <td>6</td>\n",
       "      <td>de</td>\n",
       "      <td>A2</td>\n",
       "      <td>A2</td>\n",
       "      <td>NaN</td>\n",
       "      <td>A5</td>\n",
       "      <td>A4</td>\n",
       "      <td>A3</td>\n",
       "      <td>848.80</td>\n",
       "      <td>55.92</td>\n",
       "      <td>751.32</td>\n",
       "      <td>41.56</td>\n",
       "      <td>True</td>\n",
       "    </tr>\n",
       "  </tbody>\n",
       "</table>\n",
       "</div>"
      ],
      "text/plain": [
       "                              german_question_text_q  \\\n",
       "0  Was lernen Studenten normalerweise in der Kogn...   \n",
       "1  Ich möchte hier studieren, wo kann ich mehr In...   \n",
       "2              Wie erreiche ich das Students Office?   \n",
       "3  Wie könnte mein Stundenplan im Studiengang Cog...   \n",
       "4  Welche Studiengänge gibt es, die ausschließlic...   \n",
       "\n",
       "                             english_question_text_q  \\\n",
       "0  What do students usually learn in cognitive sc...   \n",
       "1  I want to study here, where can I find more in...   \n",
       "2                How do I reach the Students Office?   \n",
       "3  What could my schedule look like in the Cognit...   \n",
       "4  What courses are there that are taught exclusi...   \n",
       "\n",
       "                                     question_text_q    role_q  \\\n",
       "0  What do students usually learn in cognitive sc...  enrolled   \n",
       "1  Ich möchte hier studieren, wo kann ich mehr In...  enrolled   \n",
       "2              Wie erreiche ich das Students Office?  enrolled   \n",
       "3  Wie könnte mein Stundenplan im Studiengang Cog...  enrolled   \n",
       "4  Welche Studiengänge gibt es, die ausschließlic...  enrolled   \n",
       "\n",
       "                               program_q  participant_id_q  question_id_q  \\\n",
       "0                      Cognitive Science                17              2   \n",
       "1  Bachelor of Science Cognitive Science                18              3   \n",
       "2                      Cognitive Science                19              4   \n",
       "3                      Cognitive Science                20              5   \n",
       "4                      Cognitive Science                21              6   \n",
       "\n",
       "  question_language_q age_q gender_q gender[other]_q educationlevel_q  \\\n",
       "0                  en    A2       A2             NaN               A4   \n",
       "1                  de    A2       A1             NaN               A4   \n",
       "2                  de    A3       A2             NaN               A5   \n",
       "3                  de    A2       A2             NaN               A4   \n",
       "4                  de    A2       A2             NaN               A5   \n",
       "\n",
       "  educationstatus_q familiar_q  interviewtime_q  demographics_time_q  \\\n",
       "0                A4         A2           415.44                38.97   \n",
       "1                A4         A2           539.12                66.19   \n",
       "2                A4         A1           419.18                34.73   \n",
       "3                A4         A2           443.46                49.35   \n",
       "4                A4         A3           848.80                55.92   \n",
       "\n",
       "   question_time_q  email_time_q  translation_done_q  \n",
       "0           356.76         19.71                True  \n",
       "1           456.09         16.84                True  \n",
       "2           379.10          5.35                True  \n",
       "3           347.80         46.31                True  \n",
       "4           751.32         41.56                True  "
      ]
     },
     "execution_count": 1,
     "metadata": {},
     "output_type": "execute_result"
    }
   ],
   "source": [
    "# Translating questions between German <-> English\n",
    "import os\n",
    "import pandas as pd\n",
    "from tqdm import tqdm\n",
    "from openai import OpenAI\n",
    "\n",
    "# Load environment variables\n",
    "client = OpenAI(api_key=os.environ.get(\"OPENAI_API_KEY\"))\n",
    "\n",
    "file_path = '../../data/question_survey/question_dataset_reviewed.csv'\n",
    "question_data_translated = pd.read_csv(file_path)\n",
    "\n",
    "def translate_text(text, target_language):\n",
    "    \"\"\"\n",
    "    Translates a given text to the target language using GPT-4. \n",
    "    If there's an error, or if the target language isn't recognized, \n",
    "    return the original text and mark success=False.\n",
    "    \"\"\"\n",
    "    try:\n",
    "        if target_language == \"de\":\n",
    "            prompt = f\"Translate the following text to German:\\n{text}\"\n",
    "        elif target_language == \"en\":\n",
    "            prompt = f\"Translate the following text to English:\\n{text}\"\n",
    "        else:\n",
    "            # If no recognized target language, return as-is\n",
    "            return text, False\n",
    "\n",
    "        system_message = {\n",
    "            \"role\": \"system\",\n",
    "            \"content\": (\n",
    "                \"You are a translation assistant. Please translate the user's input as accurately as possible, \"\n",
    "                \"ensuring that the original meaning is preserved. Maintain all punctuation, formatting, and any \"\n",
    "                \"special characters exactly as they appear in the original text. Do not add any additional information. \"\n",
    "                \"OUTPUT ONLY THE TRANSLATED TEXT WITHOUT SPECIAL CHARACTERS BEFORE OR AFTER.\"\n",
    "            )\n",
    "        }\n",
    "\n",
    "        response = client.chat.completions.create(\n",
    "            messages=[system_message, {\"role\": \"user\", \"content\": prompt}],\n",
    "            model=\"gpt-4o-2024-08-06\",\n",
    "            temperature=0,\n",
    "        )\n",
    "\n",
    "        translated = response.choices[0].message.content.strip()\n",
    "        return translated, True\n",
    "\n",
    "    except Exception as e:\n",
    "        print(f\"Error translating text: {e}\")\n",
    "        return text, False\n",
    "\n",
    "# Prepare lists to store the final columns\n",
    "german_questions = []\n",
    "english_questions = []\n",
    "translation_done = []\n",
    "\n",
    "for _, row in tqdm(question_data_translated.iterrows(), total=question_data_translated.shape[0]):\n",
    "    original_text = row['question_text']\n",
    "    original_lang = row['question_language']\n",
    "\n",
    "    # Default to storing the original text in both columns if something unexpected\n",
    "    g_text = original_text\n",
    "    e_text = original_text\n",
    "    success = False\n",
    "\n",
    "    # CASE 1: If original is English, store as English -> translate to German\n",
    "    if original_lang == 'en':\n",
    "        e_text = original_text\n",
    "        g_text, success = translate_text(original_text, \"de\")\n",
    "        print(\"Original text:\\n\", e_text)\n",
    "        print(\"*\" * 50)\n",
    "        print(\"Translated text:\\n\", g_text)\n",
    "        print(\"-\" * 50)\n",
    "\n",
    "    # CASE 2: If original is German, store as German -> translate to English\n",
    "    elif original_lang == 'de':\n",
    "        g_text = original_text\n",
    "        e_text, success = translate_text(original_text, \"en\")\n",
    "        print(\"Original text:\\n\", g_text)\n",
    "        print(\"*\" * 50)\n",
    "        print(\"Translated text:\\n\", e_text)\n",
    "        print(\"-\" * 50)\n",
    "\n",
    "    else:\n",
    "        g_text = original_text\n",
    "        e_text = original_text\n",
    "        success = False\n",
    "\n",
    "    german_questions.append(g_text)\n",
    "    english_questions.append(e_text)\n",
    "    translation_done.append(success)\n",
    "\n",
    "# Insert the two new columns into the DataFrame\n",
    "#   german_question_text  (index 0, i.e., first column)\n",
    "#   english_question_text (index 1, i.e., second column)\n",
    "question_data_translated.insert(0, 'german_question_text', german_questions)\n",
    "question_data_translated.insert(1, 'english_question_text', english_questions)\n",
    "\n",
    "# Indicate whether a translation took place\n",
    "question_data_translated['translation_done'] = translation_done\n",
    "\n",
    "# Append to every column '_q' to indicate that it is from the question survey\n",
    "question_data_translated.columns = [f\"{col}_q\" for col in question_data_translated.columns]\n",
    "\n",
    "# Finally, save to a new CSV\n",
    "output_path_translated = '../../data/question_survey/questions_dataset_reviewed_translated_all.csv'\n",
    "question_data_translated.to_csv(output_path_translated, index=False, quoting=1)\n",
    "\n",
    "# Display the updated DataFrame\n",
    "question_data_translated.head()\n"
   ]
  },
  {
   "cell_type": "code",
   "execution_count": 3,
   "metadata": {},
   "outputs": [],
   "source": [
    "file_path = '../../data/question_survey/questions_dataset_reviewed_translated_all.csv'\n",
    "question_data_translated = pd.read_csv(file_path)\n",
    "# drop the questoin_test_q column\n",
    "question_data_translated = question_data_translated.drop(columns=['question_text_q'])\n",
    "# Save the cleaned question dataset to a CSV file\n",
    "output_path_translated = '../../data/question_survey/questions_dataset_reviewed_translated_de_en.csv'\n",
    "question_data_translated.to_csv(output_path_translated, index=False, quoting=1)"
   ]
  }
 ],
 "metadata": {
  "kernelspec": {
   "display_name": "survey_analysis",
   "language": "python",
   "name": "python3"
  },
  "language_info": {
   "codemirror_mode": {
    "name": "ipython",
    "version": 3
   },
   "file_extension": ".py",
   "mimetype": "text/x-python",
   "name": "python",
   "nbconvert_exporter": "python",
   "pygments_lexer": "ipython3",
   "version": "3.10.15"
  }
 },
 "nbformat": 4,
 "nbformat_minor": 2
}
