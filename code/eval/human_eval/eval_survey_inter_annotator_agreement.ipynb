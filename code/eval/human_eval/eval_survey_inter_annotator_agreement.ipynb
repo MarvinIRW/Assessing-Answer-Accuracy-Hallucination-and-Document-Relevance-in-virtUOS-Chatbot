{
 "cells": [
  {
   "cell_type": "code",
   "execution_count": 24,
   "metadata": {},
   "outputs": [
    {
     "name": "stdout",
     "output_type": "stream",
     "text": [
      "Inter-Annotator Agreement (Krippendorff's Alpha) for each dimension:\n",
      "hallucination: 0.218\n",
      "answer_acc: 0.040\n",
      "user_sat: 0.055\n",
      "coherence: 0.390\n",
      "context_qual: 0.178\n",
      "overall: 0.162\n"
     ]
    }
   ],
   "source": [
    "# Re-import the necessary modules and re-load the data\n",
    "import pandas as pd\n",
    "import krippendorff\n",
    "import numpy as np\n",
    "\n",
    "# Reload the dataset\n",
    "data = pd.read_csv('../../../testing\\human_eval_long.csv', encoding='utf-8')\n",
    "\n",
    "# First, let's convert the categorical responses to numeric\n",
    "# Assuming responses are in format 'A1', 'A2', etc.\n",
    "for col in ['hallucination', 'answer_acc', 'user_sat', 'coherence', 'context_qual', 'overall']:\n",
    "    data[col] = data[col].map({'A1': 1, 'A2': 2, 'A3': 3, 'A4': 4, 'A5': 5})\n",
    "    \n",
    "\n",
    "# Function to calculate Krippendorff's alpha for each dimension\n",
    "def calculate_krippendorff_alpha(data, dimension):\n",
    "    # Pivot the data to create a matrix where rows are items and columns are raters\n",
    "    reliability_data = data.pivot(index='question_number', columns='id', values=dimension)\n",
    "    # Convert to numpy array\n",
    "    reliability_matrix = reliability_data.values\n",
    "    # Calculate Krippendorff's alpha\n",
    "    alpha = krippendorff.alpha(reliability_data=reliability_matrix, level_of_measurement='ordinal')\n",
    "    return alpha\n",
    "\n",
    "# Calculate agreement for each dimension\n",
    "evaluation_columns = ['hallucination', 'answer_acc', 'user_sat', 'coherence', 'context_qual', 'overall']\n",
    "agreement_results = {}\n",
    "\n",
    "for col in evaluation_columns:\n",
    "    alpha = calculate_krippendorff_alpha(data, col)\n",
    "    agreement_results[col] = alpha\n",
    "\n",
    "# Display results\n",
    "print(\"Inter-Annotator Agreement (Krippendorff's Alpha) for each dimension:\")\n",
    "for dimension, alpha in agreement_results.items():\n",
    "    print(f\"{dimension}: {alpha:.3f}\")"
   ]
  },
  {
   "cell_type": "code",
   "execution_count": 27,
   "metadata": {},
   "outputs": [
    {
     "name": "stdout",
     "output_type": "stream",
     "text": [
      "Inter-Annotator Agreement (Krippendorff's Alpha) and Mean Spearman Correlation:\n",
      "\n",
      "hallucination: alpha=0.218 | mean_spearman_corr=0.011\n",
      "answer_acc: alpha=0.040 | mean_spearman_corr=0.098\n",
      "user_sat: alpha=0.055 | mean_spearman_corr=0.086\n",
      "coherence: alpha=0.390 | mean_spearman_corr=-0.150\n",
      "context_qual: alpha=0.178 | mean_spearman_corr=0.104\n",
      "overall: alpha=0.162 | mean_spearman_corr=0.135\n"
     ]
    }
   ],
   "source": [
    "import pandas as pd\n",
    "import krippendorff\n",
    "import numpy as np\n",
    "\n",
    "# 1) Load your long-format data\n",
    "data = pd.read_csv(\"../../../testing/human_eval_long.csv\", encoding=\"utf-8\")\n",
    "\n",
    "# 2) Convert 'A1'...'A5' to numeric 1..5\n",
    "for col in ['hallucination', 'answer_acc', 'user_sat', 'coherence', 'context_qual', 'overall']:\n",
    "    data[col] = data[col].map({'A1': 1, 'A2': 2, 'A3': 3, 'A4': 4, 'A5': 5})\n",
    "\n",
    "# 3) Krippendorff’s alpha calculation\n",
    "def calculate_krippendorff_alpha(df, dimension):\n",
    "    # Pivot: rows = items (question_number), columns = raters (id), values = ratings\n",
    "    reliability_data = df.pivot(index='question_number', columns='id', values=dimension)\n",
    "    reliability_matrix = reliability_data.values\n",
    "    # Compute alpha for ordinal data\n",
    "    alpha = krippendorff.alpha(reliability_data=reliability_matrix, level_of_measurement='ordinal')\n",
    "    return alpha\n",
    "\n",
    "# 4) Mean Spearman correlation among raters for each dimension\n",
    "def calculate_mean_spearman_correlation(df, dimension):\n",
    "    # Pivot the same way\n",
    "    reliability_data = df.pivot(index='question_number', columns='id', values=dimension)\n",
    "    # The correlation matrix: how each rater correlates with the others\n",
    "    # Using Spearman since data is ordinal\n",
    "    corr_matrix = reliability_data.corr(method='spearman')\n",
    "\n",
    "    # We only want the mean of the upper triangle (excluding diagonal)\n",
    "    # because the lower triangle is a duplicate of the upper.\n",
    "    upper_tri = corr_matrix.where(np.triu(np.ones(corr_matrix.shape), k=1).astype(bool))\n",
    "    # .stack() collapses the matrix into a Series of correlation values\n",
    "    # .mean() then averages them\n",
    "    mean_corr = upper_tri.stack().mean()\n",
    "    return mean_corr\n",
    "\n",
    "# 5) Loop over your dimensions and compute both metrics\n",
    "evaluation_columns = ['hallucination', 'answer_acc', 'user_sat', 'coherence', 'context_qual', 'overall']\n",
    "results_alpha = {}\n",
    "results_corr = {}\n",
    "\n",
    "for col in evaluation_columns:\n",
    "    alpha_val = calculate_krippendorff_alpha(data, col)\n",
    "    corr_val  = calculate_mean_spearman_correlation(data, col)\n",
    "\n",
    "    results_alpha[col] = alpha_val\n",
    "    results_corr[col]  = corr_val\n",
    "\n",
    "# 6) Print everything\n",
    "print(\"Inter-Annotator Agreement (Krippendorff's Alpha) and Mean Spearman Correlation:\\n\")\n",
    "for dimension in evaluation_columns:\n",
    "    alpha_val = results_alpha[dimension]\n",
    "    corr_val  = results_corr[dimension]\n",
    "    print(f\"{dimension}: alpha={alpha_val:.3f} | mean_spearman_corr={corr_val:.3f}\")\n"
   ]
  }
 ],
 "metadata": {
  "kernelspec": {
   "display_name": "survey_analysis",
   "language": "python",
   "name": "python3"
  },
  "language_info": {
   "codemirror_mode": {
    "name": "ipython",
    "version": 3
   },
   "file_extension": ".py",
   "mimetype": "text/x-python",
   "name": "python",
   "nbconvert_exporter": "python",
   "pygments_lexer": "ipython3",
   "version": "3.10.15"
  }
 },
 "nbformat": 4,
 "nbformat_minor": 2
}
